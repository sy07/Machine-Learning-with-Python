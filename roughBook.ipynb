{
  "nbformat": 4,
  "nbformat_minor": 0,
  "metadata": {
    "colab": {
      "name": "roughBook.ipynb",
      "provenance": [],
      "collapsed_sections": [],
      "toc_visible": true,
      "authorship_tag": "ABX9TyPlXDL9SaDjle4Hzok0E6wU",
      "include_colab_link": true
    },
    "kernelspec": {
      "name": "python3",
      "display_name": "Python 3"
    },
    "language_info": {
      "name": "python"
    }
  },
  "cells": [
    {
      "cell_type": "markdown",
      "metadata": {
        "id": "view-in-github",
        "colab_type": "text"
      },
      "source": [
        "<a href=\"https://colab.research.google.com/github/sy07/Machine-Learning-with-Python/blob/main/roughBook.ipynb\" target=\"_parent\"><img src=\"https://colab.research.google.com/assets/colab-badge.svg\" alt=\"Open In Colab\"/></a>"
      ]
    },
    {
      "cell_type": "code",
      "metadata": {
        "colab": {
          "base_uri": "https://localhost:8080/"
        },
        "id": "5XXfWPKmsJXe",
        "outputId": "82187bd4-7b30-4741-88bc-9f63fa2e951a"
      },
      "source": [
        "t=(1,2,'hello')\n",
        "print(t)"
      ],
      "execution_count": null,
      "outputs": [
        {
          "output_type": "stream",
          "text": [
            "(1, 2, 'hello')\n"
          ],
          "name": "stdout"
        }
      ]
    },
    {
      "cell_type": "code",
      "metadata": {
        "colab": {
          "base_uri": "https://localhost:8080/"
        },
        "id": "Xhsa6SaSsZs4",
        "outputId": "83917db8-a6ed-462a-df89-a7481144e06e"
      },
      "source": [
        "type(t)"
      ],
      "execution_count": null,
      "outputs": [
        {
          "output_type": "execute_result",
          "data": {
            "text/plain": [
              "tuple"
            ]
          },
          "metadata": {
            "tags": []
          },
          "execution_count": 2
        }
      ]
    },
    {
      "cell_type": "markdown",
      "metadata": {
        "id": "qm1RBvCEsh8y"
      },
      "source": [
        "tuple wont allow altering after declared"
      ]
    },
    {
      "cell_type": "markdown",
      "metadata": {
        "id": "AnRL1EEFsoiL"
      },
      "source": [
        "Dictionaryy"
      ]
    },
    {
      "cell_type": "code",
      "metadata": {
        "colab": {
          "base_uri": "https://localhost:8080/"
        },
        "id": "VmnqE08RuwHn",
        "outputId": "3b9f8bf6-ee73-43a5-e361-8d1060df5f8c"
      },
      "source": [
        "d={'red':1,'blue':2,'Black':3,7:4}\n",
        "print(d)"
      ],
      "execution_count": null,
      "outputs": [
        {
          "output_type": "stream",
          "text": [
            "{'red': 1, 'blue': 2, 'Black': 3, 7: 4}\n"
          ],
          "name": "stdout"
        }
      ]
    },
    {
      "cell_type": "code",
      "metadata": {
        "colab": {
          "base_uri": "https://localhost:8080/"
        },
        "id": "4gccdjpZvOV6",
        "outputId": "af80f202-d994-423b-e13e-cfeb400bb1da"
      },
      "source": [
        "l1= ['red','green','blue']\n",
        "l2 = [1,2,3]\n",
        "d = dict(zip(l1,l2))\n",
        "print(d.items())"
      ],
      "execution_count": null,
      "outputs": [
        {
          "output_type": "stream",
          "text": [
            "dict_items([('red', 1), ('green', 2), ('blue', 3)])\n"
          ],
          "name": "stdout"
        }
      ]
    },
    {
      "cell_type": "code",
      "metadata": {
        "colab": {
          "base_uri": "https://localhost:8080/"
        },
        "id": "6RpR4-UTxHYe",
        "outputId": "ffd80822-c6ad-43ca-96b8-d1cde97d17d3"
      },
      "source": [
        "for i in d:\n",
        "  print(i)"
      ],
      "execution_count": null,
      "outputs": [
        {
          "output_type": "stream",
          "text": [
            "red\n",
            "green\n",
            "blue\n"
          ],
          "name": "stdout"
        }
      ]
    },
    {
      "cell_type": "code",
      "metadata": {
        "colab": {
          "base_uri": "https://localhost:8080/"
        },
        "id": "qnTp1LqbxVgl",
        "outputId": "4f5f9710-8038-4bb0-af5f-223752e167a3"
      },
      "source": [
        "e={'qwe':12,'asd':15,'zxc':20}\n",
        "c={12:5,69:13}\n",
        "print(d)\n",
        "print(e)\n",
        "print(c)"
      ],
      "execution_count": null,
      "outputs": [
        {
          "output_type": "stream",
          "text": [
            "{'red': 1, 'green': 2, 'blue': 3}\n",
            "{'qwe': 12, 'asd': 15, 'zxc': 20}\n",
            "{12: 5, 69: 13}\n"
          ],
          "name": "stdout"
        }
      ]
    },
    {
      "cell_type": "code",
      "metadata": {
        "colab": {
          "base_uri": "https://localhost:8080/"
        },
        "id": "Q4-047sryl2B",
        "outputId": "4eb63448-3c61-4d35-a20c-8415b406bbf0"
      },
      "source": [
        "d.update(e)\n",
        "d.update(c)\n",
        "print(d)"
      ],
      "execution_count": null,
      "outputs": [
        {
          "output_type": "stream",
          "text": [
            "{'red': 1, 'green': 2, 'blue': 3, 'qwe': 12, 'asd': 15, 'zxc': 20, 12: 5, 69: 13}\n"
          ],
          "name": "stdout"
        }
      ]
    },
    {
      "cell_type": "markdown",
      "metadata": {
        "id": "sqaCAdZVsDf4"
      },
      "source": [
        "***NUMPY*** dt:- 26-05-21"
      ]
    },
    {
      "cell_type": "code",
      "metadata": {
        "id": "X-9E1aa4sKvn"
      },
      "source": [
        "import numpy as np"
      ],
      "execution_count": null,
      "outputs": []
    },
    {
      "cell_type": "code",
      "metadata": {
        "colab": {
          "base_uri": "https://localhost:8080/"
        },
        "id": "SflED2U-srxl",
        "outputId": "1dcc347f-da36-4f8a-f46b-8d1b3fac723f"
      },
      "source": [
        "''' 1D array'''\n",
        "a = np.array([1,2,3])\n",
        "print(a)\n",
        "print(type(a))"
      ],
      "execution_count": null,
      "outputs": [
        {
          "output_type": "stream",
          "text": [
            "[1 2 3]\n",
            "<class 'numpy.ndarray'>\n"
          ],
          "name": "stdout"
        }
      ]
    },
    {
      "cell_type": "code",
      "metadata": {
        "colab": {
          "base_uri": "https://localhost:8080/"
        },
        "id": "rO4T4TXjtOse",
        "outputId": "2c2d7e6c-db44-4d09-8bec-90be25e2d94b"
      },
      "source": [
        "'''multi-dimensional array'''\n",
        "b = np.array([[1,2,3],[4,5,6],[10,20,30],['yash','banshi','jaimin']])\n",
        "print(b)"
      ],
      "execution_count": null,
      "outputs": [
        {
          "output_type": "stream",
          "text": [
            "[['1' '2' '3']\n",
            " ['4' '5' '6']\n",
            " ['10' '20' '30']\n",
            " ['yash' 'banshi' 'jaimin']]\n"
          ],
          "name": "stdout"
        }
      ]
    },
    {
      "cell_type": "code",
      "metadata": {
        "colab": {
          "base_uri": "https://localhost:8080/"
        },
        "id": "1bzv_dmKt6VR",
        "outputId": "1b9a9c96-961c-4ef2-bb59-865d648ed4f3"
      },
      "source": [
        "np.zeros((2,3))"
      ],
      "execution_count": null,
      "outputs": [
        {
          "output_type": "execute_result",
          "data": {
            "text/plain": [
              "array([[0., 0., 0.],\n",
              "       [0., 0., 0.]])"
            ]
          },
          "metadata": {
            "tags": []
          },
          "execution_count": 8
        }
      ]
    },
    {
      "cell_type": "code",
      "metadata": {
        "colab": {
          "base_uri": "https://localhost:8080/"
        },
        "id": "Hz1y40_kuO4l",
        "outputId": "9dfbc2ea-4f1d-4ea3-d7b4-8c20329c8151"
      },
      "source": [
        "np.arange(10)"
      ],
      "execution_count": null,
      "outputs": [
        {
          "output_type": "execute_result",
          "data": {
            "text/plain": [
              "array([0, 1, 2, 3, 4, 5, 6, 7, 8, 9])"
            ]
          },
          "metadata": {
            "tags": []
          },
          "execution_count": 10
        }
      ]
    },
    {
      "cell_type": "code",
      "metadata": {
        "colab": {
          "base_uri": "https://localhost:8080/"
        },
        "id": "7g97MR77uUZx",
        "outputId": "d9cfc689-5ea6-4bf3-9e0f-e7cecdba4ff7"
      },
      "source": [
        "np.arange(2,5,0.5)"
      ],
      "execution_count": null,
      "outputs": [
        {
          "output_type": "execute_result",
          "data": {
            "text/plain": [
              "array([2. , 2.5, 3. , 3.5, 4. , 4.5])"
            ]
          },
          "metadata": {
            "tags": []
          },
          "execution_count": 12
        }
      ]
    },
    {
      "cell_type": "code",
      "metadata": {
        "colab": {
          "base_uri": "https://localhost:8080/"
        },
        "id": "3FmDGnetufrb",
        "outputId": "005e9e91-a89d-4f55-e89a-46df7e231f57"
      },
      "source": [
        "np.arange(0,10,2)"
      ],
      "execution_count": null,
      "outputs": [
        {
          "output_type": "execute_result",
          "data": {
            "text/plain": [
              "array([0, 2, 4, 6, 8])"
            ]
          },
          "metadata": {
            "tags": []
          },
          "execution_count": 14
        }
      ]
    },
    {
      "cell_type": "code",
      "metadata": {
        "colab": {
          "base_uri": "https://localhost:8080/"
        },
        "id": "6cbo4ow0ulnp",
        "outputId": "5351864d-b34b-4b66-f220-c12c9f7d6326"
      },
      "source": [
        "np.linspace(1,4,5)"
      ],
      "execution_count": null,
      "outputs": [
        {
          "output_type": "execute_result",
          "data": {
            "text/plain": [
              "array([1.  , 1.75, 2.5 , 3.25, 4.  ])"
            ]
          },
          "metadata": {
            "tags": []
          },
          "execution_count": 16
        }
      ]
    },
    {
      "cell_type": "code",
      "metadata": {
        "colab": {
          "base_uri": "https://localhost:8080/"
        },
        "id": "Ht0P4Cx5vL-W",
        "outputId": "a43a5ca4-62aa-4006-b95e-6abd6ee29e52"
      },
      "source": [
        "np.indices((3,3))"
      ],
      "execution_count": null,
      "outputs": [
        {
          "output_type": "execute_result",
          "data": {
            "text/plain": [
              "array([[[0, 0, 0],\n",
              "        [1, 1, 1],\n",
              "        [2, 2, 2]],\n",
              "\n",
              "       [[0, 1, 2],\n",
              "        [0, 1, 2],\n",
              "        [0, 1, 2]]])"
            ]
          },
          "metadata": {
            "tags": []
          },
          "execution_count": 18
        }
      ]
    },
    {
      "cell_type": "code",
      "metadata": {
        "colab": {
          "base_uri": "https://localhost:8080/"
        },
        "id": "QDCDskQ3vtPJ",
        "outputId": "5ecd39bf-3cb3-4c81-f0c7-e789ab143eb3"
      },
      "source": [
        "a=np.array([1,2,3])\n",
        "print(a)\n",
        "print(a.dtype)"
      ],
      "execution_count": null,
      "outputs": [
        {
          "output_type": "stream",
          "text": [
            "[1 2 3]\n",
            "int64\n"
          ],
          "name": "stdout"
        }
      ]
    },
    {
      "cell_type": "code",
      "metadata": {
        "colab": {
          "base_uri": "https://localhost:8080/"
        },
        "id": "JG2WSzKYwY5b",
        "outputId": "7d5241f7-692b-413f-d40f-5165a4f40ce2"
      },
      "source": [
        "\"\"\" NUMpy vs list memory allocation \"\"\"\n",
        "l = range(1000)\n",
        "import sys\n",
        "a = 10\n",
        "print(sys.getsizeof(a))\n",
        "print(sys.getsizeof(a)*len(l))\n",
        "\n",
        "asd = np.arange(1000)\n",
        "print(asd.size*asd.itemsize)\n"
      ],
      "execution_count": null,
      "outputs": [
        {
          "output_type": "stream",
          "text": [
            "28\n",
            "28000\n",
            "8000\n"
          ],
          "name": "stdout"
        }
      ]
    },
    {
      "cell_type": "code",
      "metadata": {
        "colab": {
          "base_uri": "https://localhost:8080/"
        },
        "id": "IBu7UKHJx6VE",
        "outputId": "93a2fa99-88f2-4c02-816a-8bd3d2708e36"
      },
      "source": [
        "''' Numpy vs list speed;'''\n",
        "import time\n",
        "import sys\n",
        "\n",
        "size = 1000000\n",
        "l1 = range(size)\n",
        "l2 = range(size)\n",
        "\n",
        "n1 = np.arange(size)\n",
        "n2 = np.arange(size)\n",
        "\n",
        "start = time.time()\n",
        "result = [(x+y) for x,y in zip(l1,l2)]\n",
        "print((time.time() - start)*1000)\n",
        "\n",
        "\n",
        "start = time.time()\n",
        "result1 = n1+n2\n",
        "print((time.time()-start)*1000)"
      ],
      "execution_count": null,
      "outputs": [
        {
          "output_type": "stream",
          "text": [
            "121.48189544677734\n",
            "2.3107528686523438\n"
          ],
          "name": "stdout"
        }
      ]
    },
    {
      "cell_type": "markdown",
      "metadata": {
        "id": "oMJkV9dn0dz2"
      },
      "source": [
        "NUMPY opertations"
      ]
    },
    {
      "cell_type": "code",
      "metadata": {
        "colab": {
          "base_uri": "https://localhost:8080/"
        },
        "id": "nM_GJk_A0gnS",
        "outputId": "3866d638-6260-4e12-e29c-233529cba62b"
      },
      "source": [
        "a = np.array([[1,2,3],[12,13,14]])\n",
        "print(a.ndim)"
      ],
      "execution_count": null,
      "outputs": [
        {
          "output_type": "stream",
          "text": [
            "2\n"
          ],
          "name": "stdout"
        }
      ]
    },
    {
      "cell_type": "code",
      "metadata": {
        "colab": {
          "base_uri": "https://localhost:8080/"
        },
        "id": "BNFlM51M0yVU",
        "outputId": "0b96f130-29ff-41e5-8125-3889e70f4c2c"
      },
      "source": [
        "print(a.itemsize)\n",
        "print(a.shape)\n",
        "print(a.size)"
      ],
      "execution_count": null,
      "outputs": [
        {
          "output_type": "stream",
          "text": [
            "8\n",
            "(2, 3)\n",
            "6\n"
          ],
          "name": "stdout"
        }
      ]
    },
    {
      "cell_type": "code",
      "metadata": {
        "colab": {
          "base_uri": "https://localhost:8080/"
        },
        "id": "8voVqmbE0_cb",
        "outputId": "ae12d857-d729-4eee-918f-3bfbde8f1fa2"
      },
      "source": [
        "#Reshape of array\n",
        "a"
      ],
      "execution_count": null,
      "outputs": [
        {
          "output_type": "execute_result",
          "data": {
            "text/plain": [
              "array([[ 1,  2,  3],\n",
              "       [12, 13, 14]])"
            ]
          },
          "metadata": {
            "tags": []
          },
          "execution_count": 37
        }
      ]
    },
    {
      "cell_type": "code",
      "metadata": {
        "colab": {
          "base_uri": "https://localhost:8080/"
        },
        "id": "EbddU4sa1evC",
        "outputId": "a5bfb1df-fe08-47fb-e7cd-6359fb66875a"
      },
      "source": [
        "#slicing\n",
        "a\n",
        "a[0,0]"
      ],
      "execution_count": null,
      "outputs": [
        {
          "output_type": "execute_result",
          "data": {
            "text/plain": [
              "1"
            ]
          },
          "metadata": {
            "tags": []
          },
          "execution_count": 38
        }
      ]
    },
    {
      "cell_type": "code",
      "metadata": {
        "colab": {
          "base_uri": "https://localhost:8080/"
        },
        "id": "YESwNW0p11bE",
        "outputId": "7a19d9b5-765f-427d-9f30-0014bc7b664d"
      },
      "source": [
        "a[0:2,1:]"
      ],
      "execution_count": null,
      "outputs": [
        {
          "output_type": "execute_result",
          "data": {
            "text/plain": [
              "array([[ 2,  3],\n",
              "       [13, 14]])"
            ]
          },
          "metadata": {
            "tags": []
          },
          "execution_count": 44
        }
      ]
    },
    {
      "cell_type": "code",
      "metadata": {
        "colab": {
          "base_uri": "https://localhost:8080/"
        },
        "id": "1c9IcnGw3GuE",
        "outputId": "b57135a4-1892-44a2-d702-33bcef5c63e5"
      },
      "source": [
        "zx = np.array([[1,2,3,4,5],[12,11,13,14,15]])\n",
        "a.shape"
      ],
      "execution_count": null,
      "outputs": [
        {
          "output_type": "execute_result",
          "data": {
            "text/plain": [
              "(2, 3)"
            ]
          },
          "metadata": {
            "tags": []
          },
          "execution_count": 47
        }
      ]
    },
    {
      "cell_type": "code",
      "metadata": {
        "colab": {
          "base_uri": "https://localhost:8080/"
        },
        "id": "fMaaujUH3dpF",
        "outputId": "48cde61f-83e5-4d2d-941e-3d7cf07b5510"
      },
      "source": [
        "#array maths operation:\n",
        "\n",
        "print(np.sum(a))"
      ],
      "execution_count": null,
      "outputs": [
        {
          "output_type": "stream",
          "text": [
            "45\n"
          ],
          "name": "stdout"
        }
      ]
    },
    {
      "cell_type": "code",
      "metadata": {
        "colab": {
          "base_uri": "https://localhost:8080/"
        },
        "id": "4T5ld-lI5AgV",
        "outputId": "7eab3a55-2984-4c39-c713-819ccafc997b"
      },
      "source": [
        "x = np.array([[1,2],[3,4]])\n",
        "y = np.array([[5,6],[7,8]])\n",
        "print(x)\n",
        "print(y)\n",
        "print(x+y)"
      ],
      "execution_count": null,
      "outputs": [
        {
          "output_type": "stream",
          "text": [
            "[[1 2]\n",
            " [3 4]]\n",
            "[[5 6]\n",
            " [7 8]]\n",
            "[[ 6  8]\n",
            " [10 12]]\n"
          ],
          "name": "stdout"
        }
      ]
    },
    {
      "cell_type": "code",
      "metadata": {
        "colab": {
          "base_uri": "https://localhost:8080/"
        },
        "id": "Bk8Ofis55Z39",
        "outputId": "ceaab5c3-bf00-4cef-bfef-02650127fe21"
      },
      "source": [
        "print(x-y)"
      ],
      "execution_count": null,
      "outputs": [
        {
          "output_type": "stream",
          "text": [
            "[[-4 -4]\n",
            " [-4 -4]]\n"
          ],
          "name": "stdout"
        }
      ]
    },
    {
      "cell_type": "code",
      "metadata": {
        "colab": {
          "base_uri": "https://localhost:8080/"
        },
        "id": "CEeHvXfs5ggS",
        "outputId": "a19a16f2-d519-4ee6-dbe4-9d658908e617"
      },
      "source": [
        "print(np.add(x,y))\n",
        "print(np.subtract(x,y))"
      ],
      "execution_count": null,
      "outputs": [
        {
          "output_type": "stream",
          "text": [
            "[[ 6  8]\n",
            " [10 12]]\n",
            "[[-4 -4]\n",
            " [-4 -4]]\n"
          ],
          "name": "stdout"
        }
      ]
    },
    {
      "cell_type": "markdown",
      "metadata": {
        "id": "GF8_pVZS_zxb"
      },
      "source": [
        "# Pandas incoming"
      ]
    },
    {
      "cell_type": "code",
      "metadata": {
        "colab": {
          "base_uri": "https://localhost:8080/"
        },
        "id": "3aooaVBz_34n",
        "outputId": "5e432d2d-7af8-49ba-ab4d-0275e24a44e8"
      },
      "source": [
        "import pandas as pd\n",
        "import numpy as np\n",
        "\n",
        "a = np.array(['y','a','s','h','banshi','jaimin','abhay','isha','grishma'])\n",
        "\n",
        "p = pd.Series(a)\n",
        "print(p)"
      ],
      "execution_count": null,
      "outputs": [
        {
          "output_type": "stream",
          "text": [
            "0          y\n",
            "1          a\n",
            "2          s\n",
            "3          h\n",
            "4     banshi\n",
            "5     jaimin\n",
            "6      abhay\n",
            "7       isha\n",
            "8    grishma\n",
            "dtype: object\n"
          ],
          "name": "stdout"
        }
      ]
    },
    {
      "cell_type": "code",
      "metadata": {
        "id": "tgyipO2FBr5e"
      },
      "source": [
        "s1 = pd.Series(np.random.random(5),index=['a','b','c','d','e'])"
      ],
      "execution_count": null,
      "outputs": []
    },
    {
      "cell_type": "code",
      "metadata": {
        "colab": {
          "base_uri": "https://localhost:8080/"
        },
        "id": "0vs0MIRoCH1z",
        "outputId": "1e22d399-001b-4237-88ef-23b50e2e3d58"
      },
      "source": [
        "print(s1)"
      ],
      "execution_count": null,
      "outputs": [
        {
          "output_type": "stream",
          "text": [
            "a    0.313757\n",
            "b    0.103185\n",
            "c    0.883437\n",
            "d    0.016697\n",
            "e    0.805500\n",
            "dtype: float64\n"
          ],
          "name": "stdout"
        }
      ]
    },
    {
      "cell_type": "markdown",
      "metadata": {
        "id": "uqg8InaHEHs8"
      },
      "source": [
        "**Pandas Dt- 27-05**"
      ]
    },
    {
      "cell_type": "code",
      "metadata": {
        "id": "2_qw-9JOFYLd"
      },
      "source": [
        "import numpy as np\n",
        "import pandas as pd\n"
      ],
      "execution_count": null,
      "outputs": []
    },
    {
      "cell_type": "code",
      "metadata": {
        "id": "jdY4LgPsFweI"
      },
      "source": [
        "df = pd.DataFrame({'Name':pd.Series(['Alice','Bob','Chris']),\n",
        "                   'Age':pd.Series([21,25,23])\n",
        "                   \n",
        "                   \n",
        "                   })\n"
      ],
      "execution_count": null,
      "outputs": []
    },
    {
      "cell_type": "code",
      "metadata": {
        "colab": {
          "base_uri": "https://localhost:8080/",
          "height": 143
        },
        "id": "FDkwPEDcGOLl",
        "outputId": "952efc4a-2da1-4986-d037-a00744397eaf"
      },
      "source": [
        "df"
      ],
      "execution_count": null,
      "outputs": [
        {
          "output_type": "execute_result",
          "data": {
            "text/html": [
              "<div>\n",
              "<style scoped>\n",
              "    .dataframe tbody tr th:only-of-type {\n",
              "        vertical-align: middle;\n",
              "    }\n",
              "\n",
              "    .dataframe tbody tr th {\n",
              "        vertical-align: top;\n",
              "    }\n",
              "\n",
              "    .dataframe thead th {\n",
              "        text-align: right;\n",
              "    }\n",
              "</style>\n",
              "<table border=\"1\" class=\"dataframe\">\n",
              "  <thead>\n",
              "    <tr style=\"text-align: right;\">\n",
              "      <th></th>\n",
              "      <th>Name</th>\n",
              "      <th>Age</th>\n",
              "    </tr>\n",
              "  </thead>\n",
              "  <tbody>\n",
              "    <tr>\n",
              "      <th>0</th>\n",
              "      <td>Alice</td>\n",
              "      <td>21</td>\n",
              "    </tr>\n",
              "    <tr>\n",
              "      <th>1</th>\n",
              "      <td>Bob</td>\n",
              "      <td>25</td>\n",
              "    </tr>\n",
              "    <tr>\n",
              "      <th>2</th>\n",
              "      <td>Chris</td>\n",
              "      <td>23</td>\n",
              "    </tr>\n",
              "  </tbody>\n",
              "</table>\n",
              "</div>"
            ],
            "text/plain": [
              "    Name  Age\n",
              "0  Alice   21\n",
              "1    Bob   25\n",
              "2  Chris   23"
            ]
          },
          "metadata": {
            "tags": []
          },
          "execution_count": 4
        }
      ]
    },
    {
      "cell_type": "code",
      "metadata": {
        "id": "7bhE8pjpGhrn"
      },
      "source": [
        "df['height'] = pd.Series([5.2,6.0,5.6])"
      ],
      "execution_count": null,
      "outputs": []
    },
    {
      "cell_type": "code",
      "metadata": {
        "colab": {
          "base_uri": "https://localhost:8080/",
          "height": 143
        },
        "id": "0xNCskK-Go-M",
        "outputId": "7c00b26a-39f4-4361-e7d5-1b042e868578"
      },
      "source": [
        "df"
      ],
      "execution_count": null,
      "outputs": [
        {
          "output_type": "execute_result",
          "data": {
            "text/html": [
              "<div>\n",
              "<style scoped>\n",
              "    .dataframe tbody tr th:only-of-type {\n",
              "        vertical-align: middle;\n",
              "    }\n",
              "\n",
              "    .dataframe tbody tr th {\n",
              "        vertical-align: top;\n",
              "    }\n",
              "\n",
              "    .dataframe thead th {\n",
              "        text-align: right;\n",
              "    }\n",
              "</style>\n",
              "<table border=\"1\" class=\"dataframe\">\n",
              "  <thead>\n",
              "    <tr style=\"text-align: right;\">\n",
              "      <th></th>\n",
              "      <th>Name</th>\n",
              "      <th>Age</th>\n",
              "      <th>height</th>\n",
              "    </tr>\n",
              "  </thead>\n",
              "  <tbody>\n",
              "    <tr>\n",
              "      <th>0</th>\n",
              "      <td>Alice</td>\n",
              "      <td>21</td>\n",
              "      <td>5.2</td>\n",
              "    </tr>\n",
              "    <tr>\n",
              "      <th>1</th>\n",
              "      <td>Bob</td>\n",
              "      <td>25</td>\n",
              "      <td>6.0</td>\n",
              "    </tr>\n",
              "    <tr>\n",
              "      <th>2</th>\n",
              "      <td>Chris</td>\n",
              "      <td>23</td>\n",
              "      <td>5.6</td>\n",
              "    </tr>\n",
              "  </tbody>\n",
              "</table>\n",
              "</div>"
            ],
            "text/plain": [
              "    Name  Age  height\n",
              "0  Alice   21     5.2\n",
              "1    Bob   25     6.0\n",
              "2  Chris   23     5.6"
            ]
          },
          "metadata": {
            "tags": []
          },
          "execution_count": 6
        }
      ]
    },
    {
      "cell_type": "code",
      "metadata": {
        "id": "HBlaDnjvHm67"
      },
      "source": [
        "df = pd.read_csv(\"/content/Salaries.csv\")"
      ],
      "execution_count": null,
      "outputs": []
    },
    {
      "cell_type": "code",
      "metadata": {
        "colab": {
          "base_uri": "https://localhost:8080/",
          "height": 424
        },
        "id": "2hetiDdUIJ6H",
        "outputId": "093bf2ca-9479-4952-e683-9eca09311b21"
      },
      "source": [
        "df\n"
      ],
      "execution_count": null,
      "outputs": [
        {
          "output_type": "execute_result",
          "data": {
            "text/html": [
              "<div>\n",
              "<style scoped>\n",
              "    .dataframe tbody tr th:only-of-type {\n",
              "        vertical-align: middle;\n",
              "    }\n",
              "\n",
              "    .dataframe tbody tr th {\n",
              "        vertical-align: top;\n",
              "    }\n",
              "\n",
              "    .dataframe thead th {\n",
              "        text-align: right;\n",
              "    }\n",
              "</style>\n",
              "<table border=\"1\" class=\"dataframe\">\n",
              "  <thead>\n",
              "    <tr style=\"text-align: right;\">\n",
              "      <th></th>\n",
              "      <th>rank</th>\n",
              "      <th>discipline</th>\n",
              "      <th>phd</th>\n",
              "      <th>service</th>\n",
              "      <th>sex</th>\n",
              "      <th>salary</th>\n",
              "    </tr>\n",
              "  </thead>\n",
              "  <tbody>\n",
              "    <tr>\n",
              "      <th>0</th>\n",
              "      <td>Prof</td>\n",
              "      <td>B</td>\n",
              "      <td>56</td>\n",
              "      <td>49</td>\n",
              "      <td>Male</td>\n",
              "      <td>186960</td>\n",
              "    </tr>\n",
              "    <tr>\n",
              "      <th>1</th>\n",
              "      <td>Prof</td>\n",
              "      <td>A</td>\n",
              "      <td>12</td>\n",
              "      <td>6</td>\n",
              "      <td>Male</td>\n",
              "      <td>93000</td>\n",
              "    </tr>\n",
              "    <tr>\n",
              "      <th>2</th>\n",
              "      <td>Prof</td>\n",
              "      <td>A</td>\n",
              "      <td>23</td>\n",
              "      <td>20</td>\n",
              "      <td>Male</td>\n",
              "      <td>110515</td>\n",
              "    </tr>\n",
              "    <tr>\n",
              "      <th>3</th>\n",
              "      <td>Prof</td>\n",
              "      <td>A</td>\n",
              "      <td>40</td>\n",
              "      <td>31</td>\n",
              "      <td>Male</td>\n",
              "      <td>131205</td>\n",
              "    </tr>\n",
              "    <tr>\n",
              "      <th>4</th>\n",
              "      <td>Prof</td>\n",
              "      <td>B</td>\n",
              "      <td>20</td>\n",
              "      <td>18</td>\n",
              "      <td>Male</td>\n",
              "      <td>104800</td>\n",
              "    </tr>\n",
              "    <tr>\n",
              "      <th>...</th>\n",
              "      <td>...</td>\n",
              "      <td>...</td>\n",
              "      <td>...</td>\n",
              "      <td>...</td>\n",
              "      <td>...</td>\n",
              "      <td>...</td>\n",
              "    </tr>\n",
              "    <tr>\n",
              "      <th>73</th>\n",
              "      <td>Prof</td>\n",
              "      <td>B</td>\n",
              "      <td>18</td>\n",
              "      <td>10</td>\n",
              "      <td>Female</td>\n",
              "      <td>105450</td>\n",
              "    </tr>\n",
              "    <tr>\n",
              "      <th>74</th>\n",
              "      <td>AssocProf</td>\n",
              "      <td>B</td>\n",
              "      <td>19</td>\n",
              "      <td>6</td>\n",
              "      <td>Female</td>\n",
              "      <td>104542</td>\n",
              "    </tr>\n",
              "    <tr>\n",
              "      <th>75</th>\n",
              "      <td>Prof</td>\n",
              "      <td>B</td>\n",
              "      <td>17</td>\n",
              "      <td>17</td>\n",
              "      <td>Female</td>\n",
              "      <td>124312</td>\n",
              "    </tr>\n",
              "    <tr>\n",
              "      <th>76</th>\n",
              "      <td>Prof</td>\n",
              "      <td>A</td>\n",
              "      <td>28</td>\n",
              "      <td>14</td>\n",
              "      <td>Female</td>\n",
              "      <td>109954</td>\n",
              "    </tr>\n",
              "    <tr>\n",
              "      <th>77</th>\n",
              "      <td>Prof</td>\n",
              "      <td>A</td>\n",
              "      <td>23</td>\n",
              "      <td>15</td>\n",
              "      <td>Female</td>\n",
              "      <td>109646</td>\n",
              "    </tr>\n",
              "  </tbody>\n",
              "</table>\n",
              "<p>78 rows × 6 columns</p>\n",
              "</div>"
            ],
            "text/plain": [
              "         rank discipline  phd  service     sex  salary\n",
              "0        Prof          B   56       49    Male  186960\n",
              "1        Prof          A   12        6    Male   93000\n",
              "2        Prof          A   23       20    Male  110515\n",
              "3        Prof          A   40       31    Male  131205\n",
              "4        Prof          B   20       18    Male  104800\n",
              "..        ...        ...  ...      ...     ...     ...\n",
              "73       Prof          B   18       10  Female  105450\n",
              "74  AssocProf          B   19        6  Female  104542\n",
              "75       Prof          B   17       17  Female  124312\n",
              "76       Prof          A   28       14  Female  109954\n",
              "77       Prof          A   23       15  Female  109646\n",
              "\n",
              "[78 rows x 6 columns]"
            ]
          },
          "metadata": {
            "tags": []
          },
          "execution_count": 77
        }
      ]
    },
    {
      "cell_type": "code",
      "metadata": {
        "colab": {
          "base_uri": "https://localhost:8080/",
          "height": 206
        },
        "id": "LMHfWyWtIlPN",
        "outputId": "d4ae9f88-8f96-4a34-cb83-430fd28143b0"
      },
      "source": [
        "#top rows\n",
        "df.head()"
      ],
      "execution_count": null,
      "outputs": [
        {
          "output_type": "execute_result",
          "data": {
            "text/html": [
              "<div>\n",
              "<style scoped>\n",
              "    .dataframe tbody tr th:only-of-type {\n",
              "        vertical-align: middle;\n",
              "    }\n",
              "\n",
              "    .dataframe tbody tr th {\n",
              "        vertical-align: top;\n",
              "    }\n",
              "\n",
              "    .dataframe thead th {\n",
              "        text-align: right;\n",
              "    }\n",
              "</style>\n",
              "<table border=\"1\" class=\"dataframe\">\n",
              "  <thead>\n",
              "    <tr style=\"text-align: right;\">\n",
              "      <th></th>\n",
              "      <th>rank</th>\n",
              "      <th>discipline</th>\n",
              "      <th>phd</th>\n",
              "      <th>service</th>\n",
              "      <th>sex</th>\n",
              "      <th>salary</th>\n",
              "    </tr>\n",
              "  </thead>\n",
              "  <tbody>\n",
              "    <tr>\n",
              "      <th>0</th>\n",
              "      <td>Prof</td>\n",
              "      <td>B</td>\n",
              "      <td>56</td>\n",
              "      <td>49</td>\n",
              "      <td>Male</td>\n",
              "      <td>186960</td>\n",
              "    </tr>\n",
              "    <tr>\n",
              "      <th>1</th>\n",
              "      <td>Prof</td>\n",
              "      <td>A</td>\n",
              "      <td>12</td>\n",
              "      <td>6</td>\n",
              "      <td>Male</td>\n",
              "      <td>93000</td>\n",
              "    </tr>\n",
              "    <tr>\n",
              "      <th>2</th>\n",
              "      <td>Prof</td>\n",
              "      <td>A</td>\n",
              "      <td>23</td>\n",
              "      <td>20</td>\n",
              "      <td>Male</td>\n",
              "      <td>110515</td>\n",
              "    </tr>\n",
              "    <tr>\n",
              "      <th>3</th>\n",
              "      <td>Prof</td>\n",
              "      <td>A</td>\n",
              "      <td>40</td>\n",
              "      <td>31</td>\n",
              "      <td>Male</td>\n",
              "      <td>131205</td>\n",
              "    </tr>\n",
              "    <tr>\n",
              "      <th>4</th>\n",
              "      <td>Prof</td>\n",
              "      <td>B</td>\n",
              "      <td>20</td>\n",
              "      <td>18</td>\n",
              "      <td>Male</td>\n",
              "      <td>104800</td>\n",
              "    </tr>\n",
              "  </tbody>\n",
              "</table>\n",
              "</div>"
            ],
            "text/plain": [
              "   rank discipline  phd  service   sex  salary\n",
              "0  Prof          B   56       49  Male  186960\n",
              "1  Prof          A   12        6  Male   93000\n",
              "2  Prof          A   23       20  Male  110515\n",
              "3  Prof          A   40       31  Male  131205\n",
              "4  Prof          B   20       18  Male  104800"
            ]
          },
          "metadata": {
            "tags": []
          },
          "execution_count": 12
        }
      ]
    },
    {
      "cell_type": "code",
      "metadata": {
        "colab": {
          "base_uri": "https://localhost:8080/",
          "height": 269
        },
        "id": "ZxXL-R5fIyqe",
        "outputId": "710dc02a-7ee5-4cf1-b847-b877a99a502e"
      },
      "source": [
        "#bottom rows\n",
        "df.tail(7)"
      ],
      "execution_count": null,
      "outputs": [
        {
          "output_type": "execute_result",
          "data": {
            "text/html": [
              "<div>\n",
              "<style scoped>\n",
              "    .dataframe tbody tr th:only-of-type {\n",
              "        vertical-align: middle;\n",
              "    }\n",
              "\n",
              "    .dataframe tbody tr th {\n",
              "        vertical-align: top;\n",
              "    }\n",
              "\n",
              "    .dataframe thead th {\n",
              "        text-align: right;\n",
              "    }\n",
              "</style>\n",
              "<table border=\"1\" class=\"dataframe\">\n",
              "  <thead>\n",
              "    <tr style=\"text-align: right;\">\n",
              "      <th></th>\n",
              "      <th>rank</th>\n",
              "      <th>discipline</th>\n",
              "      <th>phd</th>\n",
              "      <th>service</th>\n",
              "      <th>sex</th>\n",
              "      <th>salary</th>\n",
              "    </tr>\n",
              "  </thead>\n",
              "  <tbody>\n",
              "    <tr>\n",
              "      <th>71</th>\n",
              "      <td>AssocProf</td>\n",
              "      <td>B</td>\n",
              "      <td>12</td>\n",
              "      <td>9</td>\n",
              "      <td>Female</td>\n",
              "      <td>71065</td>\n",
              "    </tr>\n",
              "    <tr>\n",
              "      <th>72</th>\n",
              "      <td>Prof</td>\n",
              "      <td>B</td>\n",
              "      <td>24</td>\n",
              "      <td>15</td>\n",
              "      <td>Female</td>\n",
              "      <td>161101</td>\n",
              "    </tr>\n",
              "    <tr>\n",
              "      <th>73</th>\n",
              "      <td>Prof</td>\n",
              "      <td>B</td>\n",
              "      <td>18</td>\n",
              "      <td>10</td>\n",
              "      <td>Female</td>\n",
              "      <td>105450</td>\n",
              "    </tr>\n",
              "    <tr>\n",
              "      <th>74</th>\n",
              "      <td>AssocProf</td>\n",
              "      <td>B</td>\n",
              "      <td>19</td>\n",
              "      <td>6</td>\n",
              "      <td>Female</td>\n",
              "      <td>104542</td>\n",
              "    </tr>\n",
              "    <tr>\n",
              "      <th>75</th>\n",
              "      <td>Prof</td>\n",
              "      <td>B</td>\n",
              "      <td>17</td>\n",
              "      <td>17</td>\n",
              "      <td>Female</td>\n",
              "      <td>124312</td>\n",
              "    </tr>\n",
              "    <tr>\n",
              "      <th>76</th>\n",
              "      <td>Prof</td>\n",
              "      <td>A</td>\n",
              "      <td>28</td>\n",
              "      <td>14</td>\n",
              "      <td>Female</td>\n",
              "      <td>109954</td>\n",
              "    </tr>\n",
              "    <tr>\n",
              "      <th>77</th>\n",
              "      <td>Prof</td>\n",
              "      <td>A</td>\n",
              "      <td>23</td>\n",
              "      <td>15</td>\n",
              "      <td>Female</td>\n",
              "      <td>109646</td>\n",
              "    </tr>\n",
              "  </tbody>\n",
              "</table>\n",
              "</div>"
            ],
            "text/plain": [
              "         rank discipline  phd  service     sex  salary\n",
              "71  AssocProf          B   12        9  Female   71065\n",
              "72       Prof          B   24       15  Female  161101\n",
              "73       Prof          B   18       10  Female  105450\n",
              "74  AssocProf          B   19        6  Female  104542\n",
              "75       Prof          B   17       17  Female  124312\n",
              "76       Prof          A   28       14  Female  109954\n",
              "77       Prof          A   23       15  Female  109646"
            ]
          },
          "metadata": {
            "tags": []
          },
          "execution_count": 14
        }
      ]
    },
    {
      "cell_type": "code",
      "metadata": {
        "colab": {
          "base_uri": "https://localhost:8080/"
        },
        "id": "aLIveS7NI7DP",
        "outputId": "8145344a-5f48-4e6b-9b86-08a32bb51d64"
      },
      "source": [
        "df.shape"
      ],
      "execution_count": null,
      "outputs": [
        {
          "output_type": "execute_result",
          "data": {
            "text/plain": [
              "(78, 6)"
            ]
          },
          "metadata": {
            "tags": []
          },
          "execution_count": 15
        }
      ]
    },
    {
      "cell_type": "code",
      "metadata": {
        "colab": {
          "base_uri": "https://localhost:8080/"
        },
        "id": "JClBulxxJE0n",
        "outputId": "18b1c75a-88d2-4dde-be6b-9d9e2f3a151a"
      },
      "source": [
        "df.size"
      ],
      "execution_count": null,
      "outputs": [
        {
          "output_type": "execute_result",
          "data": {
            "text/plain": [
              "468"
            ]
          },
          "metadata": {
            "tags": []
          },
          "execution_count": 16
        }
      ]
    },
    {
      "cell_type": "code",
      "metadata": {
        "colab": {
          "base_uri": "https://localhost:8080/"
        },
        "id": "gPKOsQTNJIN9",
        "outputId": "80787879-98b4-467f-d02d-fb72e82d7f11"
      },
      "source": [
        "df.columns"
      ],
      "execution_count": null,
      "outputs": [
        {
          "output_type": "execute_result",
          "data": {
            "text/plain": [
              "Index(['rank', 'discipline', 'phd', 'service', 'sex', 'salary'], dtype='object')"
            ]
          },
          "metadata": {
            "tags": []
          },
          "execution_count": 18
        }
      ]
    },
    {
      "cell_type": "code",
      "metadata": {
        "colab": {
          "base_uri": "https://localhost:8080/"
        },
        "id": "Ry-EoU0FJS70",
        "outputId": "c27a6c62-f736-4493-8357-e36ed180e39c"
      },
      "source": [
        "df.dtypes"
      ],
      "execution_count": null,
      "outputs": [
        {
          "output_type": "execute_result",
          "data": {
            "text/plain": [
              "rank          object\n",
              "discipline    object\n",
              "phd            int64\n",
              "service        int64\n",
              "sex           object\n",
              "salary         int64\n",
              "dtype: object"
            ]
          },
          "metadata": {
            "tags": []
          },
          "execution_count": 19
        }
      ]
    },
    {
      "cell_type": "code",
      "metadata": {
        "colab": {
          "base_uri": "https://localhost:8080/"
        },
        "id": "cMM6n-DfJayy",
        "outputId": "2dc9864f-9636-4a0d-f68b-28f2f953d377"
      },
      "source": [
        "df.ndim"
      ],
      "execution_count": null,
      "outputs": [
        {
          "output_type": "execute_result",
          "data": {
            "text/plain": [
              "2"
            ]
          },
          "metadata": {
            "tags": []
          },
          "execution_count": 20
        }
      ]
    },
    {
      "cell_type": "code",
      "metadata": {
        "colab": {
          "base_uri": "https://localhost:8080/"
        },
        "id": "gmcGw8pQJdti",
        "outputId": "0fe94fb0-31f6-4402-b5f9-921aa72e5c9c"
      },
      "source": [
        "df.axes"
      ],
      "execution_count": null,
      "outputs": [
        {
          "output_type": "execute_result",
          "data": {
            "text/plain": [
              "[RangeIndex(start=0, stop=78, step=1),\n",
              " Index(['rank', 'discipline', 'phd', 'service', 'sex', 'salary'], dtype='object')]"
            ]
          },
          "metadata": {
            "tags": []
          },
          "execution_count": 21
        }
      ]
    },
    {
      "cell_type": "code",
      "metadata": {
        "colab": {
          "base_uri": "https://localhost:8080/"
        },
        "id": "wsmDcZK6Jsce",
        "outputId": "ce2cea01-4ce2-44cd-d7db-ffedee78c7aa"
      },
      "source": [
        "df.values"
      ],
      "execution_count": null,
      "outputs": [
        {
          "output_type": "execute_result",
          "data": {
            "text/plain": [
              "array([['Prof', 'B', 56, 49, 'Male', 186960],\n",
              "       ['Prof', 'A', 12, 6, 'Male', 93000],\n",
              "       ['Prof', 'A', 23, 20, 'Male', 110515],\n",
              "       ['Prof', 'A', 40, 31, 'Male', 131205],\n",
              "       ['Prof', 'B', 20, 18, 'Male', 104800],\n",
              "       ['Prof', 'A', 20, 20, 'Male', 122400],\n",
              "       ['AssocProf', 'A', 20, 17, 'Male', 81285],\n",
              "       ['Prof', 'A', 18, 18, 'Male', 126300],\n",
              "       ['Prof', 'A', 29, 19, 'Male', 94350],\n",
              "       ['Prof', 'A', 51, 51, 'Male', 57800],\n",
              "       ['Prof', 'B', 39, 33, 'Male', 128250],\n",
              "       ['Prof', 'B', 23, 23, 'Male', 134778],\n",
              "       ['AsstProf', 'B', 1, 0, 'Male', 88000],\n",
              "       ['Prof', 'B', 35, 33, 'Male', 162200],\n",
              "       ['Prof', 'B', 25, 19, 'Male', 153750],\n",
              "       ['Prof', 'B', 17, 3, 'Male', 150480],\n",
              "       ['AsstProf', 'B', 8, 3, 'Male', 75044],\n",
              "       ['AsstProf', 'B', 4, 0, 'Male', 92000],\n",
              "       ['Prof', 'A', 19, 7, 'Male', 107300],\n",
              "       ['Prof', 'A', 29, 27, 'Male', 150500],\n",
              "       ['AsstProf', 'B', 4, 4, 'Male', 92000],\n",
              "       ['Prof', 'A', 33, 30, 'Male', 103106],\n",
              "       ['AsstProf', 'A', 4, 2, 'Male', 73000],\n",
              "       ['AsstProf', 'A', 2, 0, 'Male', 85000],\n",
              "       ['Prof', 'A', 30, 23, 'Male', 91100],\n",
              "       ['Prof', 'B', 35, 31, 'Male', 99418],\n",
              "       ['Prof', 'A', 38, 19, 'Male', 148750],\n",
              "       ['Prof', 'A', 45, 43, 'Male', 155865],\n",
              "       ['AsstProf', 'B', 7, 2, 'Male', 91300],\n",
              "       ['Prof', 'B', 21, 20, 'Male', 123683],\n",
              "       ['AssocProf', 'B', 9, 7, 'Male', 107008],\n",
              "       ['Prof', 'B', 22, 21, 'Male', 155750],\n",
              "       ['Prof', 'A', 27, 19, 'Male', 103275],\n",
              "       ['Prof', 'B', 18, 18, 'Male', 120000],\n",
              "       ['AssocProf', 'B', 12, 8, 'Male', 119800],\n",
              "       ['Prof', 'B', 28, 23, 'Male', 126933],\n",
              "       ['Prof', 'B', 45, 45, 'Male', 146856],\n",
              "       ['Prof', 'A', 20, 8, 'Male', 102000],\n",
              "       ['AsstProf', 'B', 4, 3, 'Male', 91000],\n",
              "       ['Prof', 'B', 18, 18, 'Female', 129000],\n",
              "       ['Prof', 'A', 39, 36, 'Female', 137000],\n",
              "       ['AssocProf', 'A', 13, 8, 'Female', 74830],\n",
              "       ['AsstProf', 'B', 4, 2, 'Female', 80225],\n",
              "       ['AsstProf', 'B', 5, 0, 'Female', 77000],\n",
              "       ['Prof', 'B', 23, 19, 'Female', 151768],\n",
              "       ['Prof', 'B', 25, 25, 'Female', 140096],\n",
              "       ['AsstProf', 'B', 11, 3, 'Female', 74692],\n",
              "       ['AssocProf', 'B', 11, 11, 'Female', 103613],\n",
              "       ['Prof', 'B', 17, 17, 'Female', 111512],\n",
              "       ['Prof', 'B', 17, 18, 'Female', 122960],\n",
              "       ['AsstProf', 'B', 10, 5, 'Female', 97032],\n",
              "       ['Prof', 'B', 20, 14, 'Female', 127512],\n",
              "       ['Prof', 'A', 12, 0, 'Female', 105000],\n",
              "       ['AsstProf', 'A', 5, 3, 'Female', 73500],\n",
              "       ['AssocProf', 'A', 25, 22, 'Female', 62884],\n",
              "       ['AsstProf', 'A', 2, 0, 'Female', 72500],\n",
              "       ['AssocProf', 'A', 10, 8, 'Female', 77500],\n",
              "       ['AsstProf', 'A', 3, 1, 'Female', 72500],\n",
              "       ['Prof', 'B', 36, 26, 'Female', 144651],\n",
              "       ['AssocProf', 'B', 12, 10, 'Female', 103994],\n",
              "       ['AsstProf', 'B', 3, 3, 'Female', 92000],\n",
              "       ['AssocProf', 'B', 13, 10, 'Female', 103750],\n",
              "       ['AssocProf', 'B', 14, 7, 'Female', 109650],\n",
              "       ['Prof', 'A', 29, 27, 'Female', 91000],\n",
              "       ['AssocProf', 'A', 26, 24, 'Female', 73300],\n",
              "       ['Prof', 'A', 36, 19, 'Female', 117555],\n",
              "       ['AsstProf', 'A', 7, 6, 'Female', 63100],\n",
              "       ['Prof', 'A', 17, 11, 'Female', 90450],\n",
              "       ['AsstProf', 'A', 4, 2, 'Female', 77500],\n",
              "       ['Prof', 'A', 28, 7, 'Female', 116450],\n",
              "       ['AsstProf', 'A', 8, 3, 'Female', 78500],\n",
              "       ['AssocProf', 'B', 12, 9, 'Female', 71065],\n",
              "       ['Prof', 'B', 24, 15, 'Female', 161101],\n",
              "       ['Prof', 'B', 18, 10, 'Female', 105450],\n",
              "       ['AssocProf', 'B', 19, 6, 'Female', 104542],\n",
              "       ['Prof', 'B', 17, 17, 'Female', 124312],\n",
              "       ['Prof', 'A', 28, 14, 'Female', 109954],\n",
              "       ['Prof', 'A', 23, 15, 'Female', 109646]], dtype=object)"
            ]
          },
          "metadata": {
            "tags": []
          },
          "execution_count": 22
        }
      ]
    },
    {
      "cell_type": "code",
      "metadata": {
        "id": "6ubzdYaSJ4s4"
      },
      "source": [
        "df1 = df.values"
      ],
      "execution_count": null,
      "outputs": []
    },
    {
      "cell_type": "code",
      "metadata": {
        "colab": {
          "base_uri": "https://localhost:8080/"
        },
        "id": "7MtLplmlJ-9j",
        "outputId": "39e5b046-830c-48a3-85cb-bb43c51304cd"
      },
      "source": [
        "type(df1)"
      ],
      "execution_count": null,
      "outputs": [
        {
          "output_type": "execute_result",
          "data": {
            "text/plain": [
              "numpy.ndarray"
            ]
          },
          "metadata": {
            "tags": []
          },
          "execution_count": 24
        }
      ]
    },
    {
      "cell_type": "markdown",
      "metadata": {
        "id": "WMAhgkncKOV0"
      },
      "source": [
        "**Statstics**"
      ]
    },
    {
      "cell_type": "code",
      "metadata": {
        "colab": {
          "base_uri": "https://localhost:8080/",
          "height": 300
        },
        "id": "QuhzkzuNKI4F",
        "outputId": "8b714c7c-5665-4a5b-8015-1f75fc0bc3cb"
      },
      "source": [
        "df.describe()"
      ],
      "execution_count": null,
      "outputs": [
        {
          "output_type": "execute_result",
          "data": {
            "text/html": [
              "<div>\n",
              "<style scoped>\n",
              "    .dataframe tbody tr th:only-of-type {\n",
              "        vertical-align: middle;\n",
              "    }\n",
              "\n",
              "    .dataframe tbody tr th {\n",
              "        vertical-align: top;\n",
              "    }\n",
              "\n",
              "    .dataframe thead th {\n",
              "        text-align: right;\n",
              "    }\n",
              "</style>\n",
              "<table border=\"1\" class=\"dataframe\">\n",
              "  <thead>\n",
              "    <tr style=\"text-align: right;\">\n",
              "      <th></th>\n",
              "      <th>phd</th>\n",
              "      <th>service</th>\n",
              "      <th>salary</th>\n",
              "    </tr>\n",
              "  </thead>\n",
              "  <tbody>\n",
              "    <tr>\n",
              "      <th>count</th>\n",
              "      <td>78.000000</td>\n",
              "      <td>78.000000</td>\n",
              "      <td>78.000000</td>\n",
              "    </tr>\n",
              "    <tr>\n",
              "      <th>mean</th>\n",
              "      <td>19.705128</td>\n",
              "      <td>15.051282</td>\n",
              "      <td>108023.782051</td>\n",
              "    </tr>\n",
              "    <tr>\n",
              "      <th>std</th>\n",
              "      <td>12.498425</td>\n",
              "      <td>12.139768</td>\n",
              "      <td>28293.661022</td>\n",
              "    </tr>\n",
              "    <tr>\n",
              "      <th>min</th>\n",
              "      <td>1.000000</td>\n",
              "      <td>0.000000</td>\n",
              "      <td>57800.000000</td>\n",
              "    </tr>\n",
              "    <tr>\n",
              "      <th>25%</th>\n",
              "      <td>10.250000</td>\n",
              "      <td>5.250000</td>\n",
              "      <td>88612.500000</td>\n",
              "    </tr>\n",
              "    <tr>\n",
              "      <th>50%</th>\n",
              "      <td>18.500000</td>\n",
              "      <td>14.500000</td>\n",
              "      <td>104671.000000</td>\n",
              "    </tr>\n",
              "    <tr>\n",
              "      <th>75%</th>\n",
              "      <td>27.750000</td>\n",
              "      <td>20.750000</td>\n",
              "      <td>126774.750000</td>\n",
              "    </tr>\n",
              "    <tr>\n",
              "      <th>max</th>\n",
              "      <td>56.000000</td>\n",
              "      <td>51.000000</td>\n",
              "      <td>186960.000000</td>\n",
              "    </tr>\n",
              "  </tbody>\n",
              "</table>\n",
              "</div>"
            ],
            "text/plain": [
              "             phd    service         salary\n",
              "count  78.000000  78.000000      78.000000\n",
              "mean   19.705128  15.051282  108023.782051\n",
              "std    12.498425  12.139768   28293.661022\n",
              "min     1.000000   0.000000   57800.000000\n",
              "25%    10.250000   5.250000   88612.500000\n",
              "50%    18.500000  14.500000  104671.000000\n",
              "75%    27.750000  20.750000  126774.750000\n",
              "max    56.000000  51.000000  186960.000000"
            ]
          },
          "metadata": {
            "tags": []
          },
          "execution_count": 25
        }
      ]
    },
    {
      "cell_type": "markdown",
      "metadata": {
        "id": "shtqaNN4LJmH"
      },
      "source": [
        "# Data Slicing and Grouping"
      ]
    },
    {
      "cell_type": "code",
      "metadata": {
        "colab": {
          "base_uri": "https://localhost:8080/"
        },
        "id": "5PEJbQUGLMgE",
        "outputId": "0cfd51e5-bb64-4d02-8731-3df4257738ee"
      },
      "source": [
        "df['phd']"
      ],
      "execution_count": null,
      "outputs": [
        {
          "output_type": "execute_result",
          "data": {
            "text/plain": [
              "0     56\n",
              "1     12\n",
              "2     23\n",
              "3     40\n",
              "4     20\n",
              "      ..\n",
              "73    18\n",
              "74    19\n",
              "75    17\n",
              "76    28\n",
              "77    23\n",
              "Name: phd, Length: 78, dtype: int64"
            ]
          },
          "metadata": {
            "tags": []
          },
          "execution_count": 27
        }
      ]
    },
    {
      "cell_type": "code",
      "metadata": {
        "colab": {
          "base_uri": "https://localhost:8080/"
        },
        "id": "EYhh3XPiLgF5",
        "outputId": "7c2136a3-b12f-4e9b-f9f1-659889648a6f"
      },
      "source": [
        "df['service'].describe()"
      ],
      "execution_count": null,
      "outputs": [
        {
          "output_type": "execute_result",
          "data": {
            "text/plain": [
              "count    78.000000\n",
              "mean     15.051282\n",
              "std      12.139768\n",
              "min       0.000000\n",
              "25%       5.250000\n",
              "50%      14.500000\n",
              "75%      20.750000\n",
              "max      51.000000\n",
              "Name: service, dtype: float64"
            ]
          },
          "metadata": {
            "tags": []
          },
          "execution_count": 28
        }
      ]
    },
    {
      "cell_type": "code",
      "metadata": {
        "colab": {
          "base_uri": "https://localhost:8080/"
        },
        "id": "apYnpc9RLw-_",
        "outputId": "7df15ca3-f3ac-47c4-845c-bd77da0ff600"
      },
      "source": [
        "df['rank']"
      ],
      "execution_count": null,
      "outputs": [
        {
          "output_type": "execute_result",
          "data": {
            "text/plain": [
              "0          Prof\n",
              "1          Prof\n",
              "2          Prof\n",
              "3          Prof\n",
              "4          Prof\n",
              "        ...    \n",
              "73         Prof\n",
              "74    AssocProf\n",
              "75         Prof\n",
              "76         Prof\n",
              "77         Prof\n",
              "Name: rank, Length: 78, dtype: object"
            ]
          },
          "metadata": {
            "tags": []
          },
          "execution_count": 29
        }
      ]
    },
    {
      "cell_type": "code",
      "metadata": {
        "colab": {
          "base_uri": "https://localhost:8080/",
          "height": 175
        },
        "id": "0hJH9X31MluX",
        "outputId": "1bf49607-df88-4ef7-b74a-5664039a710e"
      },
      "source": [
        "df_rank = df.groupby('rank')\n",
        "df_rank.mean()"
      ],
      "execution_count": null,
      "outputs": [
        {
          "output_type": "execute_result",
          "data": {
            "text/html": [
              "<div>\n",
              "<style scoped>\n",
              "    .dataframe tbody tr th:only-of-type {\n",
              "        vertical-align: middle;\n",
              "    }\n",
              "\n",
              "    .dataframe tbody tr th {\n",
              "        vertical-align: top;\n",
              "    }\n",
              "\n",
              "    .dataframe thead th {\n",
              "        text-align: right;\n",
              "    }\n",
              "</style>\n",
              "<table border=\"1\" class=\"dataframe\">\n",
              "  <thead>\n",
              "    <tr style=\"text-align: right;\">\n",
              "      <th></th>\n",
              "      <th>phd</th>\n",
              "      <th>service</th>\n",
              "      <th>salary</th>\n",
              "    </tr>\n",
              "    <tr>\n",
              "      <th>rank</th>\n",
              "      <th></th>\n",
              "      <th></th>\n",
              "      <th></th>\n",
              "    </tr>\n",
              "  </thead>\n",
              "  <tbody>\n",
              "    <tr>\n",
              "      <th>AssocProf</th>\n",
              "      <td>15.076923</td>\n",
              "      <td>11.307692</td>\n",
              "      <td>91786.230769</td>\n",
              "    </tr>\n",
              "    <tr>\n",
              "      <th>AsstProf</th>\n",
              "      <td>5.052632</td>\n",
              "      <td>2.210526</td>\n",
              "      <td>81362.789474</td>\n",
              "    </tr>\n",
              "    <tr>\n",
              "      <th>Prof</th>\n",
              "      <td>27.065217</td>\n",
              "      <td>21.413043</td>\n",
              "      <td>123624.804348</td>\n",
              "    </tr>\n",
              "  </tbody>\n",
              "</table>\n",
              "</div>"
            ],
            "text/plain": [
              "                 phd    service         salary\n",
              "rank                                          \n",
              "AssocProf  15.076923  11.307692   91786.230769\n",
              "AsstProf    5.052632   2.210526   81362.789474\n",
              "Prof       27.065217  21.413043  123624.804348"
            ]
          },
          "metadata": {
            "tags": []
          },
          "execution_count": 31
        }
      ]
    },
    {
      "cell_type": "markdown",
      "metadata": {
        "id": "L0-X2lNsNxVF"
      },
      "source": [
        "# Mean salary for male and female"
      ]
    },
    {
      "cell_type": "code",
      "metadata": {
        "colab": {
          "base_uri": "https://localhost:8080/"
        },
        "id": "b3MhlW-iN2gR",
        "outputId": "8c61114e-3b4d-4575-8cf0-aa5d78eedb71"
      },
      "source": [
        "g = df.groupby('sex')\n",
        "g['salary'].mean()"
      ],
      "execution_count": null,
      "outputs": [
        {
          "output_type": "execute_result",
          "data": {
            "text/plain": [
              "sex\n",
              "Female    101002.410256\n",
              "Male      115045.153846\n",
              "Name: salary, dtype: float64"
            ]
          },
          "metadata": {
            "tags": []
          },
          "execution_count": 33
        }
      ]
    },
    {
      "cell_type": "code",
      "metadata": {
        "colab": {
          "base_uri": "https://localhost:8080/",
          "height": 175
        },
        "id": "6E_LYq76OdmM",
        "outputId": "8ed49b7e-a1dd-4492-84f9-921fcca657fa"
      },
      "source": [
        "df.groupby('rank',sort=False)[['salary']].mean()"
      ],
      "execution_count": null,
      "outputs": [
        {
          "output_type": "execute_result",
          "data": {
            "text/html": [
              "<div>\n",
              "<style scoped>\n",
              "    .dataframe tbody tr th:only-of-type {\n",
              "        vertical-align: middle;\n",
              "    }\n",
              "\n",
              "    .dataframe tbody tr th {\n",
              "        vertical-align: top;\n",
              "    }\n",
              "\n",
              "    .dataframe thead th {\n",
              "        text-align: right;\n",
              "    }\n",
              "</style>\n",
              "<table border=\"1\" class=\"dataframe\">\n",
              "  <thead>\n",
              "    <tr style=\"text-align: right;\">\n",
              "      <th></th>\n",
              "      <th>salary</th>\n",
              "    </tr>\n",
              "    <tr>\n",
              "      <th>rank</th>\n",
              "      <th></th>\n",
              "    </tr>\n",
              "  </thead>\n",
              "  <tbody>\n",
              "    <tr>\n",
              "      <th>Prof</th>\n",
              "      <td>123624.804348</td>\n",
              "    </tr>\n",
              "    <tr>\n",
              "      <th>AssocProf</th>\n",
              "      <td>91786.230769</td>\n",
              "    </tr>\n",
              "    <tr>\n",
              "      <th>AsstProf</th>\n",
              "      <td>81362.789474</td>\n",
              "    </tr>\n",
              "  </tbody>\n",
              "</table>\n",
              "</div>"
            ],
            "text/plain": [
              "                  salary\n",
              "rank                    \n",
              "Prof       123624.804348\n",
              "AssocProf   91786.230769\n",
              "AsstProf    81362.789474"
            ]
          },
          "metadata": {
            "tags": []
          },
          "execution_count": 36
        }
      ]
    },
    {
      "cell_type": "markdown",
      "metadata": {
        "id": "MFjSMWx3O10c"
      },
      "source": [
        "# Filtering"
      ]
    },
    {
      "cell_type": "code",
      "metadata": {
        "colab": {
          "base_uri": "https://localhost:8080/"
        },
        "id": "5fnHpWyKO37G",
        "outputId": "d15c96c5-db71-4f3a-b0a2-a807d05e77a9"
      },
      "source": [
        "df['salary']"
      ],
      "execution_count": null,
      "outputs": [
        {
          "output_type": "execute_result",
          "data": {
            "text/plain": [
              "0     186960\n",
              "1      93000\n",
              "2     110515\n",
              "3     131205\n",
              "4     104800\n",
              "       ...  \n",
              "73    105450\n",
              "74    104542\n",
              "75    124312\n",
              "76    109954\n",
              "77    109646\n",
              "Name: salary, Length: 78, dtype: int64"
            ]
          },
          "metadata": {
            "tags": []
          },
          "execution_count": 37
        }
      ]
    },
    {
      "cell_type": "code",
      "metadata": {
        "id": "QqZVPmSqQ9F9"
      },
      "source": [
        "df['salary']>160000 #condition\n",
        "subs = df[df['salary']>160000]"
      ],
      "execution_count": null,
      "outputs": []
    },
    {
      "cell_type": "code",
      "metadata": {
        "colab": {
          "base_uri": "https://localhost:8080/",
          "height": 143
        },
        "id": "cUrqiRabRBwd",
        "outputId": "c4de7868-2832-4d95-91c1-d6fd1edd295a"
      },
      "source": [
        "subs"
      ],
      "execution_count": null,
      "outputs": [
        {
          "output_type": "execute_result",
          "data": {
            "text/html": [
              "<div>\n",
              "<style scoped>\n",
              "    .dataframe tbody tr th:only-of-type {\n",
              "        vertical-align: middle;\n",
              "    }\n",
              "\n",
              "    .dataframe tbody tr th {\n",
              "        vertical-align: top;\n",
              "    }\n",
              "\n",
              "    .dataframe thead th {\n",
              "        text-align: right;\n",
              "    }\n",
              "</style>\n",
              "<table border=\"1\" class=\"dataframe\">\n",
              "  <thead>\n",
              "    <tr style=\"text-align: right;\">\n",
              "      <th></th>\n",
              "      <th>rank</th>\n",
              "      <th>discipline</th>\n",
              "      <th>phd</th>\n",
              "      <th>service</th>\n",
              "      <th>sex</th>\n",
              "      <th>salary</th>\n",
              "    </tr>\n",
              "  </thead>\n",
              "  <tbody>\n",
              "    <tr>\n",
              "      <th>0</th>\n",
              "      <td>Prof</td>\n",
              "      <td>B</td>\n",
              "      <td>56</td>\n",
              "      <td>49</td>\n",
              "      <td>Male</td>\n",
              "      <td>186960</td>\n",
              "    </tr>\n",
              "    <tr>\n",
              "      <th>13</th>\n",
              "      <td>Prof</td>\n",
              "      <td>B</td>\n",
              "      <td>35</td>\n",
              "      <td>33</td>\n",
              "      <td>Male</td>\n",
              "      <td>162200</td>\n",
              "    </tr>\n",
              "    <tr>\n",
              "      <th>72</th>\n",
              "      <td>Prof</td>\n",
              "      <td>B</td>\n",
              "      <td>24</td>\n",
              "      <td>15</td>\n",
              "      <td>Female</td>\n",
              "      <td>161101</td>\n",
              "    </tr>\n",
              "  </tbody>\n",
              "</table>\n",
              "</div>"
            ],
            "text/plain": [
              "    rank discipline  phd  service     sex  salary\n",
              "0   Prof          B   56       49    Male  186960\n",
              "13  Prof          B   35       33    Male  162200\n",
              "72  Prof          B   24       15  Female  161101"
            ]
          },
          "metadata": {
            "tags": []
          },
          "execution_count": 41
        }
      ]
    },
    {
      "cell_type": "markdown",
      "metadata": {
        "id": "IqF25fznS7QY"
      },
      "source": [
        "# find the mean value of salary for discipline A"
      ]
    },
    {
      "cell_type": "code",
      "metadata": {
        "colab": {
          "base_uri": "https://localhost:8080/"
        },
        "id": "bDJrwQs1Rcua",
        "outputId": "60fedd20-9af2-4d00-837b-ba2ad2c834b9"
      },
      "source": [
        "# find the mean value of salary for discipline A\n",
        "df[df['discipline'] == 'A']['salary'].mean()"
      ],
      "execution_count": null,
      "outputs": [
        {
          "output_type": "execute_result",
          "data": {
            "text/plain": [
              "98331.11111111111"
            ]
          },
          "metadata": {
            "tags": []
          },
          "execution_count": 43
        }
      ]
    },
    {
      "cell_type": "code",
      "metadata": {
        "colab": {
          "base_uri": "https://localhost:8080/",
          "height": 143
        },
        "id": "zDZnJ6JoTgUT",
        "outputId": "063efb74-2d6d-4e31-c5c7-955cfee17546"
      },
      "source": [
        "#challenge\n",
        "df[df['salary'] > 100000].groupby('sex')[['salary']].count()\n"
      ],
      "execution_count": null,
      "outputs": [
        {
          "output_type": "execute_result",
          "data": {
            "text/html": [
              "<div>\n",
              "<style scoped>\n",
              "    .dataframe tbody tr th:only-of-type {\n",
              "        vertical-align: middle;\n",
              "    }\n",
              "\n",
              "    .dataframe tbody tr th {\n",
              "        vertical-align: top;\n",
              "    }\n",
              "\n",
              "    .dataframe thead th {\n",
              "        text-align: right;\n",
              "    }\n",
              "</style>\n",
              "<table border=\"1\" class=\"dataframe\">\n",
              "  <thead>\n",
              "    <tr style=\"text-align: right;\">\n",
              "      <th></th>\n",
              "      <th>salary</th>\n",
              "    </tr>\n",
              "    <tr>\n",
              "      <th>sex</th>\n",
              "      <th></th>\n",
              "    </tr>\n",
              "  </thead>\n",
              "  <tbody>\n",
              "    <tr>\n",
              "      <th>Female</th>\n",
              "      <td>21</td>\n",
              "    </tr>\n",
              "    <tr>\n",
              "      <th>Male</th>\n",
              "      <td>25</td>\n",
              "    </tr>\n",
              "  </tbody>\n",
              "</table>\n",
              "</div>"
            ],
            "text/plain": [
              "        salary\n",
              "sex           \n",
              "Female      21\n",
              "Male        25"
            ]
          },
          "metadata": {
            "tags": []
          },
          "execution_count": 54
        }
      ]
    },
    {
      "cell_type": "code",
      "metadata": {
        "colab": {
          "base_uri": "https://localhost:8080/"
        },
        "id": "oSv7od39nU1-",
        "outputId": "13f3ac72-a77d-45a1-c387-3e6e9eab53f5"
      },
      "source": [
        "df['salary']"
      ],
      "execution_count": null,
      "outputs": [
        {
          "output_type": "execute_result",
          "data": {
            "text/plain": [
              "0     186960\n",
              "1      93000\n",
              "2     110515\n",
              "3     131205\n",
              "4     104800\n",
              "       ...  \n",
              "73    105450\n",
              "74    104542\n",
              "75    124312\n",
              "76    109954\n",
              "77    109646\n",
              "Name: salary, Length: 78, dtype: int64"
            ]
          },
          "metadata": {
            "tags": []
          },
          "execution_count": 55
        }
      ]
    },
    {
      "cell_type": "code",
      "metadata": {
        "colab": {
          "base_uri": "https://localhost:8080/",
          "height": 424
        },
        "id": "y5PlE3Aqojsa",
        "outputId": "e2b6ccde-90b8-4a85-f5e3-3ac3a21b849b"
      },
      "source": [
        "df[['rank','salary']]"
      ],
      "execution_count": null,
      "outputs": [
        {
          "output_type": "execute_result",
          "data": {
            "text/html": [
              "<div>\n",
              "<style scoped>\n",
              "    .dataframe tbody tr th:only-of-type {\n",
              "        vertical-align: middle;\n",
              "    }\n",
              "\n",
              "    .dataframe tbody tr th {\n",
              "        vertical-align: top;\n",
              "    }\n",
              "\n",
              "    .dataframe thead th {\n",
              "        text-align: right;\n",
              "    }\n",
              "</style>\n",
              "<table border=\"1\" class=\"dataframe\">\n",
              "  <thead>\n",
              "    <tr style=\"text-align: right;\">\n",
              "      <th></th>\n",
              "      <th>rank</th>\n",
              "      <th>salary</th>\n",
              "    </tr>\n",
              "  </thead>\n",
              "  <tbody>\n",
              "    <tr>\n",
              "      <th>0</th>\n",
              "      <td>Prof</td>\n",
              "      <td>186960</td>\n",
              "    </tr>\n",
              "    <tr>\n",
              "      <th>1</th>\n",
              "      <td>Prof</td>\n",
              "      <td>93000</td>\n",
              "    </tr>\n",
              "    <tr>\n",
              "      <th>2</th>\n",
              "      <td>Prof</td>\n",
              "      <td>110515</td>\n",
              "    </tr>\n",
              "    <tr>\n",
              "      <th>3</th>\n",
              "      <td>Prof</td>\n",
              "      <td>131205</td>\n",
              "    </tr>\n",
              "    <tr>\n",
              "      <th>4</th>\n",
              "      <td>Prof</td>\n",
              "      <td>104800</td>\n",
              "    </tr>\n",
              "    <tr>\n",
              "      <th>...</th>\n",
              "      <td>...</td>\n",
              "      <td>...</td>\n",
              "    </tr>\n",
              "    <tr>\n",
              "      <th>73</th>\n",
              "      <td>Prof</td>\n",
              "      <td>105450</td>\n",
              "    </tr>\n",
              "    <tr>\n",
              "      <th>74</th>\n",
              "      <td>AssocProf</td>\n",
              "      <td>104542</td>\n",
              "    </tr>\n",
              "    <tr>\n",
              "      <th>75</th>\n",
              "      <td>Prof</td>\n",
              "      <td>124312</td>\n",
              "    </tr>\n",
              "    <tr>\n",
              "      <th>76</th>\n",
              "      <td>Prof</td>\n",
              "      <td>109954</td>\n",
              "    </tr>\n",
              "    <tr>\n",
              "      <th>77</th>\n",
              "      <td>Prof</td>\n",
              "      <td>109646</td>\n",
              "    </tr>\n",
              "  </tbody>\n",
              "</table>\n",
              "<p>78 rows × 2 columns</p>\n",
              "</div>"
            ],
            "text/plain": [
              "         rank  salary\n",
              "0        Prof  186960\n",
              "1        Prof   93000\n",
              "2        Prof  110515\n",
              "3        Prof  131205\n",
              "4        Prof  104800\n",
              "..        ...     ...\n",
              "73       Prof  105450\n",
              "74  AssocProf  104542\n",
              "75       Prof  124312\n",
              "76       Prof  109954\n",
              "77       Prof  109646\n",
              "\n",
              "[78 rows x 2 columns]"
            ]
          },
          "metadata": {
            "tags": []
          },
          "execution_count": 56
        }
      ]
    },
    {
      "cell_type": "code",
      "metadata": {
        "colab": {
          "base_uri": "https://localhost:8080/",
          "height": 363
        },
        "id": "VQ8KbITWosv9",
        "outputId": "2e5dee70-e9a2-4ff3-cc64-127ff37afd0a"
      },
      "source": [
        "df[10:20]"
      ],
      "execution_count": null,
      "outputs": [
        {
          "output_type": "execute_result",
          "data": {
            "text/html": [
              "<div>\n",
              "<style scoped>\n",
              "    .dataframe tbody tr th:only-of-type {\n",
              "        vertical-align: middle;\n",
              "    }\n",
              "\n",
              "    .dataframe tbody tr th {\n",
              "        vertical-align: top;\n",
              "    }\n",
              "\n",
              "    .dataframe thead th {\n",
              "        text-align: right;\n",
              "    }\n",
              "</style>\n",
              "<table border=\"1\" class=\"dataframe\">\n",
              "  <thead>\n",
              "    <tr style=\"text-align: right;\">\n",
              "      <th></th>\n",
              "      <th>rank</th>\n",
              "      <th>discipline</th>\n",
              "      <th>phd</th>\n",
              "      <th>service</th>\n",
              "      <th>sex</th>\n",
              "      <th>salary</th>\n",
              "    </tr>\n",
              "  </thead>\n",
              "  <tbody>\n",
              "    <tr>\n",
              "      <th>10</th>\n",
              "      <td>Prof</td>\n",
              "      <td>B</td>\n",
              "      <td>39</td>\n",
              "      <td>33</td>\n",
              "      <td>Male</td>\n",
              "      <td>128250</td>\n",
              "    </tr>\n",
              "    <tr>\n",
              "      <th>11</th>\n",
              "      <td>Prof</td>\n",
              "      <td>B</td>\n",
              "      <td>23</td>\n",
              "      <td>23</td>\n",
              "      <td>Male</td>\n",
              "      <td>134778</td>\n",
              "    </tr>\n",
              "    <tr>\n",
              "      <th>12</th>\n",
              "      <td>AsstProf</td>\n",
              "      <td>B</td>\n",
              "      <td>1</td>\n",
              "      <td>0</td>\n",
              "      <td>Male</td>\n",
              "      <td>88000</td>\n",
              "    </tr>\n",
              "    <tr>\n",
              "      <th>13</th>\n",
              "      <td>Prof</td>\n",
              "      <td>B</td>\n",
              "      <td>35</td>\n",
              "      <td>33</td>\n",
              "      <td>Male</td>\n",
              "      <td>162200</td>\n",
              "    </tr>\n",
              "    <tr>\n",
              "      <th>14</th>\n",
              "      <td>Prof</td>\n",
              "      <td>B</td>\n",
              "      <td>25</td>\n",
              "      <td>19</td>\n",
              "      <td>Male</td>\n",
              "      <td>153750</td>\n",
              "    </tr>\n",
              "    <tr>\n",
              "      <th>15</th>\n",
              "      <td>Prof</td>\n",
              "      <td>B</td>\n",
              "      <td>17</td>\n",
              "      <td>3</td>\n",
              "      <td>Male</td>\n",
              "      <td>150480</td>\n",
              "    </tr>\n",
              "    <tr>\n",
              "      <th>16</th>\n",
              "      <td>AsstProf</td>\n",
              "      <td>B</td>\n",
              "      <td>8</td>\n",
              "      <td>3</td>\n",
              "      <td>Male</td>\n",
              "      <td>75044</td>\n",
              "    </tr>\n",
              "    <tr>\n",
              "      <th>17</th>\n",
              "      <td>AsstProf</td>\n",
              "      <td>B</td>\n",
              "      <td>4</td>\n",
              "      <td>0</td>\n",
              "      <td>Male</td>\n",
              "      <td>92000</td>\n",
              "    </tr>\n",
              "    <tr>\n",
              "      <th>18</th>\n",
              "      <td>Prof</td>\n",
              "      <td>A</td>\n",
              "      <td>19</td>\n",
              "      <td>7</td>\n",
              "      <td>Male</td>\n",
              "      <td>107300</td>\n",
              "    </tr>\n",
              "    <tr>\n",
              "      <th>19</th>\n",
              "      <td>Prof</td>\n",
              "      <td>A</td>\n",
              "      <td>29</td>\n",
              "      <td>27</td>\n",
              "      <td>Male</td>\n",
              "      <td>150500</td>\n",
              "    </tr>\n",
              "  </tbody>\n",
              "</table>\n",
              "</div>"
            ],
            "text/plain": [
              "        rank discipline  phd  service   sex  salary\n",
              "10      Prof          B   39       33  Male  128250\n",
              "11      Prof          B   23       23  Male  134778\n",
              "12  AsstProf          B    1        0  Male   88000\n",
              "13      Prof          B   35       33  Male  162200\n",
              "14      Prof          B   25       19  Male  153750\n",
              "15      Prof          B   17        3  Male  150480\n",
              "16  AsstProf          B    8        3  Male   75044\n",
              "17  AsstProf          B    4        0  Male   92000\n",
              "18      Prof          A   19        7  Male  107300\n",
              "19      Prof          A   29       27  Male  150500"
            ]
          },
          "metadata": {
            "tags": []
          },
          "execution_count": 57
        }
      ]
    },
    {
      "cell_type": "code",
      "metadata": {
        "colab": {
          "base_uri": "https://localhost:8080/",
          "height": 363
        },
        "id": "UFi5vfUyy3ZJ",
        "outputId": "d8f1f7cf-4678-4534-cffc-fc122d73209d"
      },
      "source": [
        "df.iloc[10:20,[0,3,4,5,]]"
      ],
      "execution_count": null,
      "outputs": [
        {
          "output_type": "execute_result",
          "data": {
            "text/html": [
              "<div>\n",
              "<style scoped>\n",
              "    .dataframe tbody tr th:only-of-type {\n",
              "        vertical-align: middle;\n",
              "    }\n",
              "\n",
              "    .dataframe tbody tr th {\n",
              "        vertical-align: top;\n",
              "    }\n",
              "\n",
              "    .dataframe thead th {\n",
              "        text-align: right;\n",
              "    }\n",
              "</style>\n",
              "<table border=\"1\" class=\"dataframe\">\n",
              "  <thead>\n",
              "    <tr style=\"text-align: right;\">\n",
              "      <th></th>\n",
              "      <th>rank</th>\n",
              "      <th>service</th>\n",
              "      <th>sex</th>\n",
              "      <th>salary</th>\n",
              "    </tr>\n",
              "  </thead>\n",
              "  <tbody>\n",
              "    <tr>\n",
              "      <th>10</th>\n",
              "      <td>Prof</td>\n",
              "      <td>33</td>\n",
              "      <td>Male</td>\n",
              "      <td>128250</td>\n",
              "    </tr>\n",
              "    <tr>\n",
              "      <th>11</th>\n",
              "      <td>Prof</td>\n",
              "      <td>23</td>\n",
              "      <td>Male</td>\n",
              "      <td>134778</td>\n",
              "    </tr>\n",
              "    <tr>\n",
              "      <th>12</th>\n",
              "      <td>AsstProf</td>\n",
              "      <td>0</td>\n",
              "      <td>Male</td>\n",
              "      <td>88000</td>\n",
              "    </tr>\n",
              "    <tr>\n",
              "      <th>13</th>\n",
              "      <td>Prof</td>\n",
              "      <td>33</td>\n",
              "      <td>Male</td>\n",
              "      <td>162200</td>\n",
              "    </tr>\n",
              "    <tr>\n",
              "      <th>14</th>\n",
              "      <td>Prof</td>\n",
              "      <td>19</td>\n",
              "      <td>Male</td>\n",
              "      <td>153750</td>\n",
              "    </tr>\n",
              "    <tr>\n",
              "      <th>15</th>\n",
              "      <td>Prof</td>\n",
              "      <td>3</td>\n",
              "      <td>Male</td>\n",
              "      <td>150480</td>\n",
              "    </tr>\n",
              "    <tr>\n",
              "      <th>16</th>\n",
              "      <td>AsstProf</td>\n",
              "      <td>3</td>\n",
              "      <td>Male</td>\n",
              "      <td>75044</td>\n",
              "    </tr>\n",
              "    <tr>\n",
              "      <th>17</th>\n",
              "      <td>AsstProf</td>\n",
              "      <td>0</td>\n",
              "      <td>Male</td>\n",
              "      <td>92000</td>\n",
              "    </tr>\n",
              "    <tr>\n",
              "      <th>18</th>\n",
              "      <td>Prof</td>\n",
              "      <td>7</td>\n",
              "      <td>Male</td>\n",
              "      <td>107300</td>\n",
              "    </tr>\n",
              "    <tr>\n",
              "      <th>19</th>\n",
              "      <td>Prof</td>\n",
              "      <td>27</td>\n",
              "      <td>Male</td>\n",
              "      <td>150500</td>\n",
              "    </tr>\n",
              "  </tbody>\n",
              "</table>\n",
              "</div>"
            ],
            "text/plain": [
              "        rank  service   sex  salary\n",
              "10      Prof       33  Male  128250\n",
              "11      Prof       23  Male  134778\n",
              "12  AsstProf        0  Male   88000\n",
              "13      Prof       33  Male  162200\n",
              "14      Prof       19  Male  153750\n",
              "15      Prof        3  Male  150480\n",
              "16  AsstProf        3  Male   75044\n",
              "17  AsstProf        0  Male   92000\n",
              "18      Prof        7  Male  107300\n",
              "19      Prof       27  Male  150500"
            ]
          },
          "metadata": {
            "tags": []
          },
          "execution_count": 58
        }
      ]
    },
    {
      "cell_type": "code",
      "metadata": {
        "colab": {
          "base_uri": "https://localhost:8080/"
        },
        "id": "nZvoCISKzT8w",
        "outputId": "8b3c6e6c-0363-4ae4-8749-ae6b92b41ffb"
      },
      "source": [
        "df.iloc[0]"
      ],
      "execution_count": null,
      "outputs": [
        {
          "output_type": "execute_result",
          "data": {
            "text/plain": [
              "rank            Prof\n",
              "discipline         B\n",
              "phd               56\n",
              "service           49\n",
              "sex             Male\n",
              "salary        186960\n",
              "Name: 0, dtype: object"
            ]
          },
          "metadata": {
            "tags": []
          },
          "execution_count": 59
        }
      ]
    },
    {
      "cell_type": "code",
      "metadata": {
        "colab": {
          "base_uri": "https://localhost:8080/",
          "height": 424
        },
        "id": "T6jVEaVwzYmg",
        "outputId": "d8bdf9be-4987-4337-f5d3-26e9e933b550"
      },
      "source": [
        "df.iloc[:,1:3]"
      ],
      "execution_count": null,
      "outputs": [
        {
          "output_type": "execute_result",
          "data": {
            "text/html": [
              "<div>\n",
              "<style scoped>\n",
              "    .dataframe tbody tr th:only-of-type {\n",
              "        vertical-align: middle;\n",
              "    }\n",
              "\n",
              "    .dataframe tbody tr th {\n",
              "        vertical-align: top;\n",
              "    }\n",
              "\n",
              "    .dataframe thead th {\n",
              "        text-align: right;\n",
              "    }\n",
              "</style>\n",
              "<table border=\"1\" class=\"dataframe\">\n",
              "  <thead>\n",
              "    <tr style=\"text-align: right;\">\n",
              "      <th></th>\n",
              "      <th>discipline</th>\n",
              "      <th>phd</th>\n",
              "    </tr>\n",
              "  </thead>\n",
              "  <tbody>\n",
              "    <tr>\n",
              "      <th>0</th>\n",
              "      <td>B</td>\n",
              "      <td>56</td>\n",
              "    </tr>\n",
              "    <tr>\n",
              "      <th>1</th>\n",
              "      <td>A</td>\n",
              "      <td>12</td>\n",
              "    </tr>\n",
              "    <tr>\n",
              "      <th>2</th>\n",
              "      <td>A</td>\n",
              "      <td>23</td>\n",
              "    </tr>\n",
              "    <tr>\n",
              "      <th>3</th>\n",
              "      <td>A</td>\n",
              "      <td>40</td>\n",
              "    </tr>\n",
              "    <tr>\n",
              "      <th>4</th>\n",
              "      <td>B</td>\n",
              "      <td>20</td>\n",
              "    </tr>\n",
              "    <tr>\n",
              "      <th>...</th>\n",
              "      <td>...</td>\n",
              "      <td>...</td>\n",
              "    </tr>\n",
              "    <tr>\n",
              "      <th>73</th>\n",
              "      <td>B</td>\n",
              "      <td>18</td>\n",
              "    </tr>\n",
              "    <tr>\n",
              "      <th>74</th>\n",
              "      <td>B</td>\n",
              "      <td>19</td>\n",
              "    </tr>\n",
              "    <tr>\n",
              "      <th>75</th>\n",
              "      <td>B</td>\n",
              "      <td>17</td>\n",
              "    </tr>\n",
              "    <tr>\n",
              "      <th>76</th>\n",
              "      <td>A</td>\n",
              "      <td>28</td>\n",
              "    </tr>\n",
              "    <tr>\n",
              "      <th>77</th>\n",
              "      <td>A</td>\n",
              "      <td>23</td>\n",
              "    </tr>\n",
              "  </tbody>\n",
              "</table>\n",
              "<p>78 rows × 2 columns</p>\n",
              "</div>"
            ],
            "text/plain": [
              "   discipline  phd\n",
              "0           B   56\n",
              "1           A   12\n",
              "2           A   23\n",
              "3           A   40\n",
              "4           B   20\n",
              "..        ...  ...\n",
              "73          B   18\n",
              "74          B   19\n",
              "75          B   17\n",
              "76          A   28\n",
              "77          A   23\n",
              "\n",
              "[78 rows x 2 columns]"
            ]
          },
          "metadata": {
            "tags": []
          },
          "execution_count": 61
        }
      ]
    },
    {
      "cell_type": "code",
      "metadata": {
        "colab": {
          "base_uri": "https://localhost:8080/",
          "height": 112
        },
        "id": "dFrhxDT-zmpN",
        "outputId": "4bdcc4e2-03d3-4906-a962-5b61a4e9096d"
      },
      "source": [
        "df.iloc[1:3,0:2]"
      ],
      "execution_count": null,
      "outputs": [
        {
          "output_type": "execute_result",
          "data": {
            "text/html": [
              "<div>\n",
              "<style scoped>\n",
              "    .dataframe tbody tr th:only-of-type {\n",
              "        vertical-align: middle;\n",
              "    }\n",
              "\n",
              "    .dataframe tbody tr th {\n",
              "        vertical-align: top;\n",
              "    }\n",
              "\n",
              "    .dataframe thead th {\n",
              "        text-align: right;\n",
              "    }\n",
              "</style>\n",
              "<table border=\"1\" class=\"dataframe\">\n",
              "  <thead>\n",
              "    <tr style=\"text-align: right;\">\n",
              "      <th></th>\n",
              "      <th>rank</th>\n",
              "      <th>discipline</th>\n",
              "    </tr>\n",
              "  </thead>\n",
              "  <tbody>\n",
              "    <tr>\n",
              "      <th>1</th>\n",
              "      <td>Prof</td>\n",
              "      <td>A</td>\n",
              "    </tr>\n",
              "    <tr>\n",
              "      <th>2</th>\n",
              "      <td>Prof</td>\n",
              "      <td>A</td>\n",
              "    </tr>\n",
              "  </tbody>\n",
              "</table>\n",
              "</div>"
            ],
            "text/plain": [
              "   rank discipline\n",
              "1  Prof          A\n",
              "2  Prof          A"
            ]
          },
          "metadata": {
            "tags": []
          },
          "execution_count": 62
        }
      ]
    },
    {
      "cell_type": "code",
      "metadata": {
        "colab": {
          "base_uri": "https://localhost:8080/",
          "height": 394
        },
        "id": "VYyaTsJ9zt-p",
        "outputId": "7f4bcc1c-ca02-4a30-f52f-e33baad13b19"
      },
      "source": [
        "df.loc[10:20,['rank','salary']]"
      ],
      "execution_count": null,
      "outputs": [
        {
          "output_type": "execute_result",
          "data": {
            "text/html": [
              "<div>\n",
              "<style scoped>\n",
              "    .dataframe tbody tr th:only-of-type {\n",
              "        vertical-align: middle;\n",
              "    }\n",
              "\n",
              "    .dataframe tbody tr th {\n",
              "        vertical-align: top;\n",
              "    }\n",
              "\n",
              "    .dataframe thead th {\n",
              "        text-align: right;\n",
              "    }\n",
              "</style>\n",
              "<table border=\"1\" class=\"dataframe\">\n",
              "  <thead>\n",
              "    <tr style=\"text-align: right;\">\n",
              "      <th></th>\n",
              "      <th>rank</th>\n",
              "      <th>salary</th>\n",
              "    </tr>\n",
              "  </thead>\n",
              "  <tbody>\n",
              "    <tr>\n",
              "      <th>10</th>\n",
              "      <td>Prof</td>\n",
              "      <td>128250</td>\n",
              "    </tr>\n",
              "    <tr>\n",
              "      <th>11</th>\n",
              "      <td>Prof</td>\n",
              "      <td>134778</td>\n",
              "    </tr>\n",
              "    <tr>\n",
              "      <th>12</th>\n",
              "      <td>AsstProf</td>\n",
              "      <td>88000</td>\n",
              "    </tr>\n",
              "    <tr>\n",
              "      <th>13</th>\n",
              "      <td>Prof</td>\n",
              "      <td>162200</td>\n",
              "    </tr>\n",
              "    <tr>\n",
              "      <th>14</th>\n",
              "      <td>Prof</td>\n",
              "      <td>153750</td>\n",
              "    </tr>\n",
              "    <tr>\n",
              "      <th>15</th>\n",
              "      <td>Prof</td>\n",
              "      <td>150480</td>\n",
              "    </tr>\n",
              "    <tr>\n",
              "      <th>16</th>\n",
              "      <td>AsstProf</td>\n",
              "      <td>75044</td>\n",
              "    </tr>\n",
              "    <tr>\n",
              "      <th>17</th>\n",
              "      <td>AsstProf</td>\n",
              "      <td>92000</td>\n",
              "    </tr>\n",
              "    <tr>\n",
              "      <th>18</th>\n",
              "      <td>Prof</td>\n",
              "      <td>107300</td>\n",
              "    </tr>\n",
              "    <tr>\n",
              "      <th>19</th>\n",
              "      <td>Prof</td>\n",
              "      <td>150500</td>\n",
              "    </tr>\n",
              "    <tr>\n",
              "      <th>20</th>\n",
              "      <td>AsstProf</td>\n",
              "      <td>92000</td>\n",
              "    </tr>\n",
              "  </tbody>\n",
              "</table>\n",
              "</div>"
            ],
            "text/plain": [
              "        rank  salary\n",
              "10      Prof  128250\n",
              "11      Prof  134778\n",
              "12  AsstProf   88000\n",
              "13      Prof  162200\n",
              "14      Prof  153750\n",
              "15      Prof  150480\n",
              "16  AsstProf   75044\n",
              "17  AsstProf   92000\n",
              "18      Prof  107300\n",
              "19      Prof  150500\n",
              "20  AsstProf   92000"
            ]
          },
          "metadata": {
            "tags": []
          },
          "execution_count": 63
        }
      ]
    },
    {
      "cell_type": "markdown",
      "metadata": {
        "id": "kaKwgeRs0Pmv"
      },
      "source": [
        "# Sorting"
      ]
    },
    {
      "cell_type": "code",
      "metadata": {
        "colab": {
          "base_uri": "https://localhost:8080/",
          "height": 206
        },
        "id": "fRQ2kfLc0SqE",
        "outputId": "cacd9004-3916-4a8e-bf7b-3954fb63698a"
      },
      "source": [
        "df_sorted = df.sort_values(by='service')\n",
        "df_sorted.head()"
      ],
      "execution_count": null,
      "outputs": [
        {
          "output_type": "execute_result",
          "data": {
            "text/html": [
              "<div>\n",
              "<style scoped>\n",
              "    .dataframe tbody tr th:only-of-type {\n",
              "        vertical-align: middle;\n",
              "    }\n",
              "\n",
              "    .dataframe tbody tr th {\n",
              "        vertical-align: top;\n",
              "    }\n",
              "\n",
              "    .dataframe thead th {\n",
              "        text-align: right;\n",
              "    }\n",
              "</style>\n",
              "<table border=\"1\" class=\"dataframe\">\n",
              "  <thead>\n",
              "    <tr style=\"text-align: right;\">\n",
              "      <th></th>\n",
              "      <th>rank</th>\n",
              "      <th>discipline</th>\n",
              "      <th>phd</th>\n",
              "      <th>service</th>\n",
              "      <th>sex</th>\n",
              "      <th>salary</th>\n",
              "    </tr>\n",
              "  </thead>\n",
              "  <tbody>\n",
              "    <tr>\n",
              "      <th>55</th>\n",
              "      <td>AsstProf</td>\n",
              "      <td>A</td>\n",
              "      <td>2</td>\n",
              "      <td>0</td>\n",
              "      <td>Female</td>\n",
              "      <td>72500</td>\n",
              "    </tr>\n",
              "    <tr>\n",
              "      <th>23</th>\n",
              "      <td>AsstProf</td>\n",
              "      <td>A</td>\n",
              "      <td>2</td>\n",
              "      <td>0</td>\n",
              "      <td>Male</td>\n",
              "      <td>85000</td>\n",
              "    </tr>\n",
              "    <tr>\n",
              "      <th>43</th>\n",
              "      <td>AsstProf</td>\n",
              "      <td>B</td>\n",
              "      <td>5</td>\n",
              "      <td>0</td>\n",
              "      <td>Female</td>\n",
              "      <td>77000</td>\n",
              "    </tr>\n",
              "    <tr>\n",
              "      <th>17</th>\n",
              "      <td>AsstProf</td>\n",
              "      <td>B</td>\n",
              "      <td>4</td>\n",
              "      <td>0</td>\n",
              "      <td>Male</td>\n",
              "      <td>92000</td>\n",
              "    </tr>\n",
              "    <tr>\n",
              "      <th>12</th>\n",
              "      <td>AsstProf</td>\n",
              "      <td>B</td>\n",
              "      <td>1</td>\n",
              "      <td>0</td>\n",
              "      <td>Male</td>\n",
              "      <td>88000</td>\n",
              "    </tr>\n",
              "  </tbody>\n",
              "</table>\n",
              "</div>"
            ],
            "text/plain": [
              "        rank discipline  phd  service     sex  salary\n",
              "55  AsstProf          A    2        0  Female   72500\n",
              "23  AsstProf          A    2        0    Male   85000\n",
              "43  AsstProf          B    5        0  Female   77000\n",
              "17  AsstProf          B    4        0    Male   92000\n",
              "12  AsstProf          B    1        0    Male   88000"
            ]
          },
          "metadata": {
            "tags": []
          },
          "execution_count": 65
        }
      ]
    },
    {
      "cell_type": "code",
      "metadata": {
        "colab": {
          "base_uri": "https://localhost:8080/",
          "height": 424
        },
        "id": "1FhTAZz616K7",
        "outputId": "3da65f8e-6077-4c0f-e026-1f3e081a1f82"
      },
      "source": [
        "df.sort_index(ascending=True)"
      ],
      "execution_count": null,
      "outputs": [
        {
          "output_type": "execute_result",
          "data": {
            "text/html": [
              "<div>\n",
              "<style scoped>\n",
              "    .dataframe tbody tr th:only-of-type {\n",
              "        vertical-align: middle;\n",
              "    }\n",
              "\n",
              "    .dataframe tbody tr th {\n",
              "        vertical-align: top;\n",
              "    }\n",
              "\n",
              "    .dataframe thead th {\n",
              "        text-align: right;\n",
              "    }\n",
              "</style>\n",
              "<table border=\"1\" class=\"dataframe\">\n",
              "  <thead>\n",
              "    <tr style=\"text-align: right;\">\n",
              "      <th></th>\n",
              "      <th>rank</th>\n",
              "      <th>discipline</th>\n",
              "      <th>phd</th>\n",
              "      <th>service</th>\n",
              "      <th>sex</th>\n",
              "      <th>salary</th>\n",
              "    </tr>\n",
              "  </thead>\n",
              "  <tbody>\n",
              "    <tr>\n",
              "      <th>0</th>\n",
              "      <td>Prof</td>\n",
              "      <td>B</td>\n",
              "      <td>56</td>\n",
              "      <td>49</td>\n",
              "      <td>Male</td>\n",
              "      <td>186960</td>\n",
              "    </tr>\n",
              "    <tr>\n",
              "      <th>1</th>\n",
              "      <td>Prof</td>\n",
              "      <td>A</td>\n",
              "      <td>12</td>\n",
              "      <td>6</td>\n",
              "      <td>Male</td>\n",
              "      <td>93000</td>\n",
              "    </tr>\n",
              "    <tr>\n",
              "      <th>2</th>\n",
              "      <td>Prof</td>\n",
              "      <td>A</td>\n",
              "      <td>23</td>\n",
              "      <td>20</td>\n",
              "      <td>Male</td>\n",
              "      <td>110515</td>\n",
              "    </tr>\n",
              "    <tr>\n",
              "      <th>3</th>\n",
              "      <td>Prof</td>\n",
              "      <td>A</td>\n",
              "      <td>40</td>\n",
              "      <td>31</td>\n",
              "      <td>Male</td>\n",
              "      <td>131205</td>\n",
              "    </tr>\n",
              "    <tr>\n",
              "      <th>4</th>\n",
              "      <td>Prof</td>\n",
              "      <td>B</td>\n",
              "      <td>20</td>\n",
              "      <td>18</td>\n",
              "      <td>Male</td>\n",
              "      <td>104800</td>\n",
              "    </tr>\n",
              "    <tr>\n",
              "      <th>...</th>\n",
              "      <td>...</td>\n",
              "      <td>...</td>\n",
              "      <td>...</td>\n",
              "      <td>...</td>\n",
              "      <td>...</td>\n",
              "      <td>...</td>\n",
              "    </tr>\n",
              "    <tr>\n",
              "      <th>73</th>\n",
              "      <td>Prof</td>\n",
              "      <td>B</td>\n",
              "      <td>18</td>\n",
              "      <td>10</td>\n",
              "      <td>Female</td>\n",
              "      <td>105450</td>\n",
              "    </tr>\n",
              "    <tr>\n",
              "      <th>74</th>\n",
              "      <td>AssocProf</td>\n",
              "      <td>B</td>\n",
              "      <td>19</td>\n",
              "      <td>6</td>\n",
              "      <td>Female</td>\n",
              "      <td>104542</td>\n",
              "    </tr>\n",
              "    <tr>\n",
              "      <th>75</th>\n",
              "      <td>Prof</td>\n",
              "      <td>B</td>\n",
              "      <td>17</td>\n",
              "      <td>17</td>\n",
              "      <td>Female</td>\n",
              "      <td>124312</td>\n",
              "    </tr>\n",
              "    <tr>\n",
              "      <th>76</th>\n",
              "      <td>Prof</td>\n",
              "      <td>A</td>\n",
              "      <td>28</td>\n",
              "      <td>14</td>\n",
              "      <td>Female</td>\n",
              "      <td>109954</td>\n",
              "    </tr>\n",
              "    <tr>\n",
              "      <th>77</th>\n",
              "      <td>Prof</td>\n",
              "      <td>A</td>\n",
              "      <td>23</td>\n",
              "      <td>15</td>\n",
              "      <td>Female</td>\n",
              "      <td>109646</td>\n",
              "    </tr>\n",
              "  </tbody>\n",
              "</table>\n",
              "<p>78 rows × 6 columns</p>\n",
              "</div>"
            ],
            "text/plain": [
              "         rank discipline  phd  service     sex  salary\n",
              "0        Prof          B   56       49    Male  186960\n",
              "1        Prof          A   12        6    Male   93000\n",
              "2        Prof          A   23       20    Male  110515\n",
              "3        Prof          A   40       31    Male  131205\n",
              "4        Prof          B   20       18    Male  104800\n",
              "..        ...        ...  ...      ...     ...     ...\n",
              "73       Prof          B   18       10  Female  105450\n",
              "74  AssocProf          B   19        6  Female  104542\n",
              "75       Prof          B   17       17  Female  124312\n",
              "76       Prof          A   28       14  Female  109954\n",
              "77       Prof          A   23       15  Female  109646\n",
              "\n",
              "[78 rows x 6 columns]"
            ]
          },
          "metadata": {
            "tags": []
          },
          "execution_count": 68
        }
      ]
    },
    {
      "cell_type": "code",
      "metadata": {
        "colab": {
          "base_uri": "https://localhost:8080/",
          "height": 424
        },
        "id": "rrmU0bGu2Egu",
        "outputId": "954452b5-847b-4d84-dbf1-965c43027657"
      },
      "source": [
        "df.sort_values(by=['service','salary'],ascending=[True,False])"
      ],
      "execution_count": null,
      "outputs": [
        {
          "output_type": "execute_result",
          "data": {
            "text/html": [
              "<div>\n",
              "<style scoped>\n",
              "    .dataframe tbody tr th:only-of-type {\n",
              "        vertical-align: middle;\n",
              "    }\n",
              "\n",
              "    .dataframe tbody tr th {\n",
              "        vertical-align: top;\n",
              "    }\n",
              "\n",
              "    .dataframe thead th {\n",
              "        text-align: right;\n",
              "    }\n",
              "</style>\n",
              "<table border=\"1\" class=\"dataframe\">\n",
              "  <thead>\n",
              "    <tr style=\"text-align: right;\">\n",
              "      <th></th>\n",
              "      <th>rank</th>\n",
              "      <th>discipline</th>\n",
              "      <th>phd</th>\n",
              "      <th>service</th>\n",
              "      <th>sex</th>\n",
              "      <th>salary</th>\n",
              "    </tr>\n",
              "  </thead>\n",
              "  <tbody>\n",
              "    <tr>\n",
              "      <th>52</th>\n",
              "      <td>Prof</td>\n",
              "      <td>A</td>\n",
              "      <td>12</td>\n",
              "      <td>0</td>\n",
              "      <td>Female</td>\n",
              "      <td>105000</td>\n",
              "    </tr>\n",
              "    <tr>\n",
              "      <th>17</th>\n",
              "      <td>AsstProf</td>\n",
              "      <td>B</td>\n",
              "      <td>4</td>\n",
              "      <td>0</td>\n",
              "      <td>Male</td>\n",
              "      <td>92000</td>\n",
              "    </tr>\n",
              "    <tr>\n",
              "      <th>12</th>\n",
              "      <td>AsstProf</td>\n",
              "      <td>B</td>\n",
              "      <td>1</td>\n",
              "      <td>0</td>\n",
              "      <td>Male</td>\n",
              "      <td>88000</td>\n",
              "    </tr>\n",
              "    <tr>\n",
              "      <th>23</th>\n",
              "      <td>AsstProf</td>\n",
              "      <td>A</td>\n",
              "      <td>2</td>\n",
              "      <td>0</td>\n",
              "      <td>Male</td>\n",
              "      <td>85000</td>\n",
              "    </tr>\n",
              "    <tr>\n",
              "      <th>43</th>\n",
              "      <td>AsstProf</td>\n",
              "      <td>B</td>\n",
              "      <td>5</td>\n",
              "      <td>0</td>\n",
              "      <td>Female</td>\n",
              "      <td>77000</td>\n",
              "    </tr>\n",
              "    <tr>\n",
              "      <th>...</th>\n",
              "      <td>...</td>\n",
              "      <td>...</td>\n",
              "      <td>...</td>\n",
              "      <td>...</td>\n",
              "      <td>...</td>\n",
              "      <td>...</td>\n",
              "    </tr>\n",
              "    <tr>\n",
              "      <th>40</th>\n",
              "      <td>Prof</td>\n",
              "      <td>A</td>\n",
              "      <td>39</td>\n",
              "      <td>36</td>\n",
              "      <td>Female</td>\n",
              "      <td>137000</td>\n",
              "    </tr>\n",
              "    <tr>\n",
              "      <th>27</th>\n",
              "      <td>Prof</td>\n",
              "      <td>A</td>\n",
              "      <td>45</td>\n",
              "      <td>43</td>\n",
              "      <td>Male</td>\n",
              "      <td>155865</td>\n",
              "    </tr>\n",
              "    <tr>\n",
              "      <th>36</th>\n",
              "      <td>Prof</td>\n",
              "      <td>B</td>\n",
              "      <td>45</td>\n",
              "      <td>45</td>\n",
              "      <td>Male</td>\n",
              "      <td>146856</td>\n",
              "    </tr>\n",
              "    <tr>\n",
              "      <th>0</th>\n",
              "      <td>Prof</td>\n",
              "      <td>B</td>\n",
              "      <td>56</td>\n",
              "      <td>49</td>\n",
              "      <td>Male</td>\n",
              "      <td>186960</td>\n",
              "    </tr>\n",
              "    <tr>\n",
              "      <th>9</th>\n",
              "      <td>Prof</td>\n",
              "      <td>A</td>\n",
              "      <td>51</td>\n",
              "      <td>51</td>\n",
              "      <td>Male</td>\n",
              "      <td>57800</td>\n",
              "    </tr>\n",
              "  </tbody>\n",
              "</table>\n",
              "<p>78 rows × 6 columns</p>\n",
              "</div>"
            ],
            "text/plain": [
              "        rank discipline  phd  service     sex  salary\n",
              "52      Prof          A   12        0  Female  105000\n",
              "17  AsstProf          B    4        0    Male   92000\n",
              "12  AsstProf          B    1        0    Male   88000\n",
              "23  AsstProf          A    2        0    Male   85000\n",
              "43  AsstProf          B    5        0  Female   77000\n",
              "..       ...        ...  ...      ...     ...     ...\n",
              "40      Prof          A   39       36  Female  137000\n",
              "27      Prof          A   45       43    Male  155865\n",
              "36      Prof          B   45       45    Male  146856\n",
              "0       Prof          B   56       49    Male  186960\n",
              "9       Prof          A   51       51    Male   57800\n",
              "\n",
              "[78 rows x 6 columns]"
            ]
          },
          "metadata": {
            "tags": []
          },
          "execution_count": 69
        }
      ]
    },
    {
      "cell_type": "markdown",
      "metadata": {
        "id": "CuRgUUcF2vYu"
      },
      "source": [
        "# Aggregation"
      ]
    },
    {
      "cell_type": "code",
      "metadata": {
        "colab": {
          "base_uri": "https://localhost:8080/"
        },
        "id": "KeZad5DO2ykp",
        "outputId": "b82c2c33-794e-486f-b002-7f5849748f28"
      },
      "source": [
        "#agg()\n",
        "df.max()\n",
        "df.min()"
      ],
      "execution_count": null,
      "outputs": [
        {
          "output_type": "execute_result",
          "data": {
            "text/plain": [
              "rank          AssocProf\n",
              "discipline            A\n",
              "phd                   1\n",
              "service               0\n",
              "sex              Female\n",
              "salary            57800\n",
              "dtype: object"
            ]
          },
          "metadata": {
            "tags": []
          },
          "execution_count": 76
        }
      ]
    },
    {
      "cell_type": "code",
      "metadata": {
        "colab": {
          "base_uri": "https://localhost:8080/",
          "height": 143
        },
        "id": "M47GrlCI4t6Z",
        "outputId": "cde15d53-beff-4d68-c0dd-13fcb3430426"
      },
      "source": [
        "df[['service','salary']].agg(['min','mean','max'])"
      ],
      "execution_count": null,
      "outputs": [
        {
          "output_type": "execute_result",
          "data": {
            "text/html": [
              "<div>\n",
              "<style scoped>\n",
              "    .dataframe tbody tr th:only-of-type {\n",
              "        vertical-align: middle;\n",
              "    }\n",
              "\n",
              "    .dataframe tbody tr th {\n",
              "        vertical-align: top;\n",
              "    }\n",
              "\n",
              "    .dataframe thead th {\n",
              "        text-align: right;\n",
              "    }\n",
              "</style>\n",
              "<table border=\"1\" class=\"dataframe\">\n",
              "  <thead>\n",
              "    <tr style=\"text-align: right;\">\n",
              "      <th></th>\n",
              "      <th>service</th>\n",
              "      <th>salary</th>\n",
              "    </tr>\n",
              "  </thead>\n",
              "  <tbody>\n",
              "    <tr>\n",
              "      <th>min</th>\n",
              "      <td>0.000000</td>\n",
              "      <td>57800.000000</td>\n",
              "    </tr>\n",
              "    <tr>\n",
              "      <th>mean</th>\n",
              "      <td>15.051282</td>\n",
              "      <td>108023.782051</td>\n",
              "    </tr>\n",
              "    <tr>\n",
              "      <th>max</th>\n",
              "      <td>51.000000</td>\n",
              "      <td>186960.000000</td>\n",
              "    </tr>\n",
              "  </tbody>\n",
              "</table>\n",
              "</div>"
            ],
            "text/plain": [
              "        service         salary\n",
              "min    0.000000   57800.000000\n",
              "mean  15.051282  108023.782051\n",
              "max   51.000000  186960.000000"
            ]
          },
          "metadata": {
            "tags": []
          },
          "execution_count": 79
        }
      ]
    },
    {
      "cell_type": "code",
      "metadata": {
        "colab": {
          "base_uri": "https://localhost:8080/",
          "height": 175
        },
        "id": "iq6S2DfT5BeP",
        "outputId": "cea786d3-3d3e-417e-c03c-7685c8ea72b6"
      },
      "source": [
        "df.agg({'salary':['min','max','mean'],'service':['nunique']})"
      ],
      "execution_count": null,
      "outputs": [
        {
          "output_type": "execute_result",
          "data": {
            "text/html": [
              "<div>\n",
              "<style scoped>\n",
              "    .dataframe tbody tr th:only-of-type {\n",
              "        vertical-align: middle;\n",
              "    }\n",
              "\n",
              "    .dataframe tbody tr th {\n",
              "        vertical-align: top;\n",
              "    }\n",
              "\n",
              "    .dataframe thead th {\n",
              "        text-align: right;\n",
              "    }\n",
              "</style>\n",
              "<table border=\"1\" class=\"dataframe\">\n",
              "  <thead>\n",
              "    <tr style=\"text-align: right;\">\n",
              "      <th></th>\n",
              "      <th>salary</th>\n",
              "      <th>service</th>\n",
              "    </tr>\n",
              "  </thead>\n",
              "  <tbody>\n",
              "    <tr>\n",
              "      <th>max</th>\n",
              "      <td>186960.000000</td>\n",
              "      <td>NaN</td>\n",
              "    </tr>\n",
              "    <tr>\n",
              "      <th>mean</th>\n",
              "      <td>108023.782051</td>\n",
              "      <td>NaN</td>\n",
              "    </tr>\n",
              "    <tr>\n",
              "      <th>min</th>\n",
              "      <td>57800.000000</td>\n",
              "      <td>NaN</td>\n",
              "    </tr>\n",
              "    <tr>\n",
              "      <th>nunique</th>\n",
              "      <td>NaN</td>\n",
              "      <td>33.0</td>\n",
              "    </tr>\n",
              "  </tbody>\n",
              "</table>\n",
              "</div>"
            ],
            "text/plain": [
              "                salary  service\n",
              "max      186960.000000      NaN\n",
              "mean     108023.782051      NaN\n",
              "min       57800.000000      NaN\n",
              "nunique            NaN     33.0"
            ]
          },
          "metadata": {
            "tags": []
          },
          "execution_count": 83
        }
      ]
    },
    {
      "cell_type": "code",
      "metadata": {
        "id": "CHjQZ15l6oIy"
      },
      "source": [
        ""
      ],
      "execution_count": null,
      "outputs": []
    },
    {
      "cell_type": "markdown",
      "metadata": {
        "id": "iFhtkgNhBSQy"
      },
      "source": [
        "# 28-05-2021 *Matplot incoming*"
      ]
    },
    {
      "cell_type": "code",
      "metadata": {
        "colab": {
          "base_uri": "https://localhost:8080/"
        },
        "id": "CfonEG8cBZaq",
        "outputId": "5f07a283-411a-45e1-c94b-13459bf833ae"
      },
      "source": [
        "pip install matplotlib"
      ],
      "execution_count": null,
      "outputs": [
        {
          "output_type": "stream",
          "text": [
            "Requirement already satisfied: matplotlib in /usr/local/lib/python3.7/dist-packages (3.2.2)\n",
            "Requirement already satisfied: kiwisolver>=1.0.1 in /usr/local/lib/python3.7/dist-packages (from matplotlib) (1.3.1)\n",
            "Requirement already satisfied: pyparsing!=2.0.4,!=2.1.2,!=2.1.6,>=2.0.1 in /usr/local/lib/python3.7/dist-packages (from matplotlib) (2.4.7)\n",
            "Requirement already satisfied: python-dateutil>=2.1 in /usr/local/lib/python3.7/dist-packages (from matplotlib) (2.8.1)\n",
            "Requirement already satisfied: numpy>=1.11 in /usr/local/lib/python3.7/dist-packages (from matplotlib) (1.19.5)\n",
            "Requirement already satisfied: cycler>=0.10 in /usr/local/lib/python3.7/dist-packages (from matplotlib) (0.10.0)\n",
            "Requirement already satisfied: six>=1.5 in /usr/local/lib/python3.7/dist-packages (from python-dateutil>=2.1->matplotlib) (1.15.0)\n"
          ],
          "name": "stdout"
        }
      ]
    },
    {
      "cell_type": "code",
      "metadata": {
        "colab": {
          "base_uri": "https://localhost:8080/",
          "height": 295
        },
        "id": "2Q9ji8vBBgSS",
        "outputId": "fb5897b6-7f06-4a24-b445-2a4fb3f5317d"
      },
      "source": [
        "from matplotlib import pyplot as plt\n",
        "plt.plot([1,2,2.7,4],[3,5,3,6])\n",
        "plt.title('info')\n",
        "plt.xlabel('X axis')\n",
        "plt.ylabel('Y axis STONKS')\n",
        "plt.show()"
      ],
      "execution_count": null,
      "outputs": [
        {
          "output_type": "display_data",
          "data": {
            "image/png": "[encoded data removed]",
            "text/plain": [
              "<Figure size 432x288 with 1 Axes>"
            ]
          },
          "metadata": {
            "tags": [],
            "needs_background": "light"
          }
        }
      ]
    },
    {
      "cell_type": "code",
      "metadata": {
        "colab": {
          "base_uri": "https://localhost:8080/",
          "height": 295
        },
        "id": "-fTypBtvFZG8",
        "outputId": "ec8d72b0-c193-4d75-80d9-3b8c299f6f03"
      },
      "source": [
        "x=[15,18,20]\n",
        "y=[22,26,16]\n",
        "x2=[6,9,11]\n",
        "y2=[6,15,7]\n",
        "plt.plot(x,y,'r',label='line1',linewidth=5,)\n",
        "plt.plot(x2,y2,'g',label='line2',linewidth=9)\n",
        "plt.legend()\n",
        "plt.title('graph')\n",
        "plt.xlabel('X axis')\n",
        "plt.ylabel('Y axis')\n",
        "plt.grid('b')\n",
        "plt.show()"
      ],
      "execution_count": null,
      "outputs": [
        {
          "output_type": "display_data",
          "data": {
            "image/png": "[encoded data removed]",
            "text/plain": [
              "<Figure size 432x288 with 1 Axes>"
            ]
          },
          "metadata": {
            "tags": [],
            "needs_background": "light"
          }
        }
      ]
    },
    {
      "cell_type": "markdown",
      "metadata": {
        "id": "xugQQk5xJsgC"
      },
      "source": [
        "# Bar"
      ]
    },
    {
      "cell_type": "code",
      "metadata": {
        "colab": {
          "base_uri": "https://localhost:8080/",
          "height": 295
        },
        "id": "SycunWNJJt8A",
        "outputId": "a3e02570-139f-4202-a4de-5e58262a1e0b"
      },
      "source": [
        "plt.bar([0.25,1.25,2.25,3.25,4.25],[50,40,70,80,20],\n",
        "\n",
        "label=\"BMW\",color='r',width=.1)\n",
        "\n",
        "plt.bar([.75,1.75,2.75,3.75,4.75],[80,20,20,50,60],\n",
        "\n",
        "label=\"Audi\", color='b',width=.5)\n",
        "\n",
        "plt.legend()\n",
        "\n",
        "plt.xlabel('Days')\n",
        "\n",
        "plt.ylabel('Distance (kms)')\n",
        "\n",
        "plt.title('Information')\n",
        "\n",
        "plt.show()"
      ],
      "execution_count": null,
      "outputs": [
        {
          "output_type": "display_data",
          "data": {
            "image/png": "[encoded data removed]",
            "text/plain": [
              "<Figure size 432x288 with 1 Axes>"
            ]
          },
          "metadata": {
            "tags": [],
            "needs_background": "light"
          }
        }
      ]
    },
    {
      "cell_type": "markdown",
      "metadata": {
        "id": "FlMNSmRmLMk5"
      },
      "source": [
        "# Histogram"
      ]
    },
    {
      "cell_type": "code",
      "metadata": {
        "colab": {
          "base_uri": "https://localhost:8080/",
          "height": 265
        },
        "id": "kEmh0nlxLOu6",
        "outputId": "68a8daad-02c6-4a6e-a7f6-4a7b9d68f8bf"
      },
      "source": [
        "age = [5,6,13,18,20,18,21,18,19,20,22,15,17,18,18,19,21,18,18,29,25,22,19,26]\n",
        "bins = [0,5,10,15,20,25,30,35]\n",
        "plt.hist(age,bins,histtype='bar')\n",
        "plt.show()"
      ],
      "execution_count": null,
      "outputs": [
        {
          "output_type": "display_data",
          "data": {
            "image/png": "[encoded data removed]",
            "text/plain": [
              "<Figure size 432x288 with 1 Axes>"
            ]
          },
          "metadata": {
            "tags": [],
            "needs_background": "light"
          }
        }
      ]
    },
    {
      "cell_type": "markdown",
      "metadata": {
        "id": "XR-0St4kM1Uq"
      },
      "source": [
        "# Scatter Plot"
      ]
    },
    {
      "cell_type": "code",
      "metadata": {
        "colab": {
          "base_uri": "https://localhost:8080/",
          "height": 295
        },
        "id": "ySWWkPG9M3cD",
        "outputId": "3b263ee4-dd34-4c9c-e667-2f6845bcdd55"
      },
      "source": [
        "x = [2,2.5,3,3.5,4,4.5,5]\n",
        "y = [8,8.5,9,9.5,10,10.1,10.2]\n",
        "\n",
        "x1 = [8,8.2,8.3,8.6,9]\n",
        "y1 = [3,3.1,3.4,3.8,4.2]\n",
        "\n",
        "plt.scatter(x,y,color='r',label='line 1')\n",
        "plt.scatter(x1,y1,color='g',label='line 2')\n",
        "plt.xlabel(\"income\")\n",
        "plt.ylabel(\"saving\")\n",
        "plt.title(\"Scatter\")\n",
        "plt.legend()\n",
        "plt.plot()\n",
        "plt.show()"
      ],
      "execution_count": null,
      "outputs": [
        {
          "output_type": "display_data",
          "data": {
            "image/png": "[encoded data removed]",
            "text/plain": [
              "<Figure size 432x288 with 1 Axes>"
            ]
          },
          "metadata": {
            "tags": [],
            "needs_background": "light"
          }
        }
      ]
    },
    {
      "cell_type": "markdown",
      "metadata": {
        "id": "IQmuWjy1O3ab"
      },
      "source": [
        "# plt.plot() ---- for creating lines\n",
        "\n",
        "plt.bar() ----- for creating bar\n",
        "\n",
        "plt.hist() ----- for creating histogram\n",
        "\n",
        "plt.scatter() ----for scatter plot\n"
      ]
    },
    {
      "cell_type": "code",
      "metadata": {
        "colab": {
          "base_uri": "https://localhost:8080/",
          "height": 265
        },
        "id": "W--JpNW7O0Ct",
        "outputId": "cca1cfc9-aca6-4839-afc6-2ec293d88671"
      },
      "source": [
        "import numpy as np\n",
        "plt.plot([1,2,3,4],[1,4,9,16],'ro-',label='line')\n",
        "plt.plot([1,2,3,4],[1,2,3,4],'gs-',label='line2')\n",
        "plt.plot([1,2,3,4],[2,5,10,18],'*-',label='line3')\n",
        "plt.legend()\n",
        "plt.show()"
      ],
      "execution_count": null,
      "outputs": [
        {
          "output_type": "display_data",
          "data": {
            "image/png": "[encoded data removed]",
            "text/plain": [
              "<Figure size 432x288 with 1 Axes>"
            ]
          },
          "metadata": {
            "tags": [],
            "needs_background": "light"
          }
        }
      ]
    },
    {
      "cell_type": "code",
      "metadata": {
        "colab": {
          "base_uri": "https://localhost:8080/",
          "height": 265
        },
        "id": "p1nfT2OJQBfb",
        "outputId": "d294a56b-3c16-45e2-f7c9-deada431e4b0"
      },
      "source": [
        "t = np.arange(0,5,.2)\n",
        "plt.plot(t,t,'r--',t,t**2,'b*')\n",
        "plt.show()"
      ],
      "execution_count": null,
      "outputs": [
        {
          "output_type": "display_data",
          "data": {
            "image/png": "[encoded data removed]",
            "text/plain": [
              "<Figure size 432x288 with 1 Axes>"
            ]
          },
          "metadata": {
            "tags": [],
            "needs_background": "light"
          }
        }
      ]
    },
    {
      "cell_type": "code",
      "metadata": {
        "id": "fCeXC0COQ0En"
      },
      "source": [
        "t = np.arange(0,5,.2)\n",
        "plt.plot(t,t,'r--',t,t**2,'b*')\n",
        "plt.show()"
      ],
      "execution_count": null,
      "outputs": []
    },
    {
      "cell_type": "markdown",
      "metadata": {
        "id": "am6lZGmMRcUZ"
      },
      "source": [
        "#Matpltlib 3D"
      ]
    },
    {
      "cell_type": "code",
      "metadata": {
        "id": "eb2Li1RsRhKL"
      },
      "source": [
        "import pandas as pd\n",
        "import numpy as np\n",
        "from matplotlib import pyplot as plt"
      ],
      "execution_count": null,
      "outputs": []
    },
    {
      "cell_type": "code",
      "metadata": {
        "colab": {
          "base_uri": "https://localhost:8080/",
          "height": 424
        },
        "id": "0V2tHZsbRqro",
        "outputId": "599f6a75-a607-44d4-c787-12bff3d89415"
      },
      "source": [
        "iris = pd.read_csv('Iris.csv')\n",
        "\n",
        "iris"
      ],
      "execution_count": null,
      "outputs": [
        {
          "output_type": "execute_result",
          "data": {
            "text/html": [
              "<div>\n",
              "<style scoped>\n",
              "    .dataframe tbody tr th:only-of-type {\n",
              "        vertical-align: middle;\n",
              "    }\n",
              "\n",
              "    .dataframe tbody tr th {\n",
              "        vertical-align: top;\n",
              "    }\n",
              "\n",
              "    .dataframe thead th {\n",
              "        text-align: right;\n",
              "    }\n",
              "</style>\n",
              "<table border=\"1\" class=\"dataframe\">\n",
              "  <thead>\n",
              "    <tr style=\"text-align: right;\">\n",
              "      <th></th>\n",
              "      <th>Id</th>\n",
              "      <th>SepalLengthCm</th>\n",
              "      <th>SepalWidthCm</th>\n",
              "      <th>PetalLengthCm</th>\n",
              "      <th>PetalWidthCm</th>\n",
              "      <th>Species</th>\n",
              "    </tr>\n",
              "  </thead>\n",
              "  <tbody>\n",
              "    <tr>\n",
              "      <th>0</th>\n",
              "      <td>1</td>\n",
              "      <td>5.1</td>\n",
              "      <td>3.5</td>\n",
              "      <td>1.4</td>\n",
              "      <td>0.2</td>\n",
              "      <td>Iris-setosa</td>\n",
              "    </tr>\n",
              "    <tr>\n",
              "      <th>1</th>\n",
              "      <td>2</td>\n",
              "      <td>4.9</td>\n",
              "      <td>3.0</td>\n",
              "      <td>1.4</td>\n",
              "      <td>0.2</td>\n",
              "      <td>Iris-setosa</td>\n",
              "    </tr>\n",
              "    <tr>\n",
              "      <th>2</th>\n",
              "      <td>3</td>\n",
              "      <td>4.7</td>\n",
              "      <td>3.2</td>\n",
              "      <td>1.3</td>\n",
              "      <td>0.2</td>\n",
              "      <td>Iris-setosa</td>\n",
              "    </tr>\n",
              "    <tr>\n",
              "      <th>3</th>\n",
              "      <td>4</td>\n",
              "      <td>4.6</td>\n",
              "      <td>3.1</td>\n",
              "      <td>1.5</td>\n",
              "      <td>0.2</td>\n",
              "      <td>Iris-setosa</td>\n",
              "    </tr>\n",
              "    <tr>\n",
              "      <th>4</th>\n",
              "      <td>5</td>\n",
              "      <td>5.0</td>\n",
              "      <td>3.6</td>\n",
              "      <td>1.4</td>\n",
              "      <td>0.2</td>\n",
              "      <td>Iris-setosa</td>\n",
              "    </tr>\n",
              "    <tr>\n",
              "      <th>...</th>\n",
              "      <td>...</td>\n",
              "      <td>...</td>\n",
              "      <td>...</td>\n",
              "      <td>...</td>\n",
              "      <td>...</td>\n",
              "      <td>...</td>\n",
              "    </tr>\n",
              "    <tr>\n",
              "      <th>145</th>\n",
              "      <td>146</td>\n",
              "      <td>6.7</td>\n",
              "      <td>3.0</td>\n",
              "      <td>5.2</td>\n",
              "      <td>2.3</td>\n",
              "      <td>Iris-virginica</td>\n",
              "    </tr>\n",
              "    <tr>\n",
              "      <th>146</th>\n",
              "      <td>147</td>\n",
              "      <td>6.3</td>\n",
              "      <td>2.5</td>\n",
              "      <td>5.0</td>\n",
              "      <td>1.9</td>\n",
              "      <td>Iris-virginica</td>\n",
              "    </tr>\n",
              "    <tr>\n",
              "      <th>147</th>\n",
              "      <td>148</td>\n",
              "      <td>6.5</td>\n",
              "      <td>3.0</td>\n",
              "      <td>5.2</td>\n",
              "      <td>2.0</td>\n",
              "      <td>Iris-virginica</td>\n",
              "    </tr>\n",
              "    <tr>\n",
              "      <th>148</th>\n",
              "      <td>149</td>\n",
              "      <td>6.2</td>\n",
              "      <td>3.4</td>\n",
              "      <td>5.4</td>\n",
              "      <td>2.3</td>\n",
              "      <td>Iris-virginica</td>\n",
              "    </tr>\n",
              "    <tr>\n",
              "      <th>149</th>\n",
              "      <td>150</td>\n",
              "      <td>5.9</td>\n",
              "      <td>3.0</td>\n",
              "      <td>5.1</td>\n",
              "      <td>1.8</td>\n",
              "      <td>Iris-virginica</td>\n",
              "    </tr>\n",
              "  </tbody>\n",
              "</table>\n",
              "<p>150 rows × 6 columns</p>\n",
              "</div>"
            ],
            "text/plain": [
              "      Id  SepalLengthCm  ...  PetalWidthCm         Species\n",
              "0      1            5.1  ...           0.2     Iris-setosa\n",
              "1      2            4.9  ...           0.2     Iris-setosa\n",
              "2      3            4.7  ...           0.2     Iris-setosa\n",
              "3      4            4.6  ...           0.2     Iris-setosa\n",
              "4      5            5.0  ...           0.2     Iris-setosa\n",
              "..   ...            ...  ...           ...             ...\n",
              "145  146            6.7  ...           2.3  Iris-virginica\n",
              "146  147            6.3  ...           1.9  Iris-virginica\n",
              "147  148            6.5  ...           2.0  Iris-virginica\n",
              "148  149            6.2  ...           2.3  Iris-virginica\n",
              "149  150            5.9  ...           1.8  Iris-virginica\n",
              "\n",
              "[150 rows x 6 columns]"
            ]
          },
          "metadata": {
            "tags": []
          },
          "execution_count": 49
        }
      ]
    },
    {
      "cell_type": "code",
      "metadata": {
        "colab": {
          "base_uri": "https://localhost:8080/",
          "height": 265
        },
        "id": "fRuz_al9SEeo",
        "outputId": "ef1f7f29-d1c8-4f9b-9851-add0f2473626"
      },
      "source": [
        "for species,irissubset in iris.groupby('Species'):\n",
        "  plt.scatter(irissubset['PetalLengthCm'],irissubset['PetalWidthCm'],label=species)\n",
        "plt.legend()\n",
        "plt.show()  "
      ],
      "execution_count": null,
      "outputs": [
        {
          "output_type": "display_data",
          "data": {
            "image/png": "[encoded data removed]",
            "text/plain": [
              "<Figure size 432x288 with 1 Axes>"
            ]
          },
          "metadata": {
            "tags": [],
            "needs_background": "light"
          }
        }
      ]
    },
    {
      "cell_type": "code",
      "metadata": {
        "colab": {
          "base_uri": "https://localhost:8080/",
          "height": 248
        },
        "id": "JiN0NnI6TSZo",
        "outputId": "78b928db-3430-46a7-8b27-3e2e537b6151"
      },
      "source": [
        "#from mpl_tookits.mplot3d import axes3d#\n",
        "fig = plt.figure()\n",
        "ax = fig.add_subplot(111,projection='3d')\n",
        "\n",
        "\n",
        "for species,irissubset in iris.groupby('Species'):\n",
        "  ax.scatter(irissubset['PetalLengthCm'],irissubset['PetalWidthCm'],irissubset['SepalLengthCm'],label=species)\n",
        "plt.legend()\n",
        "\n",
        "ax.set_xlabel('PetalLength')\n",
        "ax.set_ylabel('PetalWidth')\n",
        "#ax.zlabel('SepalLengthCm')\n",
        "\n",
        "plt.show() \n"
      ],
      "execution_count": null,
      "outputs": [
        {
          "output_type": "display_data",
          "data": {
            "image/png": "[encoded data removed]",
            "text/plain": [
              "<Figure size 432x288 with 1 Axes>"
            ]
          },
          "metadata": {
            "tags": [],
            "needs_background": "light"
          }
        }
      ]
    },
    {
      "cell_type": "code",
      "metadata": {
        "colab": {
          "base_uri": "https://localhost:8080/",
          "height": 264
        },
        "id": "5fWJqJJ8WayB",
        "outputId": "c94c7c5b-73db-4d4b-80a5-47ec97e687ee"
      },
      "source": [
        "days = [1,2,3,4,5]\n",
        "\n",
        "slices = [2,2,2,13]\n",
        "\n",
        "activities = ['sleeping','eating','working','playing']\n",
        "\n",
        "cols = ['c','m','r','b']\n",
        "\n",
        "plt.pie(slices,\n",
        "\n",
        "  labels=activities,\n",
        "\n",
        "  colors=cols,\n",
        "\n",
        "  startangle=90  )\n",
        "\n",
        "plt.title('Pie Plot')\n",
        "\n",
        "plt.show()"
      ],
      "execution_count": null,
      "outputs": [
        {
          "output_type": "display_data",
          "data": {
            "image/png": "[encoded data removed]",
            "text/plain": [
              "<Figure size 432x288 with 1 Axes>"
            ]
          },
          "metadata": {
            "tags": []
          }
        }
      ]
    },
    {
      "cell_type": "code",
      "metadata": {
        "colab": {
          "base_uri": "https://localhost:8080/",
          "height": 147
        },
        "id": "9rewAXAZWjGd",
        "outputId": "b34520b3-ff9a-4a42-e258-0c53e07cac80"
      },
      "source": [
        "def f(t):\n",
        "\n",
        "    return np.exp(-t) * np.cos(2*np.pi*t)\n",
        "\n",
        "t1 = np.arange(0.0, 5.0, 0.1)\n",
        "\n",
        "t2 = np.arange(0.0, 5.0, 0.02)\n",
        "\n",
        "plt.subplot(221)  #no of plots, row wise or column wise, 1 2 plot\n",
        "\n",
        "plt.plot(t1, f(t1), 'bo')\n",
        "\n",
        "plt.subplot(222)\n",
        "\n",
        "plt.plot(t2, np.cos(2*np.pi*t2))\n",
        "\n",
        "plt.show()"
      ],
      "execution_count": null,
      "outputs": [
        {
          "output_type": "display_data",
          "data": {
            "image/png": "[encoded data removed]",
            "text/plain": [
              "<Figure size 432x288 with 2 Axes>"
            ]
          },
          "metadata": {
            "tags": [],
            "needs_background": "light"
          }
        }
      ]
    },
    {
      "cell_type": "markdown",
      "metadata": {
        "id": "C9cto7WacEY0"
      },
      "source": [
        "# 31-05-2021 Machine Learning starting now!!!"
      ]
    },
    {
      "cell_type": "code",
      "metadata": {
        "id": "nzTvOs4ucP_y"
      },
      "source": [
        "import numpy as np\n",
        "import pandas as pd\n",
        "import matplotlib.pyplot as plt"
      ],
      "execution_count": null,
      "outputs": []
    },
    {
      "cell_type": "code",
      "metadata": {
        "colab": {
          "base_uri": "https://localhost:8080/"
        },
        "id": "HfleXYRelXo-",
        "outputId": "9f6c74f5-722e-46f2-a46d-2fdc81c3d316"
      },
      "source": [
        "dataset = pd.read_csv(\"/content/salaryData.csv\")\n",
        "print(dataset)"
      ],
      "execution_count": null,
      "outputs": [
        {
          "output_type": "stream",
          "text": [
            "    YearsExperience    Salary\n",
            "0               1.1   39343.0\n",
            "1               1.3   46205.0\n",
            "2               1.5   37731.0\n",
            "3               2.0   43525.0\n",
            "4               2.2   39891.0\n",
            "5               2.9   56642.0\n",
            "6               3.0   60150.0\n",
            "7               3.2   54445.0\n",
            "8               3.2   64445.0\n",
            "9               3.7   57189.0\n",
            "10              3.9   63218.0\n",
            "11              4.0   55794.0\n",
            "12              4.0   56957.0\n",
            "13              4.1   57081.0\n",
            "14              4.5   61111.0\n",
            "15              4.9   67938.0\n",
            "16              5.1   66029.0\n",
            "17              5.3   83088.0\n",
            "18              5.9   81363.0\n",
            "19              6.0   93940.0\n",
            "20              6.8   91738.0\n",
            "21              7.1   98273.0\n",
            "22              7.9  101302.0\n",
            "23              8.2  113812.0\n",
            "24              8.7  109431.0\n",
            "25              9.0  105582.0\n",
            "26              9.5  116969.0\n",
            "27              9.6  112635.0\n",
            "28             10.3  122391.0\n",
            "29             10.5  121872.0\n"
          ],
          "name": "stdout"
        }
      ]
    },
    {
      "cell_type": "code",
      "metadata": {
        "colab": {
          "base_uri": "https://localhost:8080/",
          "height": 206
        },
        "id": "c5ivt7J2mEej",
        "outputId": "35922759-53d9-4c54-e5c4-0ce8da887968"
      },
      "source": [
        "dataset.head(5)"
      ],
      "execution_count": null,
      "outputs": [
        {
          "output_type": "execute_result",
          "data": {
            "text/html": [
              "<div>\n",
              "<style scoped>\n",
              "    .dataframe tbody tr th:only-of-type {\n",
              "        vertical-align: middle;\n",
              "    }\n",
              "\n",
              "    .dataframe tbody tr th {\n",
              "        vertical-align: top;\n",
              "    }\n",
              "\n",
              "    .dataframe thead th {\n",
              "        text-align: right;\n",
              "    }\n",
              "</style>\n",
              "<table border=\"1\" class=\"dataframe\">\n",
              "  <thead>\n",
              "    <tr style=\"text-align: right;\">\n",
              "      <th></th>\n",
              "      <th>YearsExperience</th>\n",
              "      <th>Salary</th>\n",
              "    </tr>\n",
              "  </thead>\n",
              "  <tbody>\n",
              "    <tr>\n",
              "      <th>0</th>\n",
              "      <td>1.1</td>\n",
              "      <td>39343.0</td>\n",
              "    </tr>\n",
              "    <tr>\n",
              "      <th>1</th>\n",
              "      <td>1.3</td>\n",
              "      <td>46205.0</td>\n",
              "    </tr>\n",
              "    <tr>\n",
              "      <th>2</th>\n",
              "      <td>1.5</td>\n",
              "      <td>37731.0</td>\n",
              "    </tr>\n",
              "    <tr>\n",
              "      <th>3</th>\n",
              "      <td>2.0</td>\n",
              "      <td>43525.0</td>\n",
              "    </tr>\n",
              "    <tr>\n",
              "      <th>4</th>\n",
              "      <td>2.2</td>\n",
              "      <td>39891.0</td>\n",
              "    </tr>\n",
              "  </tbody>\n",
              "</table>\n",
              "</div>"
            ],
            "text/plain": [
              "   YearsExperience   Salary\n",
              "0              1.1  39343.0\n",
              "1              1.3  46205.0\n",
              "2              1.5  37731.0\n",
              "3              2.0  43525.0\n",
              "4              2.2  39891.0"
            ]
          },
          "metadata": {
            "tags": []
          },
          "execution_count": 3
        }
      ]
    },
    {
      "cell_type": "code",
      "metadata": {
        "colab": {
          "base_uri": "https://localhost:8080/"
        },
        "id": "jEAs7G8Lmjlk",
        "outputId": "e32608c2-9f76-4f80-ca0f-92de7c049c38"
      },
      "source": [
        "print(type(dataset))"
      ],
      "execution_count": null,
      "outputs": [
        {
          "output_type": "stream",
          "text": [
            "<class 'pandas.core.frame.DataFrame'>\n"
          ],
          "name": "stdout"
        }
      ]
    },
    {
      "cell_type": "code",
      "metadata": {
        "colab": {
          "base_uri": "https://localhost:8080/",
          "height": 269
        },
        "id": "sc3zKimkmnHO",
        "outputId": "49097fc3-c916-4698-9062-202be04a1d99"
      },
      "source": [
        "dataset.tail(7)"
      ],
      "execution_count": null,
      "outputs": [
        {
          "output_type": "execute_result",
          "data": {
            "text/html": [
              "<div>\n",
              "<style scoped>\n",
              "    .dataframe tbody tr th:only-of-type {\n",
              "        vertical-align: middle;\n",
              "    }\n",
              "\n",
              "    .dataframe tbody tr th {\n",
              "        vertical-align: top;\n",
              "    }\n",
              "\n",
              "    .dataframe thead th {\n",
              "        text-align: right;\n",
              "    }\n",
              "</style>\n",
              "<table border=\"1\" class=\"dataframe\">\n",
              "  <thead>\n",
              "    <tr style=\"text-align: right;\">\n",
              "      <th></th>\n",
              "      <th>YearsExperience</th>\n",
              "      <th>Salary</th>\n",
              "    </tr>\n",
              "  </thead>\n",
              "  <tbody>\n",
              "    <tr>\n",
              "      <th>23</th>\n",
              "      <td>8.2</td>\n",
              "      <td>113812.0</td>\n",
              "    </tr>\n",
              "    <tr>\n",
              "      <th>24</th>\n",
              "      <td>8.7</td>\n",
              "      <td>109431.0</td>\n",
              "    </tr>\n",
              "    <tr>\n",
              "      <th>25</th>\n",
              "      <td>9.0</td>\n",
              "      <td>105582.0</td>\n",
              "    </tr>\n",
              "    <tr>\n",
              "      <th>26</th>\n",
              "      <td>9.5</td>\n",
              "      <td>116969.0</td>\n",
              "    </tr>\n",
              "    <tr>\n",
              "      <th>27</th>\n",
              "      <td>9.6</td>\n",
              "      <td>112635.0</td>\n",
              "    </tr>\n",
              "    <tr>\n",
              "      <th>28</th>\n",
              "      <td>10.3</td>\n",
              "      <td>122391.0</td>\n",
              "    </tr>\n",
              "    <tr>\n",
              "      <th>29</th>\n",
              "      <td>10.5</td>\n",
              "      <td>121872.0</td>\n",
              "    </tr>\n",
              "  </tbody>\n",
              "</table>\n",
              "</div>"
            ],
            "text/plain": [
              "    YearsExperience    Salary\n",
              "23              8.2  113812.0\n",
              "24              8.7  109431.0\n",
              "25              9.0  105582.0\n",
              "26              9.5  116969.0\n",
              "27              9.6  112635.0\n",
              "28             10.3  122391.0\n",
              "29             10.5  121872.0"
            ]
          },
          "metadata": {
            "tags": []
          },
          "execution_count": 5
        }
      ]
    },
    {
      "cell_type": "code",
      "metadata": {
        "colab": {
          "base_uri": "https://localhost:8080/"
        },
        "id": "pyxwQmblmrTb",
        "outputId": "50f2a4a0-3729-468f-f10d-19a0063ac706"
      },
      "source": [
        "dataset.columns"
      ],
      "execution_count": null,
      "outputs": [
        {
          "output_type": "execute_result",
          "data": {
            "text/plain": [
              "Index(['YearsExperience', 'Salary'], dtype='object')"
            ]
          },
          "metadata": {
            "tags": []
          },
          "execution_count": 6
        }
      ]
    },
    {
      "cell_type": "code",
      "metadata": {
        "colab": {
          "base_uri": "https://localhost:8080/"
        },
        "id": "Km_UQg9ZmvRL",
        "outputId": "0773d3df-1256-4edc-d8de-80ca91aeebdd"
      },
      "source": [
        "dataset.shape"
      ],
      "execution_count": null,
      "outputs": [
        {
          "output_type": "execute_result",
          "data": {
            "text/plain": [
              "(30, 2)"
            ]
          },
          "metadata": {
            "tags": []
          },
          "execution_count": 7
        }
      ]
    },
    {
      "cell_type": "code",
      "metadata": {
        "colab": {
          "base_uri": "https://localhost:8080/"
        },
        "id": "wEu5qQ8km0id",
        "outputId": "fe37258b-19f6-4355-c795-63b473576b17"
      },
      "source": [
        "dataset.info()"
      ],
      "execution_count": null,
      "outputs": [
        {
          "output_type": "stream",
          "text": [
            "<class 'pandas.core.frame.DataFrame'>\n",
            "RangeIndex: 30 entries, 0 to 29\n",
            "Data columns (total 2 columns):\n",
            " #   Column           Non-Null Count  Dtype  \n",
            "---  ------           --------------  -----  \n",
            " 0   YearsExperience  30 non-null     float64\n",
            " 1   Salary           30 non-null     float64\n",
            "dtypes: float64(2)\n",
            "memory usage: 608.0 bytes\n"
          ],
          "name": "stdout"
        }
      ]
    },
    {
      "cell_type": "code",
      "metadata": {
        "colab": {
          "base_uri": "https://localhost:8080/"
        },
        "id": "t06LXaf_nuQm",
        "outputId": "d0abf0af-5ccf-467c-9f02-e87267455f66"
      },
      "source": [
        "dataset.min()"
      ],
      "execution_count": null,
      "outputs": [
        {
          "output_type": "execute_result",
          "data": {
            "text/plain": [
              "YearsExperience        1.1\n",
              "Salary             37731.0\n",
              "dtype: float64"
            ]
          },
          "metadata": {
            "tags": []
          },
          "execution_count": 9
        }
      ]
    },
    {
      "cell_type": "code",
      "metadata": {
        "colab": {
          "base_uri": "https://localhost:8080/"
        },
        "id": "AgVzCespn0Nf",
        "outputId": "642143b6-77b3-4980-c1e5-8af0878dd2d9"
      },
      "source": [
        "dataset.max()"
      ],
      "execution_count": null,
      "outputs": [
        {
          "output_type": "execute_result",
          "data": {
            "text/plain": [
              "YearsExperience        10.5\n",
              "Salary             122391.0\n",
              "dtype: float64"
            ]
          },
          "metadata": {
            "tags": []
          },
          "execution_count": 10
        }
      ]
    },
    {
      "cell_type": "code",
      "metadata": {
        "colab": {
          "base_uri": "https://localhost:8080/",
          "height": 300
        },
        "id": "4Hp9GJ8on2ZC",
        "outputId": "f6119afc-62ed-43c0-e7f1-1930b7916139"
      },
      "source": [
        "dataset.describe()"
      ],
      "execution_count": null,
      "outputs": [
        {
          "output_type": "execute_result",
          "data": {
            "text/html": [
              "<div>\n",
              "<style scoped>\n",
              "    .dataframe tbody tr th:only-of-type {\n",
              "        vertical-align: middle;\n",
              "    }\n",
              "\n",
              "    .dataframe tbody tr th {\n",
              "        vertical-align: top;\n",
              "    }\n",
              "\n",
              "    .dataframe thead th {\n",
              "        text-align: right;\n",
              "    }\n",
              "</style>\n",
              "<table border=\"1\" class=\"dataframe\">\n",
              "  <thead>\n",
              "    <tr style=\"text-align: right;\">\n",
              "      <th></th>\n",
              "      <th>YearsExperience</th>\n",
              "      <th>Salary</th>\n",
              "    </tr>\n",
              "  </thead>\n",
              "  <tbody>\n",
              "    <tr>\n",
              "      <th>count</th>\n",
              "      <td>30.000000</td>\n",
              "      <td>30.000000</td>\n",
              "    </tr>\n",
              "    <tr>\n",
              "      <th>mean</th>\n",
              "      <td>5.313333</td>\n",
              "      <td>76003.000000</td>\n",
              "    </tr>\n",
              "    <tr>\n",
              "      <th>std</th>\n",
              "      <td>2.837888</td>\n",
              "      <td>27414.429785</td>\n",
              "    </tr>\n",
              "    <tr>\n",
              "      <th>min</th>\n",
              "      <td>1.100000</td>\n",
              "      <td>37731.000000</td>\n",
              "    </tr>\n",
              "    <tr>\n",
              "      <th>25%</th>\n",
              "      <td>3.200000</td>\n",
              "      <td>56720.750000</td>\n",
              "    </tr>\n",
              "    <tr>\n",
              "      <th>50%</th>\n",
              "      <td>4.700000</td>\n",
              "      <td>65237.000000</td>\n",
              "    </tr>\n",
              "    <tr>\n",
              "      <th>75%</th>\n",
              "      <td>7.700000</td>\n",
              "      <td>100544.750000</td>\n",
              "    </tr>\n",
              "    <tr>\n",
              "      <th>max</th>\n",
              "      <td>10.500000</td>\n",
              "      <td>122391.000000</td>\n",
              "    </tr>\n",
              "  </tbody>\n",
              "</table>\n",
              "</div>"
            ],
            "text/plain": [
              "       YearsExperience         Salary\n",
              "count        30.000000      30.000000\n",
              "mean          5.313333   76003.000000\n",
              "std           2.837888   27414.429785\n",
              "min           1.100000   37731.000000\n",
              "25%           3.200000   56720.750000\n",
              "50%           4.700000   65237.000000\n",
              "75%           7.700000  100544.750000\n",
              "max          10.500000  122391.000000"
            ]
          },
          "metadata": {
            "tags": []
          },
          "execution_count": 11
        }
      ]
    },
    {
      "cell_type": "code",
      "metadata": {
        "colab": {
          "base_uri": "https://localhost:8080/",
          "height": 206
        },
        "id": "4uiRIALEn8y-",
        "outputId": "3b280fed-4658-40c5-c013-6ad0f3d23e64"
      },
      "source": [
        "dataset.iloc[3:8]"
      ],
      "execution_count": null,
      "outputs": [
        {
          "output_type": "execute_result",
          "data": {
            "text/html": [
              "<div>\n",
              "<style scoped>\n",
              "    .dataframe tbody tr th:only-of-type {\n",
              "        vertical-align: middle;\n",
              "    }\n",
              "\n",
              "    .dataframe tbody tr th {\n",
              "        vertical-align: top;\n",
              "    }\n",
              "\n",
              "    .dataframe thead th {\n",
              "        text-align: right;\n",
              "    }\n",
              "</style>\n",
              "<table border=\"1\" class=\"dataframe\">\n",
              "  <thead>\n",
              "    <tr style=\"text-align: right;\">\n",
              "      <th></th>\n",
              "      <th>YearsExperience</th>\n",
              "      <th>Salary</th>\n",
              "    </tr>\n",
              "  </thead>\n",
              "  <tbody>\n",
              "    <tr>\n",
              "      <th>3</th>\n",
              "      <td>2.0</td>\n",
              "      <td>43525.0</td>\n",
              "    </tr>\n",
              "    <tr>\n",
              "      <th>4</th>\n",
              "      <td>2.2</td>\n",
              "      <td>39891.0</td>\n",
              "    </tr>\n",
              "    <tr>\n",
              "      <th>5</th>\n",
              "      <td>2.9</td>\n",
              "      <td>56642.0</td>\n",
              "    </tr>\n",
              "    <tr>\n",
              "      <th>6</th>\n",
              "      <td>3.0</td>\n",
              "      <td>60150.0</td>\n",
              "    </tr>\n",
              "    <tr>\n",
              "      <th>7</th>\n",
              "      <td>3.2</td>\n",
              "      <td>54445.0</td>\n",
              "    </tr>\n",
              "  </tbody>\n",
              "</table>\n",
              "</div>"
            ],
            "text/plain": [
              "   YearsExperience   Salary\n",
              "3              2.0  43525.0\n",
              "4              2.2  39891.0\n",
              "5              2.9  56642.0\n",
              "6              3.0  60150.0\n",
              "7              3.2  54445.0"
            ]
          },
          "metadata": {
            "tags": []
          },
          "execution_count": 12
        }
      ]
    },
    {
      "cell_type": "code",
      "metadata": {
        "colab": {
          "base_uri": "https://localhost:8080/",
          "height": 112
        },
        "id": "gh5qkuy7oHJW",
        "outputId": "770dcca2-8793-4a47-b925-9c4db4496108"
      },
      "source": [
        "dataset.corr()"
      ],
      "execution_count": null,
      "outputs": [
        {
          "output_type": "execute_result",
          "data": {
            "text/html": [
              "<div>\n",
              "<style scoped>\n",
              "    .dataframe tbody tr th:only-of-type {\n",
              "        vertical-align: middle;\n",
              "    }\n",
              "\n",
              "    .dataframe tbody tr th {\n",
              "        vertical-align: top;\n",
              "    }\n",
              "\n",
              "    .dataframe thead th {\n",
              "        text-align: right;\n",
              "    }\n",
              "</style>\n",
              "<table border=\"1\" class=\"dataframe\">\n",
              "  <thead>\n",
              "    <tr style=\"text-align: right;\">\n",
              "      <th></th>\n",
              "      <th>YearsExperience</th>\n",
              "      <th>Salary</th>\n",
              "    </tr>\n",
              "  </thead>\n",
              "  <tbody>\n",
              "    <tr>\n",
              "      <th>YearsExperience</th>\n",
              "      <td>1.000000</td>\n",
              "      <td>0.978242</td>\n",
              "    </tr>\n",
              "    <tr>\n",
              "      <th>Salary</th>\n",
              "      <td>0.978242</td>\n",
              "      <td>1.000000</td>\n",
              "    </tr>\n",
              "  </tbody>\n",
              "</table>\n",
              "</div>"
            ],
            "text/plain": [
              "                 YearsExperience    Salary\n",
              "YearsExperience         1.000000  0.978242\n",
              "Salary                  0.978242  1.000000"
            ]
          },
          "metadata": {
            "tags": []
          },
          "execution_count": 13
        }
      ]
    },
    {
      "cell_type": "code",
      "metadata": {
        "colab": {
          "base_uri": "https://localhost:8080/"
        },
        "id": "nNUn_DLEopz_",
        "outputId": "9a6e09df-dd99-4eff-9ad5-6d7e2f0d2dce"
      },
      "source": [
        "dataset.nunique()"
      ],
      "execution_count": null,
      "outputs": [
        {
          "output_type": "execute_result",
          "data": {
            "text/plain": [
              "YearsExperience    28\n",
              "Salary             30\n",
              "dtype: int64"
            ]
          },
          "metadata": {
            "tags": []
          },
          "execution_count": 14
        }
      ]
    },
    {
      "cell_type": "markdown",
      "metadata": {
        "id": "xaN_Xiz5pGxQ"
      },
      "source": [
        "# Visualization using SCATTER"
      ]
    },
    {
      "cell_type": "code",
      "metadata": {
        "colab": {
          "base_uri": "https://localhost:8080/",
          "height": 279
        },
        "id": "A4Xch2bypKdb",
        "outputId": "cb9e5569-0115-4a95-8155-414c777cf42b"
      },
      "source": [
        "x = dataset['YearsExperience']\n",
        "y = dataset['Salary']\n",
        "plt.xlabel('Years of Experience')\n",
        "plt.ylabel('Salary')\n",
        "plt.scatter(x,y,color='red',marker='+')\n",
        "plt.show()"
      ],
      "execution_count": null,
      "outputs": [
        {
          "output_type": "display_data",
          "data": {
            "image/png": "[encoded data removed]",
            "text/plain": [
              "<Figure size 432x288 with 1 Axes>"
            ]
          },
          "metadata": {
            "tags": [],
            "needs_background": "light"
          }
        }
      ]
    },
    {
      "cell_type": "markdown",
      "metadata": {
        "id": "C3tlMMoNqPyj"
      },
      "source": [
        "# Spliting of dataest into testing and training"
      ]
    },
    {
      "cell_type": "code",
      "metadata": {
        "colab": {
          "base_uri": "https://localhost:8080/"
        },
        "id": "fOUTNfCfwz9O",
        "outputId": "d42a8580-fcac-4364-bbae-746f6bc92a42"
      },
      "source": [
        "x = dataset.iloc[:,:-1].values\n",
        "y = dataset.iloc[:,1].values\n",
        "print(x)\n",
        "print(y)"
      ],
      "execution_count": null,
      "outputs": [
        {
          "output_type": "stream",
          "text": [
            "[[ 1.1]\n",
            " [ 1.3]\n",
            " [ 1.5]\n",
            " [ 2. ]\n",
            " [ 2.2]\n",
            " [ 2.9]\n",
            " [ 3. ]\n",
            " [ 3.2]\n",
            " [ 3.2]\n",
            " [ 3.7]\n",
            " [ 3.9]\n",
            " [ 4. ]\n",
            " [ 4. ]\n",
            " [ 4.1]\n",
            " [ 4.5]\n",
            " [ 4.9]\n",
            " [ 5.1]\n",
            " [ 5.3]\n",
            " [ 5.9]\n",
            " [ 6. ]\n",
            " [ 6.8]\n",
            " [ 7.1]\n",
            " [ 7.9]\n",
            " [ 8.2]\n",
            " [ 8.7]\n",
            " [ 9. ]\n",
            " [ 9.5]\n",
            " [ 9.6]\n",
            " [10.3]\n",
            " [10.5]]\n",
            "[ 39343.  46205.  37731.  43525.  39891.  56642.  60150.  54445.  64445.\n",
            "  57189.  63218.  55794.  56957.  57081.  61111.  67938.  66029.  83088.\n",
            "  81363.  93940.  91738.  98273. 101302. 113812. 109431. 105582. 116969.\n",
            " 112635. 122391. 121872.]\n"
          ],
          "name": "stdout"
        }
      ]
    },
    {
      "cell_type": "code",
      "metadata": {
        "id": "5leURP0SqVXr"
      },
      "source": [
        "\n",
        "import sklearn\n",
        "from sklearn.model_selection import train_test_split\n",
        "xtrain,xtest,ytrain,ytest = train_test_split(x,y,test_size = 1/3,random_state=1)\n"
      ],
      "execution_count": null,
      "outputs": []
    },
    {
      "cell_type": "markdown",
      "metadata": {
        "id": "2bDLLuO0uaHP"
      },
      "source": [
        "#simple linear model creating"
      ]
    },
    {
      "cell_type": "code",
      "metadata": {
        "id": "QijiymhRudlO"
      },
      "source": [
        "from sklearn.linear_model import LinearRegression\n",
        "model = LinearRegression()\n",
        "model_mark1 = model.fit(xtrain,ytrain)"
      ],
      "execution_count": null,
      "outputs": []
    },
    {
      "cell_type": "markdown",
      "metadata": {
        "id": "8bG87tx9XOQw"
      },
      "source": [
        "#Prediction"
      ]
    },
    {
      "cell_type": "code",
      "metadata": {
        "id": "g2s4eSSVXQfa"
      },
      "source": [
        "y_pred = model_mark1.predict(xtest)"
      ],
      "execution_count": null,
      "outputs": []
    },
    {
      "cell_type": "markdown",
      "metadata": {
        "id": "b2u1Z8TjXkNP"
      },
      "source": [
        "#difference of y_pred is predicted by model and ytest is actucal"
      ]
    },
    {
      "cell_type": "code",
      "metadata": {
        "colab": {
          "base_uri": "https://localhost:8080/"
        },
        "id": "9SGSKqj9XhR3",
        "outputId": "016f7393-79b4-4caa-c8c7-196f5400c2e3"
      },
      "source": [
        "y_pred"
      ],
      "execution_count": null,
      "outputs": [
        {
          "output_type": "execute_result",
          "data": {
            "text/plain": [
              "array([ 74675.37776747,  91160.02832519,  61853.98288925,  81086.07520659,\n",
              "        67348.86640849,  88412.58656557, 113139.56240215,  44453.51841166,\n",
              "       105813.05104316,  98486.53968418])"
            ]
          },
          "metadata": {
            "tags": []
          },
          "execution_count": 23
        }
      ]
    },
    {
      "cell_type": "code",
      "metadata": {
        "colab": {
          "base_uri": "https://localhost:8080/"
        },
        "id": "wZABeMmgXyu4",
        "outputId": "717fa805-d1a7-429a-dc92-3c749490ba1f"
      },
      "source": [
        "ytest"
      ],
      "execution_count": null,
      "outputs": [
        {
          "output_type": "execute_result",
          "data": {
            "text/plain": [
              "array([ 83088.,  98273.,  63218.,  93940.,  61111.,  91738., 116969.,\n",
              "        43525., 109431., 101302.])"
            ]
          },
          "metadata": {
            "tags": []
          },
          "execution_count": 24
        }
      ]
    },
    {
      "cell_type": "code",
      "metadata": {
        "colab": {
          "base_uri": "https://localhost:8080/"
        },
        "id": "PfsYfGWCX1Xe",
        "outputId": "92b42d49-7050-444b-fd2b-67683ce9093b"
      },
      "source": [
        "model_mark1.predict([[9]])"
      ],
      "execution_count": null,
      "outputs": [
        {
          "output_type": "execute_result",
          "data": {
            "text/plain": [
              "array([108560.49280278])"
            ]
          },
          "metadata": {
            "tags": []
          },
          "execution_count": 25
        }
      ]
    },
    {
      "cell_type": "code",
      "metadata": {
        "colab": {
          "base_uri": "https://localhost:8080/"
        },
        "id": "75wgUUZ3X5VU",
        "outputId": "43d93bed-b1e9-4b03-bce2-118847eb05c7"
      },
      "source": [
        "model_mark1.predict([[6]])"
      ],
      "execution_count": null,
      "outputs": [
        {
          "output_type": "execute_result",
          "data": {
            "text/plain": [
              "array([81086.07520659])"
            ]
          },
          "metadata": {
            "tags": []
          },
          "execution_count": 26
        }
      ]
    },
    {
      "cell_type": "code",
      "metadata": {
        "colab": {
          "base_uri": "https://localhost:8080/"
        },
        "id": "31nzjsvtYiC-",
        "outputId": "975f2384-ed71-47dc-df71-3afa7e196bd7"
      },
      "source": [
        "model_mark1.coef_"
      ],
      "execution_count": null,
      "outputs": [
        {
          "output_type": "execute_result",
          "data": {
            "text/plain": [
              "array([9158.13919873])"
            ]
          },
          "metadata": {
            "tags": []
          },
          "execution_count": 27
        }
      ]
    },
    {
      "cell_type": "code",
      "metadata": {
        "colab": {
          "base_uri": "https://localhost:8080/"
        },
        "id": "q8b24niKYrNB",
        "outputId": "2feb83e7-4dde-4a26-c3cc-f9e042c6fea8"
      },
      "source": [
        "model_mark1.intercept_"
      ],
      "execution_count": null,
      "outputs": [
        {
          "output_type": "execute_result",
          "data": {
            "text/plain": [
              "26137.24001419694"
            ]
          },
          "metadata": {
            "tags": []
          },
          "execution_count": 28
        }
      ]
    },
    {
      "cell_type": "code",
      "metadata": {
        "colab": {
          "base_uri": "https://localhost:8080/"
        },
        "id": "B4V26I1VYvWU",
        "outputId": "c104816e-8f6a-48bf-f7b1-9b96668862de"
      },
      "source": [
        "#y = mx+c, x=6\n",
        "\n",
        "9158.139*6 +26137.24001419694"
      ],
      "execution_count": null,
      "outputs": [
        {
          "output_type": "execute_result",
          "data": {
            "text/plain": [
              "81086.07401419693"
            ]
          },
          "metadata": {
            "tags": []
          },
          "execution_count": 29
        }
      ]
    },
    {
      "cell_type": "code",
      "metadata": {
        "colab": {
          "base_uri": "https://localhost:8080/",
          "height": 265
        },
        "id": "-OT77qYpZEQj",
        "outputId": "fbd5d2f9-88f4-4329-bcc1-4018f220e5f8"
      },
      "source": [
        "plt.scatter(xtrain,ytrain,color='red')\n",
        "plt.plot(xtrain,model_mark1.predict(xtrain),'g.-')\n",
        "plt.show()"
      ],
      "execution_count": null,
      "outputs": [
        {
          "output_type": "display_data",
          "data": {
            "image/png": "[encoded data removed]",
            "text/plain": [
              "<Figure size 432x288 with 1 Axes>"
            ]
          },
          "metadata": {
            "tags": [],
            "needs_background": "light"
          }
        }
      ]
    },
    {
      "cell_type": "markdown",
      "metadata": {
        "id": "HkjFmCrEuiGu"
      },
      "source": [
        "#01-06-2021 Training Data continues and going for accuracy"
      ]
    },
    {
      "cell_type": "code",
      "metadata": {
        "id": "akBBmLhRuscJ"
      },
      "source": [
        "import numpy as np\n",
        "import matplotlib.pyplot as plt"
      ],
      "execution_count": null,
      "outputs": []
    },
    {
      "cell_type": "code",
      "metadata": {
        "colab": {
          "base_uri": "https://localhost:8080/",
          "height": 1000
        },
        "id": "7dr-UynZ2Xjk",
        "outputId": "d194d7da-5f32-4cf3-de44-0171e7410298"
      },
      "source": [
        "a=0\n",
        "b=0\n",
        "rate=0.001\n",
        "x=np.array([1,2,3,4,5])\n",
        "y=np.array([5,8,11,14,17])\n",
        "n=len(x)\n",
        "plt.scatter(x,y,color='r')\n",
        "\n",
        "for  i in range(1000):\n",
        "  y_pred = a*x+b\n",
        "  cost = (1/n)*sum([value**2 for value in (y-y_pred)])\n",
        "  print(a,b,i,cost)\n",
        "  plt.plot(x,y_pred)\n",
        "  ad = -(2/n)*sum(x*(y-y_pred))\n",
        "  yd = -(2/n)*sum(y-y_pred)\n",
        "  a = a - rate*ad\n",
        "  b = b - rate*yd"
      ],
      "execution_count": null,
      "outputs": [
        {
          "output_type": "stream",
          "text": [
            "0 0 0 139.0\n",
            "0.078 0.022 1 132.50970400000003\n",
            "0.154152 0.043488 2 126.32291300934403\n",
            "0.228499728 0.064476112 3 120.42543394800244\n",
            "0.30108587731200004 0.084976161408 4 114.80373746002854\n",
            "0.37195213104268804 0.10499969382131201 5 109.4449268752172\n",
            "0.441139185996821 0.12455798164741326 6 104.33670862223835\n",
            "0.5086867760150064 0.1436620305681375 7 99.46736402536824\n",
            "0.5746336947592675 0.1623225858509112 8 94.82572242011629\n",
            "0.6390178179594581 0.18055013851065377 9 90.40113552607059\n",
            "0.7018761251332861 0.19835493132587573 10 86.18345301816952\n",
            "0.7632447207923986 0.21574696471242427 11 82.16299924035678\n",
            "0.8231588551466913 0.23273600245824505 12 78.33055100819713\n",
            "0.8816529443187147 0.24933157732244843 13 74.67731644952873\n",
            "0.9387605900797683 0.2655429965018912 14 71.19491483460972\n",
            "0.9945145991190021 0.28137934696840883 15 67.87535734948626\n",
            "1.0489470018565736 0.296849500679758 16 64.71102876847317\n",
            "1.1020890708116504 0.31196211966725906 17 61.69466998370135\n",
            "1.1539713385357906 0.32672566100305467 18 58.81936135165206\n",
            "1.204623615121985 0.3411483816498338 19 56.07850681847251\n",
            "1.2540750052994023 0.3552383431958022 20 53.46581878765408\n",
            "1.3023539251236407 0.3690034164776142 21 50.97530369535708\n",
            "1.3494881182720548 0.38245128609391715 22 48.60124826029005\n",
            "1.395504671953506 0.395589454812097 23 46.33820637659855\n",
            "1.4404300324416563 0.4084252478707518 24 44.18098661969389\n",
            "1.4842900202407154 0.42096581718036036 25 42.124640336358325\n",
            "1.5271098448923375 0.43321814542455533 26 40.164450291803675\n",
            "1.5689141194321587 0.4451890500643522 27 38.29591984763783\n",
            "1.6097268745042652 0.45688518724763055 28 36.51476264591226\n",
            "1.6495715721416857 0.4683130556261097 29 34.81689277558371\n",
            "1.688471119220812 0.4794790000820074 30 33.1984153988308\n",
            "1.7264478805974621 0.4903892153665185 31 31.655617815720763\n",
            "1.7635236919321189 0.5010497496522007 32 30.18496094672753\n",
            "1.7997198722116992 0.5114665080013037 33 28.7830712135605\n",
            "1.835057235975034 0.5216452557520309 34 27.446732799677797\n",
            "1.869556105249071 0.5315916218246767 35 26.17288027272808\n",
            "1.9032363212026433 0.5413111019495329 36 24.958591551996065\n",
            "1.9361172555244879 0.5508090618184179 37 23.80108120471783\n",
            "1.9682178215320387 0.5600907401616342 38 22.697694055886597\n",
            "1.9995564850173642 0.5691612517521187 39 21.645899096889277\n",
            "2.0301512748364696 0.5780255903385103 40 20.643283678998873\n",
            "2.060019793248036 0.5866886315088145 41 19.687547978402012\n",
            "2.0891792260075266 0.5951551354863086 42 18.776499720063498\n",
            "2.1176463522224434 0.6034297498592909 43 17.908049148323666\n",
            "2.1454375539743937 0.6115170122462377 44 17.080204232690342\n",
            "2.17256882571348 0.6194213528978988 45 16.291066097826658\n",
            "2.199055783430396 0.6271470972378221 46 15.538824667250758\n",
            "2.2249136736115003 0.6346984683427641 47 14.82175451075301\n",
            "2.2501573819819907 0.6420795893644096 48 14.138210886004345\n",
            "2.2748014420422003 0.6492944858937888 49 13.486625965274555\n",
            "2.298860043401909 0.656347088269748 50 12.865505238603971\n",
            "2.3223470399174486 0.663241233832797 51 12.273424085176968\n",
            "2.345275957636268 0.6699806691256267 52 11.709024505031534\n",
            "2.3676600025535164 0.6765690520415578 53 11.171012003606823\n",
            "2.38951206818509 0.6830099539221536 54 10.658152621981564\n",
            "2.4108447429614848 0.6893068616051987 55 10.169270105990169\n",
            "2.431670317446701 0.6954631794242194 56 9.703243207721977\n",
            "2.452000791386328 0.7014822311606908 57 9.259003113213131\n",
            "2.4718478805888644 0.7073672619500514 58 8.835530990429527\n",
            "2.491223023644209 0.7131214401426181 59 8.431855651915761\n",
            "2.5101373884831806 0.7187478591204677 60 8.047051326747829\n",
            "2.528601878781828 0.7242495390713276 61 7.680235536677926\n",
            "2.5466271402142 0.729629428720494 62 7.330567071599183\n",
            "2.5642235665571644 0.7348904070217678 63 6.997244059685518\n",
            "2.5814013056507763 0.7400352848083812 64 6.6795021277793385\n",
            "2.598170265217609 0.7450668064048598 65 6.376612647806777\n",
            "2.6145401185443924 0.7499876512007444 66 6.087881065197355\n",
            "2.6305203100292114 0.7548004351870765 67 5.812645305473343\n",
            "2.6461200605974464 0.759507712456527 68 5.55027425535326\n",
            "2.6613483729895635 0.7641119766680293 69 5.300166314884883\n",
            "2.676214036923785 0.7686156624767558 70 5.061748017286256\n",
            "2.690725634136601 0.7730211469302596 71 4.834472713328285\n",
            "2.704891543304014 0.7773307508315794 72 4.617819317240816\n",
            "2.7187199448463364 0.7815467400700922 73 4.4112911112650215\n",
            "2.7322188256192965 0.7856713269208739 74 4.2144146061096475\n",
            "2.745395983494147 0.7897066713133164 75 4.026738454696742\n",
            "2.758259031829396 0.7936548820697249 76 3.8478324167049616\n",
            "2.770815403836731 0.7975180181146091 77 3.677286371534811\n",
            "2.7830723568436353 0.8012980896553595 78 3.514709377431585\n",
            "2.795036976455143 0.804997059334987 79 3.359728774607353\n",
            "2.80671618061712 0.8086168433575862 80 3.211989330304477\n",
            "2.818116723583398 0.8121593125871683 81 3.0711524238393766\n",
            "2.82924519978904 0.8156262936204937 82 2.936895269756742\n",
            "2.8401080476319582 0.8190195698345184 83 2.808910177312204\n",
            "2.850711553165048 0.8223408824090576 84 2.6869038445844224\n",
            "2.8610618537009627 0.8255919313252491 85 2.5705966855973124\n",
            "2.87116494133159 0.8287743763403929 86 2.459722188908641\n",
            "2.8810266663642525 0.8318898379397225 87 2.3540263061935445\n",
            "2.8906527406766007 0.8349398982656575 88 2.253266869420309\n",
            "2.9000487409921214 0.8379261020250666 89 2.1572130352812415\n",
            "2.9092201120781445 0.8408499573750637 90 2.0656447556041786\n",
            "2.918172169868175 0.8437129367878448 91 1.9783522725296079\n",
            "2.926910104510348 0.84651647789506 92 1.8951356372953048\n",
            "2.93543898334375 0.8492619843122078 93 1.815804251524451\n",
            "2.943763753804314 0.8519508264435208 94 1.74017642996497\n",
            "2.9518892462619584 0.8545843422678079 95 1.6680789836768406\n",
            "2.9598201767905885 0.8571638381057005 96 1.599346822711241\n",
            "2.9675611498725614 0.8596905893687455 97 1.5338225773699434\n",
            "2.9751166610391526 0.8621658412907727 98 1.4713562371761333\n",
            "2.9824910994485467 0.8645908096419562 99 1.4118048067283455\n",
            "2.989688750402827 0.866966681425981 100 1.3550319776480415\n",
            "2.996713797805409 0.8692946155607121 101 1.3009078158681808\n",
            "3.0035703265603257 0.8715757435427582 102 1.2493084635454297\n",
            "3.010262324914742 0.8738111700963108 103 1.2001158549121043\n",
            "3.01679368674604 0.8760019738066297 104 1.1532174454160053\n",
            "3.0231682137947873 0.8781492077385402 105 1.1085059535267265\n",
            "3.029389617844871 0.8802539000402945 106 1.0658791146161126\n",
            "3.035461522852042 0.8823170545331447 107 1.0252394463482484\n",
            "3.041387467022098 0.8843396512869661 108 0.9864940250407065\n",
            "3.04717090483989 0.8863226471822596 109 0.9495542724840462\n",
            "3.052815209050319 0.8882669764588558 110 0.91433575273044\n",
            "3.0583236725924587 0.8901735512516361 111 0.8807579783852963\n",
            "3.063699510487915 0.8920432621135781 112 0.8487442259574092\n",
            "3.068945861684499 0.8938769785264234 113 0.818221359844089\n",
            "3.0740657908562814 0.8956755493992636 114 0.7891196645474177\n",
            "3.0790622901610476 0.8974398035553274 115 0.7613726847367399\n",
            "3.0839382809561724 0.8991705502072505 116 0.7349170727904637\n",
            "3.0886966154738933 0.9008685794210989 117 0.7096924434673888\n",
            "3.093340078456941 0.9025346625694133 118 0.6856412353741935\n",
            "3.097871388755472 0.9041695527735328 119 0.6627085789112258\n",
            "3.1022932008862103 0.905773985335453 120 0.6408421703936833\n",
            "3.106608106554701 0.9073486781594647 121 0.6199921520593675\n",
            "3.110818636141541 0.9088943321638177 122 0.6001109976877599\n",
            "3.114927260153444 0.9104116316826407 123 0.5811534035679831\n",
            "3.118936390639972 0.9119012448583548 124 0.563076184565538\n",
            "3.1228483825767426 0.9133638240247982 125 0.545838175049367\n",
            "3.1266655352159054 0.9148000060812882 126 0.5294001344519563\n",
            "3.130390093404668 0.9162104128578302 127 0.5137246572458091\n",
            "3.134024248872618 0.9175956514716865 128 0.4987760871297905\n",
            "3.1375701414885904 0.9189563146755074 129 0.4845204352284337\n",
            "3.141029860487788 0.9202929811972249 130 0.47092530211658484\n",
            "3.1444054456698733 0.9216062160719037 131 0.45795980349047255\n",
            "3.1476988885687045 0.9228965709657407 132 0.44559449931469264\n",
            "3.1509121335943986 0.924164584492397 133 0.4338013262825542\n",
            "3.1540470791483672 0.9254107825218458 134 0.422553533434853\n",
            "3.157105578711972 0.926635678481912 135 0.4118256207893507\n",
            "3.160089441909417 0.9278397736526763 136 0.4015932808401945\n",
            "3.163000435545494 0.9290235574539145 137 0.39183334279304266\n",
            "3.1658402846187697 0.9301875077257338 138 0.38252371940797936\n",
            "3.1686106733108024 0.9313320910025696 139 0.3736433563282593\n",
            "3.1713132459519495 0.9324577627806997 140 0.3651721837786469\n",
            "3.1739496079643224 0.9335649677794265 141 0.35709107052252204\n",
            "3.1765213267824306 0.9346541401960817 142 0.34938177997213443\n",
            "3.179029932752041 0.935725703954995 143 0.34202692835131665\n",
            "3.181476920007766 0.9367800729505728 144 0.3350099448146756\n",
            "3.183863747329892 0.937817651284625 145 0.32831503343175483\n",
            "3.1861918389809265 0.9388388334980764 146 0.32192713694898534\n",
            "3.1884625855223576 0.9398440047971947 147 0.315831902246249\n",
            "3.1906773446120824 0.9408335412744662 148 0.31001564740884563\n",
            "3.1928374417829697 0.9418078101242447 149 0.3044653303392944\n",
            "3.194944171202999 0.9427671698532984 150 0.2991685188369722\n",
            "3.196998796417413 0.9437119704863739 151 0.29411336207695044\n",
            "3.199002551073312 0.9446425537668967 152 0.2892885634225855\n",
            "3.2009566396270976 0.945559253352923 153 0.2846833545095057\n",
            "3.202862238035184 0.9464623950084545 154 0.28028747054152625\n",
            "3.204720494428359 0.9473522967902265 155 0.2760911267418327\n",
            "3.206532529770194 0.9482292692300759 156 0.27208499590538826\n",
            "3.2082994384998695 0.9490936155129945 157 0.2682601870010924\n",
            "3.2100222891597943 0.9499456316509693 158 0.2646082247745731\n",
            "3.211702125008373 0.9507856066527086 159 0.26112103030483863\n",
            "3.2133399646182723 0.9516138226893529 160 0.25779090247017883\n",
            "3.2149368024605343 0.9524305552562645 161 0.2546105002807895\n",
            "3.216493609474865 0.9532360733309888 162 0.251572826037593\n",
            "3.218011333626432 0.9540306395274777 163 0.24867120927862257\n",
            "3.2194909004494856 0.9548145102466642 164 0.245899291476129\n",
            "3.220933213578117 0.9555879358234739 165 0.2432510114493178\n",
            "3.2223391552644576 0.9563511606703583 166 0.24072059145924168\n",
            "3.2237095868846173 0.9571044234174308 167 0.23830252395394913\n",
            "3.225045349432651 0.9578479570492883 168 0.23599155893348184\n",
            "3.226347264002837 0.9585819890385938 169 0.23378269190573633\n",
            "3.2276161322605432 0.9593067414764996 170 0.23167115240555686\n",
            "3.228852736901952 0.9600224311999834 171 0.2296523930507166\n",
            "3.230057842102909 0.9607292699161718 172 0.22772207910968853\n",
            "3.231232193957148 0.961427464323722 173 0.2258760785572665\n",
            "3.2323765209041486 0.9621172162313316 174 0.22411045259522308\n",
            "3.2334915341468693 0.962798722673444 175 0.22242144661626417\n",
            "3.2345779280595974 0.9634721760232159 176 0.22080548159053476\n",
            "3.235636380586147 0.9641377641028118 177 0.21925914585493428\n",
            "3.2366675536286347 0.9647956702910894 178 0.21777918728639378\n",
            "3.237672093427058 0.9654460736287354 179 0.21636250584115704\n",
            "3.2386506309298904 0.9660891489209156 180 0.2150061464429582\n",
            "3.2396037821559074 0.9667250668374944 181 0.21370729220377874\n",
            "3.2405321485474525 0.967353994010884 182 0.21246325796161922\n",
            "3.241436317315343 0.9679760931315775 183 0.21127148412048102\n",
            "3.242316861775616 0.9685915230414223 184 0.21012953077840413\n",
            "3.2431743416783037 0.9692004388246858 185 0.20903507213011255\n",
            "3.2440093035284328 0.9698029918969666 186 0.2079858911314022\n",
            "3.2448222808994256 0.9703993300920021 187 0.20697987441305196\n",
            "3.245613794739086 0.9709895977464216 188 0.20601500743257506\n",
            "3.246384353668348 0.9715739357824942 189 0.20508936985269588\n",
            "3.2471344542729494 0.9721524817889191 190 0.2042011311359465\n",
            "3.247864581388211 0.9727253700997036 191 0.20334854634527627\n",
            "3.2485752083770723 0.9732927318711749 192 0.2025299521410454\n",
            "3.2492667974015497 0.9738546951571702 193 0.2017437629652067\n",
            "3.2499397996877724 0.9744113849824465 194 0.2009884674039419\n",
            "3.2505946557847465 0.974962923414355 195 0.20026262472038187\n",
            "3.251231795816996 0.9755094296328178 196 0.1995648615494805\n",
            "3.251851639731225 0.9760510199986502 197 0.19889386874744738\n",
            "3.252454597537146 0.9765878081202656 198 0.1982483983885073\n",
            "3.2530410695426073 0.9771199049188022 199 0.1976272609021122\n",
            "3.253611446583157 0.9776474186917089 200 0.1970293223440206\n",
            "3.254166110246177 0.9781704551748266 201 0.19645350179499582\n",
            "3.2547054330897125 0.9786891176029999 202 0.1958987688811512\n",
            "3.255229778856121 0.9792035067692556 203 0.19536414141025338\n",
            "3.2557395026806706 0.9797137210825804 204 0.19484868311856093\n",
            "3.2562349512952005 0.9802198566243312 205 0.1943515015230286\n",
            "3.2567164632269603 0.9807220072033114 206 0.19387174587395217\n",
            "3.257184368992747 0.981220264409543 207 0.1934086052033574\n",
            "3.2576389912884496 0.9817147176667674 208 0.19296130646465037\n",
            "3.258080645174103 0.9822054542837032 209 0.19252911275926726\n",
            "3.2585096382545706 0.9826925595040912 210 0.1921113216462525\n",
            "3.2589262708559454 0.9831761165555556 211 0.1917072635308884\n",
            "3.2593308361977815 0.9836562066973088 212 0.19131630012867734\n",
            "3.2597236205612465 0.9841329092667275 213 0.19093782300115347\n",
            "3.260104903453299 0.9846063017248265 214 0.19057125216017098\n",
            "3.2604749577669776 0.985076459700657 215 0.19021603473745208\n",
            "3.2608340499379 0.9855434570346538 216 0.1898716437163624\n",
            "3.261182440097058 0.9860073658209572 217 0.189537576722985\n",
            "3.261520382219997 0.9864682564487329 218 0.18921335487373436\n",
            "3.261848124272465 0.9869261976425154 219 0.18889852167685514\n",
            "3.2621659083526153 0.9873812565015956 220 0.18859264198529938\n",
            "3.262473970829848 0.9878334985384767 221 0.1882953009985598\n",
            "3.2627725424803606 0.9882829877164206 222 0.18800610331119216\n",
            "3.263061848619494 0.9887297864861057 223 0.1877246720058256\n",
            "3.263342109230949 0.9891739558214164 224 0.18745064778859208\n",
            "3.2636135390929395 0.9896155552543879 225 0.18718368816497896\n",
            "3.2638763479013684 0.9900546429093215 226 0.18692346665423232\n",
            "3.2641307403900823 0.9904912755360947 227 0.18666967204049137\n",
            "3.264376916448284 0.990925508542682 228 0.18642200765894115\n",
            "3.2646150712351654 0.991357396026907 229 0.18618019071535372\n",
            "3.26484539529183 0.9917869908074421 230 0.18594395163744473\n",
            "3.265068074650565 0.9922143444540763 231 0.18571303345656642\n",
            "3.2652832909415284 0.9926395073172648 232 0.1854871912183139\n",
            "3.265491221496911 0.9930625285569811 233 0.18526619142069245\n",
            "3.265692039452637 0.9934834561708856 234 0.1850498114785622\n",
            "3.265885913847654 0.9939023370218281 235 0.1848378392131207\n",
            "3.2660730097208748 0.9943192168646985 236 0.18463007236526946\n",
            "3.266253488205827 0.9947341403726438 237 0.18442631813172541\n",
            "3.2664275066230632 0.9951471511626636 238 0.18422639272283647\n",
            "3.2665952185703797 0.9955582918206 239 0.18403012094106858\n",
            "3.266756774010908 0.9959676039255365 240 0.18383733577920458\n",
            "3.2669123193591147 0.9963751280736199 241 0.183647878037338\n",
            "3.2670619975647726 0.996780903901318 242 0.18346159595777153\n",
            "3.2672059481949396 0.9971849701081268 243 0.1832783448769948\n",
            "3.2673443075140023 0.9975873644787409 244 0.18309798689393006\n",
            "3.267477208561822 0.9979881239046994 245 0.18292039055370146\n",
            "3.2676047812300335 0.998387284405519 246 0.18274543054618061\n",
            "3.2677271523365397 0.9987848811493278 247 0.18257298741864206\n",
            "3.26784444569824 0.99918094847301 248 0.18240294730184614\n",
            "3.2679567822020403 0.9995755199018745 249 0.18223520164893614\n",
            "3.268064279874184 0.9999686281688586 250 0.1820696469865447\n",
            "3.268167053947939 1.0003603052332757 251 0.1819061846775382\n",
            "3.268265216929685 1.0007505822991214 252 0.18174472069486003\n",
            "3.268358878663437 1.001139489832945 253 0.18158516540594283\n",
            "3.268448146393844 1.0015270575812987 254 0.18142743336721057\n",
            "3.2685331248276914 1.001913314587773 255 0.1812714431281857\n",
            "3.2686139161939556 1.0022982892096313 256 0.18111711704475472\n",
            "3.2686906203024306 1.0026820091340483 257 0.1809643811011745\n",
            "3.268763334600973 1.0030645013939656 258 0.1808131647403937\n",
            "3.268832154231388 1.0034457923835718 259 0.18066340070231424\n",
            "3.268897172083996 1.0038259078734164 260 0.18051502486961224\n",
            "3.2689584788509074 1.0042048730251656 261 0.18036797612077451\n",
            "3.2690161630780366 1.0045827124060098 262 0.18022219619000304\n",
            "3.269070311215884 1.0049594500027297 263 0.18007762953366988\n",
            "3.269121007669118 1.005335109235429 264 0.17993422320302457\n",
            "3.2691683348449847 1.0057097129709434 265 0.1797919267228455\n",
            "3.2692123732005696 1.0060832835359315 266 0.17965069197576913\n",
            "3.2692532012889415 1.0064558427296562 267 0.17951047309203183\n",
            "3.2692908958042066 1.0068274118364633 268 0.1793712263443643\n",
            "3.2693255316254954 1.007198011637965 269 0.17923291004779957\n",
            "3.2693571818599065 1.0075676624249361 270 0.17909548446417242\n",
            "3.269385917884439 1.0079363840089268 271 0.1789589117110777\n",
            "3.2694118093869275 1.0083041957336023 272 0.17882315567509008\n",
            "3.2694349244060135 1.0086711164858135 273 0.17868818192904434\n",
            "3.2694553293701665 1.0090371647064058 274 0.1785539576531764\n",
            "3.269473089135784 1.009402358400772 275 0.17842045155995984\n",
            "3.2694882670243923 1.0097667151491558 276 0.17828763382245225\n",
            "3.269500924858961 1.0101302521167113 277 0.17815547600599682\n",
            "3.2695111229993636 1.010492986063324 278 0.17802395100311308\n",
            "3.269518920376998 1.0108549333532013 279 0.17789303297143466\n",
            "3.2695243745285847 1.011216109964233 280 0.17776269727455138\n",
            "3.2695275416291705 1.011576531497133 281 0.1776329204256116\n",
            "3.269528476524346 1.0119362131843637 282 0.17750368003357142\n",
            "3.269527232761704 1.012295169898849 283 0.17737495475194953\n",
            "3.2695238626215537 1.012653416162481 284 0.17724672422997972\n",
            "3.2695184171469047 1.0130109661544267 285 0.17711896906605024\n",
            "3.2695109461727463 1.0133678337192364 286 0.17699167076332115\n",
            "3.2695014983546304 1.0137240323747614 287 0.1768648116874111\n",
            "3.26949012119658 1.0140795753198841 288 0.17673837502607262\n",
            "3.2694768610783362 1.0144344754420649 289 0.17661234475074272\n",
            "3.2694617632819605 1.0147887453247106 290 0.17648670557989776\n",
            "3.269444872017809 1.0151423972543694 291 0.17636144294412276\n",
            "3.269426230449891 1.0154954432277539 292 0.17623654295281002\n",
            "3.269405880720627 1.015847894958599 293 0.17611199236241878\n",
            "3.2693838639750217 1.016199763884358 294 0.17598777854621422\n",
            "3.269360220384265 1.0165510611727393 295 0.17586388946542808\n",
            "3.2693349891687746 1.0169017977280883 296 0.17574031364176515\n",
            "3.2693082086206933 1.0172519841976195 297 0.17561704013119248\n",
            "3.269279916125852 1.0176016309775002 298 0.17549405849895686\n",
            "3.2692501481852183 1.0179507482187902 299 0.17537135879577537\n",
            "3.269218940435831 1.0182993458332412 300 0.17524893153512724\n",
            "3.2691863276712434 1.0186474334989597 301 0.1751267676716203\n",
            "3.2691523438614825 1.0189950206659344 302 0.17500485858036333\n",
            "3.269117022172534 1.0193421165614336 303 0.17488319603730096\n",
            "3.2690803949853695 1.0196887301952755 304 0.17476177220047243\n",
            "3.2690424939145197 1.0200348703649726 305 0.1746405795921438\n",
            "3.2690033498262103 1.0203805456607555 306 0.1745196110817806\n",
            "3.268962992856069 1.0207257644704768 307 0.17439885986980666\n",
            "3.2689214524264125 1.0210705349843994 308 0.17427831947213593\n",
            "3.268878757263125 1.021414865199872 309 0.1741579837054157\n",
            "3.268834935412137 1.0217587629258935 310 0.17403784667296668\n",
            "3.2687900142555146 1.0221022357875689 311 0.17391790275137714\n",
            "3.268744020527168 1.0224452912304607 312 0.1737981465777298\n",
            "3.2686969803281873 1.0227879365248367 313 0.17367857303741593\n",
            "3.268648919141818 1.023130178769818 314 0.17355917725252948\n",
            "3.268599861848079 1.0234720248974274 315 0.17343995457079725\n",
            "3.268549832738037 1.023813481676544 316 0.17332090055503055\n",
            "3.2684988555277408 1.0241545557167628 317 0.1732020109730677\n",
            "3.26844695337183 1.024495253472163 318 0.1730832817881894\n",
            "3.2683941488768165 1.0248355812449876 319 0.1729647091499772\n",
            "3.2683404641140568 1.0251755451892368 320 0.1728462893856076\n",
            "3.268285920632412 1.025515151314174 321 0.17272801899154588\n",
            "3.268230539470614 1.0258544054877512 322 0.1726098946256308\n",
            "3.268174341169334 1.026193313439952 323 0.17249191309953138\n",
            "3.2681173457829686 1.026531880766056 324 0.1723740713715551\n",
            "3.268059572891147 1.026870112929826 325 0.17225636653978976\n",
            "3.268001041609963 1.0272080152666196 326 0.17213879583557057\n",
            "3.267941770602944 1.0275455929864266 327 0.17202135661725115\n",
            "3.267881778091761 1.027882851176836 328 0.17190404636426324\n",
            "3.267821081866681 1.028219794805932 329 0.17178686267145557\n",
            "3.2677596992967786 1.02855642872512 330 0.17166980324370373\n",
            "3.2676976473398986 1.0288927576718891 331 0.17155286589075996\n",
            "3.2676349425523896 1.029228786272506 332 0.171436048522353\n",
            "3.2675716010986022 1.0295645190446467 333 0.17131934914351665\n",
            "3.267507638760165 1.029899960399966 334 0.1712027658501298\n",
            "3.2674430709450415 1.0302351146466049 335 0.17108629682467427\n",
            "3.267377912696371 1.0305699859916415 336 0.17096994033218443\n",
            "3.267312178701101 1.03090457854348 337 0.17085369471638903\n",
            "3.2672458832984157 1.0312388963141865 338 0.17073755839603\n",
            "3.2671790404879655 1.0315729432217677 339 0.1706215298613632\n",
            "3.2671116639378996 1.0319067230923964 340 0.17050560767080683\n",
            "3.2670437669927113 1.0322402396625843 341 0.17038979044776273\n",
            "3.266975362680896 1.032573496581303 342 0.1702740768775758\n",
            "3.2669064637224285 1.032906497412055 343 0.17015846570463808\n",
            "3.2668370825360626 1.0332392456348962 344 0.1700429557296327\n",
            "3.26676723124646 1.03357174464841 345 0.16992754580690006\n",
            "3.2666969216911474 1.0339039977716344 346 0.16981223484193053\n",
            "3.2666261654273123 1.0342360082459443 347 0.16969702178897517\n",
            "3.266554973738436 1.0345677792368886 348 0.1695819056487679\n",
            "3.266483357640769 1.034899313835984 349 0.1694668854663502\n",
            "3.266411327889656 1.0352306150624675 350 0.16935196032900401\n",
            "3.266338894985709 1.0355616858650045 351 0.16923712936427726\n",
            "3.2662660691808334 1.0358925291233603 352 0.1691223917381002\n",
            "3.266192860484115 1.0362231476500285 353 0.16900774665299656\n",
            "3.2661192786675644 1.0365535441918239 354 0.168893193346369\n",
            "3.266045333271727 1.0368837214314348 355 0.1687787310888729\n",
            "3.2659710336111605 1.0372136819889415 356 0.16866435918286243\n",
            "3.2658963887797814 1.0375434284232967 357 0.1685500769609096\n",
            "3.2658214076560865 1.0378729632337715 358 0.16843588378439128\n",
            "3.26574609890825 1.0382022888613676 359 0.16832177904214674\n",
            "3.2656704709991002 1.0385314076901953 360 0.16820776214919259\n",
            "3.265594532190979 1.0388603220488202 361 0.1680938325455017\n",
            "3.2655182905504847 1.0391890342115766 362 0.1679799896948361\n",
            "3.2654417539531044 1.0395175463998505 363 0.16786623308363854\n",
            "3.265364930087737 1.039845860783332 364 0.16775256221997092\n",
            "3.265287826461107 1.040173979481239 365 0.16763897663250749\n",
            "3.2652104504020754 1.04050190456351 366 0.16752547586957012\n",
            "3.2651328090658485 1.0408296380519706 367 0.1674120594982118\n",
            "3.265054909438088 1.0411571819214716 368 0.1672987271033443\n",
            "3.2649767583389213 1.041484538101 369 0.16718547828690222\n",
            "3.264898362426859 1.0418117084747645 370 0.1670723126670488\n",
            "3.2648197282026192 1.0421386948832538 371 0.16695922987741924\n",
            "3.264740862012862 1.0424654991242717 372 0.16684622956640077\n",
            "3.2646617700538334 1.0427921229539459 373 0.16673331139643893\n",
            "3.2645824583749254 1.0431185680877149 374 0.16662047504338814\n",
            "3.264502932882151 1.0434448362012898 375 0.16650772019588223\n",
            "3.264423199341536 1.0437709289315944 376 0.1663950465547395\n",
            "3.2643432633824325 1.044096847877682 377 0.16628245383239407\n",
            "3.264263130500753 1.0444225946016321 378 0.16616994175235542\n",
            "3.2641828060621267 1.0447481706294244 379 0.16605751004869196\n",
            "3.2641022953049834 1.0450735774517927 380 0.16594515846553648\n",
            "3.264021603343563 1.0453988165250592 381 0.16583288675662064\n",
            "3.2639407351708543 1.0457238892719476 382 0.16572069468482523\n",
            "3.2638596956614636 1.0460487970823786 383 0.16560858202175455\n",
            "3.2637784895744173 1.0463735413142452 384 0.1654965485473314\n",
            "3.2636971215558948 1.0466981232941701 385 0.16538459404940567\n",
            "3.2636155961419 1.0470225443182464 386 0.16527271832339166\n",
            "3.263533917760869 1.0473468056527584 387 0.16516092117190953\n",
            "3.2634520907362132 1.0476709085348876 388 0.16504920240445356\n",
            "3.2633701192888074 1.0479948541734005 389 0.16493756183707214\n",
            "3.2632880075394133 1.0483186437493208 390 0.1648259992920608\n",
            "3.26320575951105 1.0486422784165856 391 0.1647145145976735\n",
            "3.2631233791313075 1.0489657593026862 392 0.16460310758784494\n",
            "3.2630408702346028 1.049289087509293 393 0.16449177810192858\n",
            "3.2629582365643857 1.049612264112867 394 0.1643805259844386\n",
            "3.262875481775292 1.0499352901652548 395 0.1642693510848195\n",
            "3.2627926094352437 1.0502581666942725 396 0.16415825325720831\n",
            "3.2627096230275026 1.0505808947042725 397 0.1640472323602213\n",
            "3.2626265259526717 1.050903475176699 398 0.16393628825674683\n",
            "3.2625433215306527 1.0512259090706295 399 0.16382542081374363\n",
            "3.2624600130025545 1.0515481973233043 400 0.16371462990205407\n",
            "3.2623766035325583 1.0518703408506425 401 0.16360391539622704\n",
            "3.262293096209738 1.0521923405477458 402 0.1634932771743394\n",
            "3.2622094940498374 1.0525141972893919 403 0.1633827151178383\n",
            "3.262125799997005 1.0528359119305142 404 0.16327222911138328\n",
            "3.262042016925488 1.0531574853066712 405 0.16316181904269633\n",
            "3.261958147641287 1.053478918234505 406 0.1630514848024227\n",
            "3.261874194883772 1.0538002115121883 407 0.16294122628399565\n",
            "3.261790161327256 1.0541213659198612 408 0.1628310433835026\n",
            "3.261706049582537 1.054442382220058 409 0.16272093599957085\n",
            "3.261621862198401 1.0547632611581226 410 0.16261090403324424\n",
            "3.2615376016630875 1.0550840034626159 411 0.16250094738787368\n",
            "3.261453270405724 1.0554046098457122 412 0.16239106596901015\n",
            "3.2613688707977238 1.0557250810035863 413 0.16228125968430498\n",
            "3.2612844051541523 1.0560454176167928 414 0.16217152844341096\n",
            "3.26119987573506 1.0563656203506344 415 0.1620618721578934\n",
            "3.261115284746785 1.0566856898555228 416 0.16195229074113812\n",
            "3.2610306343432227 1.0570056267673311 417 0.16184278410827224\n",
            "3.260945926627068 1.0573254317077372 418 0.16173335217608004\n",
            "3.260861163651026 1.0576451052845592 419 0.161623994862931\n",
            "3.260776347418996 1.057964648092084 420 0.161514712088704\n",
            "3.2606914798872255 1.0582840607113857 421 0.1614055037747209\n",
            "3.2606065629654384 1.0586033437106395 422 0.161296369843679\n",
            "3.260521598517935 1.0589224976454255 423 0.1611873102195885\n",
            "3.260436588364668 1.059241523059027 424 0.16107832482771248\n",
            "3.2603515342822913 1.059560420482721 425 0.16096941359451228\n",
            "3.2602664380051847 1.0598791904360618 426 0.16086057644758692\n",
            "3.260181301226454 1.0601978334271587 427 0.1607518133156301\n",
            "3.2600961255989094 1.0605163499529455 428 0.16064312412837314\n",
            "3.2600109127360155 1.0608347404994463 429 0.16053450881654188\n",
            "3.2599256642128265 1.0611530055420313 430 0.16042596731181066\n",
            "3.259840381566892 1.0614711455456702 431 0.16031749954675822\n",
            "3.2597550662991464 1.0617891609651775 432 0.16020910545483039\n",
            "3.259669719874774 1.0621070522454523 433 0.16010078497029753\n",
            "3.2595843437240566 1.0624248198217128 434 0.15999253802821964\n",
            "3.2594989392431972 1.062742464119725 435 0.15988436456440996\n",
            "3.2594135077951285 1.0630599855560263 436 0.1597762645154015\n",
            "3.2593280507102995 1.0633773845381436 437 0.1596682378184152\n",
            "3.2592425692874443 1.0636946614648055 438 0.1595602844113291\n",
            "3.2591570647943318 1.0640118167261512 439 0.1594524042326495\n",
            "3.2590715384684996 1.0643288507039328 440 0.15934459722148372\n",
            "3.258985991517969 1.064645763771714 441 0.15923686331750936\n",
            "3.2589004251219436 1.0649625562950626 442 0.15912920246095583\n",
            "3.2588148404314903 1.065279228631741 443 0.15902161459257586\n",
            "3.258729238570207 1.0655957811318886 444 0.1589140996536227\n",
            "3.2586436206348712 1.0659122141382036 445 0.1588066575858288\n",
            "3.258557987696075 1.066228527986118 446 0.15869928833138608\n",
            "3.2584723407988445 1.0665447230039693 447 0.15859199183292372\n",
            "3.258386680963246 1.0668607995131683 448 0.15848476803349218\n",
            "3.258301009184976 1.0671767578283624 449 0.15837761687654178\n",
            "3.258215326435936 1.0674925982575958 450 0.15827053830590795\n",
            "3.2581296336647996 1.067808321102465 451 0.1581635322657939\n",
            "3.2580439317975594 1.0681239266582712 452 0.1580565987007543\n",
            "3.2579582217380634 1.0684394152141692 453 0.15794973755568154\n",
            "3.257872504368541 1.0687547870533125 454 0.1578429487757909\n",
            "3.2577867805501133 1.0690700424529946 455 0.1577362323066076\n",
            "3.2577010511232927 1.069385181684788 456 0.1576295880939509\n",
            "3.2576153169084714 1.0697002050146787 457 0.15752301608392738\n",
            "3.257529578706397 1.0700151127031985 458 0.15741651622291408\n",
            "3.257443837298637 1.0703299050055537 459 0.15731008845754912\n",
            "3.2573580934480337 1.0706445821717507 460 0.1572037327347216\n",
            "3.2572723478991463 1.070959144446719 461 0.1570974490015599\n",
            "3.257186601378685 1.0712735920704306 462 0.15699123720542466\n",
            "3.2571008545959312 1.0715879252780176 463 0.1568850972938964\n",
            "3.2570151082431527 1.071902144299886 464 0.15677902921476813\n",
            "3.256929362996004 1.0722162493618272 465 0.15667303291603635\n",
            "3.256843619513921 1.0725302406851276 466 0.15656710834589613\n",
            "3.256757878440504 1.0728441184866737 467 0.15646125545272618\n",
            "3.2566721404038925 1.0731578829790573 468 0.15635547418509096\n",
            "3.2565864060171323 1.0734715343706758 469 0.15624976449172653\n",
            "3.2565006758785313 1.0737850728658316 470 0.15614412632153735\n",
            "3.2564149505720086 1.0740984986648288 471 0.15603855962358687\n",
            "3.2563292306674354 1.074411811964067 472 0.15593306434709697\n",
            "3.2562435167209673 1.0747250129561343 473 0.15582764044143507\n",
            "3.2561578092753694 1.0750381018298962 474 0.15572228785611655\n",
            "3.256072108860332 1.0753510787705842 475 0.15561700654079202\n",
            "3.255986415992781 1.075663943959881 476 0.15551179644524804\n",
            "3.2559007311771806 1.0759766975760046 477 0.15540665751939753\n",
            "3.2558150549058267 1.0762893397937894 478 0.1553015897132807\n",
            "3.2557293876591356 1.0766018707847669 479 0.15519659297705593\n",
            "3.255643729905926 1.0769142907172424 480 0.15509166726099755\n",
            "3.255558082103692 1.0772265997563724 481 0.15498681251549307\n",
            "3.2554724446988725 1.0775387980642375 482 0.154882028691038\n",
            "3.255386818127112 1.0778508857999158 483 0.15477731573823048\n",
            "3.255301202813516 1.0781628631195532 484 0.15467267360777243\n",
            "3.2552155991729013 1.078474730176433 485 0.1545681022504635\n",
            "3.2551300076100387 1.0787864871210429 486 0.1544636016171983\n",
            "3.2550444285198914 1.0790981341011405 487 0.15435917165896107\n",
            "3.254958862287847 1.0794096712618189 488 0.15425481232682872\n",
            "3.254873309289944 1.079721098745568 489 0.15415052357196274\n",
            "3.254787769893092 1.0800324166923374 490 0.15404630534560804\n",
            "3.2547022444552898 1.0803436252395942 491 0.15394215759909272\n",
            "3.254616733325836 1.0806547245223832 492 0.15383808028382415\n",
            "3.2545312368455335 1.0809657146733833 493 0.15373407335128458\n",
            "3.2544457553468913 1.0812765958229633 494 0.1536301367530332\n",
            "3.254360289154322 1.081587368099236 495 0.15352627044069972\n",
            "3.2542748385843314 1.0818980316281117 496 0.1534224743659882\n",
            "3.2541894039457073 1.0822085865333495 497 0.15331874848066923\n",
            "3.2541039855397016 1.0825190329366086 498 0.15321509273658115\n",
            "3.2540185836602085 1.0828293709574972 499 0.15311150708562793\n",
            "3.253933198593939 1.083139600713621 500 0.15300799147977845\n",
            "3.2538478306205905 1.08344972232063 501 0.15290454587106272\n",
            "3.253762480013014 1.0837597358922653 502 0.15280117021157394\n",
            "3.253677147037374 1.0840696415404028 503 0.15269786445346273\n",
            "3.2535918319533095 1.0843794393750976 504 0.15259462854894024\n",
            "3.253506535014086 1.0846891295046275 505 0.15249146245027273\n",
            "3.2534212564667486 1.0849987120355338 506 0.15238836610978357\n",
            "3.253335996552267 1.0853081870726622 507 0.1522853394798514\n",
            "3.253250755505681 1.0856175547192033 508 0.15218238251290672\n",
            "3.253165533556241 1.0859268150767307 509 0.15207949516143557\n",
            "3.2530803309275433 1.0862359682452398 510 0.1519766773779724\n",
            "3.252995147837666 1.086545014323184 511 0.1518739291151049\n",
            "3.2529099844992984 1.0868539534075117 512 0.151771250325469\n",
            "3.252824841119869 1.087162785593701 513 0.1516686409617507\n",
            "3.2527397179016693 1.0874715109757944 514 0.15156610097668363\n",
            "3.252654615041978 1.087780129646433 515 0.1514636303230482\n",
            "3.252569532733176 1.0880886416968882 516 0.1513612289536731\n",
            "3.2524844711628647 1.0883970472170954 517 0.15125889682143123\n",
            "3.252399430513979 1.088705346295684 518 0.15115663387924094\n",
            "3.2523144109648974 1.0890135390200086 519 0.15105444008006577\n",
            "3.2522294126895495 1.0893216254761793 520 0.15095231537691242\n",
            "3.2521444358575224 1.0896296057490895 521 0.150850259722832\n",
            "3.2520594806341623 1.0899374799224462 522 0.15074827307091734\n",
            "3.251974547180676 1.0902452480787963 523 0.15064635537430363\n",
            "3.251889635654228 1.0905529102995546 524 0.15054450658616786\n",
            "3.251804746208038 1.0908604666650301 525 0.15044272665972871\n",
            "3.2517198789914707 1.0911679172544517 526 0.15034101554824425\n",
            "3.251635034150132 1.091475262145994 527 0.15023937320501468\n",
            "3.251550211825953 1.0917825014168012 528 0.1501377995833781\n",
            "3.2514654121572812 1.0920896351430118 529 0.1500362946367132\n",
            "3.251380635278963 1.0923966633997821 530 0.14993485831843803\n",
            "3.251295881322427 1.0927035862613088 531 0.14983349058200796\n",
            "3.2512111504157657 1.0930104038008517 532 0.14973219138091795\n",
            "3.251126442683814 1.0933171160907553 533 0.14963096066870038\n",
            "3.2510417582482254 1.093623723202471 534 0.14952979839892427\n",
            "3.2509570972275497 1.0939302252065768 535 0.14942870452519805\n",
            "3.250872459737304 1.0942366221727984 536 0.14932767900116445\n",
            "3.2507878458900463 1.094542914170029 537 0.14922672178050597\n",
            "3.250703255795445 1.0948491012663486 538 0.1491258328169391\n",
            "3.2506186895603473 1.0951551835290432 539 0.14902501206421764\n",
            "3.250534147288845 1.095461161024623 540 0.14892425947613092\n",
            "3.250449629082343 1.0957670338188408 541 0.14882357500650364\n",
            "3.250365135039618 1.096072801976709 542 0.14872295860919738\n",
            "3.250280665256886 1.096378465562518 543 0.14862241023810646\n",
            "3.2501962198278593 1.0966840246398515 544 0.1485219298471628\n",
            "3.2501117988438075 1.0969894792716046 545 0.14842151739033188\n",
            "3.250027402393614 1.0972948295199985 546 0.14832117282161314\n",
            "3.2499430305638346 1.0976000754465969 547 0.14822089609504158\n",
            "3.2498586834387506 1.0979052171123207 548 0.14812068716468627\n",
            "3.249774361100424 1.0982102545774635 549 0.14802054598464962\n",
            "3.24969006362875 1.098515187901706 550 0.1479204725090693\n",
            "3.2496057911015073 1.0988200171441302 551 0.1478204666921152\n",
            "3.249521543594409 1.0991247423632329 552 0.1477205284879914\n",
            "3.2494373211811527 1.0994293636169399 553 0.14762065785093573\n",
            "3.249353123933466 1.0997338809626191 554 0.14752085473521978\n",
            "3.2492689519211537 1.1000382944570932 555 0.1474211190951466\n",
            "3.249184805212146 1.1003426041566522 556 0.14732145088505377\n",
            "3.249100683872539 1.100646810117066 557 0.1472218500593117\n",
            "3.249016587966641 1.1009509123935968 558 0.1471223165723228\n",
            "3.248932517557013 1.1012549110410097 559 0.14702285037852342\n",
            "3.248848472704513 1.1015588061135857 560 0.14692345143238147\n",
            "3.248764453468332 1.1018625976651315 561 0.14682411968839662\n",
            "3.248680459906038 1.1021662857489913 562 0.14672485510110347\n",
            "3.2485964920736112 1.102469870418057 563 0.14662565762506646\n",
            "3.2485125500254832 1.1027733517247793 564 0.1465265272148831\n",
            "3.248428633814574 1.1030767297211768 565 0.14642746382518387\n",
            "3.2483447434923263 1.1033800044588469 566 0.14632846741062963\n",
            "3.248260879108742 1.1036831759889751 567 0.14622953792591456\n",
            "3.2481770407124158 1.1039862443623447 568 0.1461306753257636\n",
            "3.2480932283505686 1.1042892096293455 569 0.14603187956493355\n",
            "3.24800944206908 1.1045920718399833 570 0.14593315059821418\n",
            "3.2479256819125206 1.1048948310438889 571 0.14583448838042515\n",
            "3.247841947924182 1.1051974872903259 572 0.14573589286641953\n",
            "3.247758240146108 1.1055000406282 573 0.14563736401107993\n",
            "3.2476745586191242 1.105802491106067 574 0.14553890176932216\n",
            "3.247590903382867 1.1061048387721402 575 0.14544050609609158\n",
            "3.247507274475811 1.1064070836742987 576 0.1453421769463659\n",
            "3.2474236719352976 1.1067092258600952 577 0.14524391427515457\n",
            "3.2473400957975604 1.1070112653767632 578 0.14514571803749785\n",
            "3.2472565460977534 1.1073132022712242 579 0.14504758818846597\n",
            "3.2471730228699753 1.1076150365900952 580 0.14494952468316086\n",
            "3.2470895261472954 1.107916768379695 581 0.14485152747671662\n",
            "3.247006055961777 1.108218397686052 582 0.14475359652429717\n",
            "3.2469226123445014 1.1085199245549093 583 0.14465573178109656\n",
            "3.246839195325593 1.1088213490317325 584 0.1445579332023421\n",
            "3.2467558049342395 1.1091226711617155 585 0.144460200743289\n",
            "3.246672441198716 1.1094238909897867 586 0.14436253435922672\n",
            "3.2465891041464054 1.1097250085606147 587 0.14426493400547177\n",
            "3.246505793803821 1.110026023918615 588 0.14416739963737274\n",
            "3.2464225101966253 1.110326937107955 589 0.1440699312103108\n",
            "3.246339253349652 1.1106277481725593 590 0.1439725286796942\n",
            "3.246256023286924 1.1109284571561162 591 0.14387519200096552\n",
            "3.246172820031675 1.1112290641020823 592 0.14377792112959367\n",
            "3.2460896436063655 1.1115295690536882 593 0.14368071602108182\n",
            "3.2460064940327036 1.1118299720539426 594 0.14358357663096175\n",
            "3.2459233713316604 1.1121302731456386 595 0.14348650291479534\n",
            "3.24584027552349 1.1124304723713574 596 0.14338949482817584\n",
            "3.2457572066277454 1.1127305697734737 597 0.1432925523267263\n",
            "3.2456741646632943 1.1130305653941603 598 0.14319567536610028\n",
            "3.245591149648337 1.1133304592753923 599 0.14309886390198073\n",
            "3.245508161600421 1.1136302514589516 600 0.1430021178900821\n",
            "3.245425200536458 1.113929941986431 601 0.1429054372861494\n",
            "3.2453422664727376 1.1142295308992394 602 0.14280882204595585\n",
            "3.245259359424942 1.1145290182386045 603 0.14271227212530543\n",
            "3.245176479408162 1.1148284040455776 604 0.14261578748003303\n",
            "3.245093626436909 1.1151276883610375 605 0.1425193680660036\n",
            "3.2450108005251304 1.115426871225694 606 0.14242301383911046\n",
            "3.2449280016862234 1.1157259526800918 607 0.1423267247552798\n",
            "3.244845229933046 1.1160249327646143 608 0.1422305007704658\n",
            "3.2447624852779313 1.116323811519487 609 0.14213434184065196\n",
            "3.2446797677326997 1.1166225889847803 610 0.14203824792185357\n",
            "3.2445970773086716 1.1169212652004146 611 0.1419422189701146\n",
            "3.2445144140166784 1.1172198402061617 612 0.14184625494150957\n",
            "3.2444317778670744 1.1175183140416494 613 0.14175035579214276\n",
            "3.244349168869749 1.1178166867463637 614 0.14165452147814692\n",
            "3.2442665870341365 1.1181149583596526 615 0.14155875195568635\n",
            "3.2441840323692275 1.1184131289207284 616 0.14146304718095468\n",
            "3.24410150488358 1.1187111984686715 617 0.1413674071101744\n",
            "3.244019004585329 1.1190091670424327 618 0.1412718316995986\n",
            "3.2439365314821975 1.1193070346808358 619 0.14117632090551024\n",
            "3.2438540855815043 1.119604801422581 620 0.14108087468422045\n",
            "3.2437716668901757 1.1199024673062468 621 0.1409854929920719\n",
            "3.2436892754147544 1.1202000323702932 622 0.14089017578543545\n",
            "3.243606911161408 1.120497496653064 623 0.14079492302071303\n",
            "3.2435245741359386 1.1207948601927895 624 0.14069973465433364\n",
            "3.2434422643437912 1.1210921230275883 625 0.1406046106427584\n",
            "3.2433599817900625 1.1213892851954703 626 0.1405095509424769\n",
            "3.243277726479508 1.121686346734339 627 0.1404145555100077\n",
            "3.243195498416553 1.1219833076819932 628 0.14031962430189981\n",
            "3.243113297605297 1.1222801680761298 629 0.1402247572747313\n",
            "3.2430311240495238 1.1225769279543458 630 0.14012995438510842\n",
            "3.2429489777527083 1.12287358735414 631 0.14003521558966944\n",
            "3.242866858718024 1.1231701463129156 632 0.1399405408450801\n",
            "3.24278476694835 1.1234666048679816 633 0.1398459301080355\n",
            "3.2427027024462785 1.1237629630565555 634 0.13975138333526124\n",
            "3.242620665214121 1.1240592209157647 635 0.13965690048351012\n",
            "3.2425386552539157 1.1243553784826485 636 0.13956248150956685\n",
            "3.2424566725674335 1.1246514357941597 637 0.1394681263702438\n",
            "3.242374717156185 1.1249473928871667 638 0.13937383502238226\n",
            "3.242292789021426 1.1252432497984552 639 0.139279607422855\n",
            "3.242210888164164 1.1255390065647297 640 0.13918544352856063\n",
            "3.242129014585164 1.1258346632226153 641 0.13909134329642978\n",
            "3.2420471682849548 1.1261302198086591 642 0.13899730668342009\n",
            "3.241965349263834 1.126425676359332 643 0.1389033336465208\n",
            "3.2418835575218736 1.1267210329110304 644 0.13880942414274797\n",
            "3.2418017930589262 1.127016289500077 645 0.13871557812914734\n",
            "3.2417200558746293 1.1273114461627234 646 0.13862179556279505\n",
            "3.2416383459684113 1.12760650293515 647 0.13852807640079418\n",
            "3.2415566633394954 1.1279014598534693 648 0.13843442060027764\n",
            "3.2414750079869057 1.1281963169537255 649 0.1383408281184096\n",
            "3.2413933799094714 1.1284910742718965 650 0.1382472989123789\n",
            "3.2413117791058315 1.1287857318438959 651 0.13815383293940692\n",
            "3.24123020557444 1.1290802897055732 652 0.13806043015674266\n",
            "3.241148659313569 1.1293747478927154 653 0.1379670905216644\n",
            "3.2410671403213143 1.1296691064410487 654 0.13787381399147802\n",
            "3.2409856485955992 1.1299633653862386 655 0.13778060052351976\n",
            "3.2409041841341786 1.1302575247638926 656 0.13768745007515434\n",
            "3.240822746934643 1.1305515846095597 657 0.13759436260377536\n",
            "3.240741336994424 1.1308455449587327 658 0.13750133806680512\n",
            "3.240659954310794 1.1311394058468487 659 0.13740837642169462\n",
            "3.2405785988808753 1.1314331673092903 660 0.13731547762592364\n",
            "3.24049727070164 1.1317268293813865 661 0.13722264163700096\n",
            "3.240415969769916 1.1320203920984138 662 0.1371298684124644\n",
            "3.2403346960823876 1.1323138554955974 663 0.1370371579098791\n",
            "3.2402534496356012 1.1326072196081118 664 0.13694451008684055\n",
            "3.2401722304259692 1.132900484471082 665 0.1368519249009724\n",
            "3.2400910384497714 1.133193650119584 666 0.13675940230992598\n",
            "3.240009873703159 1.1334867165886462 667 0.13666694227138299\n",
            "3.2399287361821574 1.13377968391325 668 0.13657454474305214\n",
            "3.2398476258826703 1.1340725521283304 669 0.1364822096826722\n",
            "3.2397665428004814 1.1343653212687776 670 0.1363899370480089\n",
            "3.239685486931258 1.1346579913694372 671 0.13629772679685803\n",
            "3.239604458270554 1.1349505624651108 672 0.13620557888704318\n",
            "3.239523456813811 1.1352430345905573 673 0.1361134932764162\n",
            "3.2394424825563637 1.1355354077804933 674 0.1360214699228584\n",
            "3.239361535493441 1.135827682069594 675 0.13592950878427834\n",
            "3.2392806156201677 1.1361198574924942 676 0.13583760981861454\n",
            "3.239199722931569 1.1364119340837882 677 0.13574577298383242\n",
            "3.2391188574225716 1.136703911878031 678 0.13565399823792598\n",
            "3.2390380190880066 1.1369957909097397 679 0.13556228553891977\n",
            "3.238957207922612 1.137287571213392 680 0.13547063484486419\n",
            "3.238876423921034 1.1375792528234296 681 0.13537904611383872\n",
            "3.238795667077831 1.1378708357742566 682 0.13528751930395255\n",
            "3.238714937387473 1.138162320100241 683 0.13519605437334042\n",
            "3.238634234844347 1.1384537058357158 684 0.13510465128016796\n",
            "3.238553559442757 1.1387449930149782 685 0.13501330998262803\n",
            "3.2384729111769266 1.1390361816722918 686 0.134922030438942\n",
            "3.2383922900410003 1.1393272718418856 687 0.1348308126073585\n",
            "3.238311696029047 1.139618263557956 688 0.13473965644615657\n",
            "3.23823112913506 1.1399091568546658 689 0.1346485619136415\n",
            "3.2381505893529607 1.140199951766146 690 0.13455752896814704\n",
            "3.238070076676599 1.140490648326496 691 0.13446655756803605\n",
            "3.2379895910997547 1.1407812465697835 692 0.1343756476716989\n",
            "3.2379091326161413 1.1410717465300455 693 0.13428479923755407\n",
            "3.237828701219406 1.1413621482412886 694 0.1341940122240478\n",
            "3.2377482969031313 1.1416524517374895 695 0.13410328658965578\n",
            "3.2376679196608373 1.1419426570525957 696 0.13401262229288036\n",
            "3.2375875694859833 1.1422327642205254 697 0.1339220192922528\n",
            "3.2375072463719685 1.1425227732751686 698 0.13383147754633115\n",
            "3.237426950312134 1.1428126842503865 699 0.13374099701370376\n",
            "3.2373466812997647 1.143102497180013 700 0.13365057765298466\n",
            "3.23726643932809 1.1433922120978544 701 0.13356021942281668\n",
            "3.237186224390285 1.14368182903769 702 0.13346992228187135\n",
            "3.2371060364794726 1.143971348033273 703 0.13337968618884763\n",
            "3.2370258755887247 1.1442607691183295 704 0.1332895111024718\n",
            "3.2369457417110628 1.1445500923265606 705 0.13319939698149874\n",
            "3.23686563483946 1.1448393176916412 706 0.13310934378471137\n",
            "3.236785554966842 1.145128445247221 707 0.13301935147091928\n",
            "3.2367055020860884 1.1454174750269255 708 0.13292941999896188\n",
            "3.236625476190033 1.145706407064355 709 0.13283954932770511\n",
            "3.236545477271466 1.145995241393086 710 0.13274973941604193\n",
            "3.2364655053231353 1.1462839780466711 711 0.1326599902228949\n",
            "3.2363855603377463 1.146572617058639 712 0.13257030170721332\n",
            "3.236305642307964 1.1468611584624953 713 0.1324806738279754\n",
            "3.2362257512264136 1.1471496022917225 714 0.13239110654418412\n",
            "3.2361458870856823 1.1474379485797805 715 0.13230159981487405\n",
            "3.2360660498783185 1.147726197360107 716 0.13221215359910463\n",
            "3.235986239596835 1.1480143486661167 717 0.1321227678559644\n",
            "3.2359064562337077 1.1483024025312034 718 0.13203344254456903\n",
            "3.235826699781379 1.1485903589887387 719 0.13194417762406135\n",
            "3.235746970232256 1.148878218072073 720 0.13185497305361385\n",
            "3.235667267578714 1.1491659798145353 721 0.13176582879242316\n",
            "3.235587591813095 1.1494536442494339 722 0.13167674479971742\n",
            "3.2355079429277107 1.1497412114100565 723 0.1315877210347492\n",
            "3.2354283209148407 1.15002868132967 724 0.13149875745680015\n",
            "3.235348725766736 1.1503160540415216 725 0.1314098540251795\n",
            "3.235269157475619 1.150603329578838 726 0.13132101069922322\n",
            "3.2351896160336824 1.1508905079748266 727 0.13123222743829444\n",
            "3.2351101014330923 1.1511775892626748 728 0.13114350420178586\n",
            "3.2350306136659883 1.1514645734755509 729 0.13105484094911565\n",
            "3.2349511527244834 1.151751460646604 730 0.13096623763973056\n",
            "3.2348717186006652 1.152038250808964 731 0.13087769423310303\n",
            "3.2347923112865966 1.152324943995742 732 0.13078921068873478\n",
            "3.234712930774317 1.1526115402400308 733 0.13070078696615517\n",
            "3.234633577055842 1.1528980395749049 734 0.13061242302491827\n",
            "3.234554250123164 1.15318444203342 735 0.13052411882460854\n",
            "3.234474949968254 1.1534707476486143 736 0.13043587432483547\n",
            "3.234395676583061 1.1537569564535075 737 0.13034768948523773\n",
            "3.2343164299595126 1.154043068481102 738 0.13025956426547983\n",
            "3.2342372100895167 1.1543290837643827 739 0.13017149862525487\n",
            "3.234158016964961 1.1546150023363169 740 0.13008349252428109\n",
            "3.234078850577714 1.1549008242298544 741 0.12999554592230608\n",
            "3.233999710919625 1.1551865494779283 742 0.1299076587791034\n",
            "3.2339205979825256 1.1554721781134547 743 0.12981983105447534\n",
            "3.2338415117582295 1.1557577101693326 744 0.12973206270824886\n",
            "3.2337624522385324 1.1560431456784446 745 0.12964435370028105\n",
            "3.233683419415214 1.1563284846736566 746 0.12955670399045313\n",
            "3.2336044132800374 1.156613727187818 747 0.12946911353867604\n",
            "3.2335254338247497 1.1568988732537622 748 0.12938158230488594\n",
            "3.233446481041083 1.1571839229043062 749 0.12929411024904744\n",
            "3.2333675549207532 1.1574688761722511 750 0.12920669733115173\n",
            "3.233288655455463 1.1577537330903822 751 0.12911934351121565\n",
            "3.2332097826369006 1.1580384936914687 752 0.12903204874928578\n",
            "3.23313093645674 1.1583231580082645 753 0.12894481300543384\n",
            "3.2330521169066424 1.1586077260735075 754 0.12885763623975854\n",
            "3.232973323978255 1.1588921979199207 755 0.1287705184123873\n",
            "3.232894557663214 1.1591765735802113 756 0.12868345948347135\n",
            "3.232815817953142 1.1594608530870716 757 0.12859645941319206\n",
            "3.2327371048396505 1.1597450364731785 758 0.1285095181617561\n",
            "3.232658418314339 1.1600291237711942 759 0.12842263568939716\n",
            "3.2325797583687965 1.1603131150137658 760 0.12833581195637583\n",
            "3.2325011249946005 1.1605970102335255 761 0.12824904692298075\n",
            "3.232422518183318 1.160880809463091 762 0.12816234054952544\n",
            "3.2323439379265064 1.1611645127350647 763 0.12807569279635153\n",
            "3.232265384215713 1.1614481200820355 764 0.1279891036238262\n",
            "3.232186857042475 1.161731631536577 765 0.12790257299234567\n",
            "3.2321083563983213 1.1620150471312491 766 0.12781610086233122\n",
            "3.232029882274771 1.1622983668985967 767 0.12772968719423097\n",
            "3.2319514346633342 1.1625815908711508 768 0.12764333194852054\n",
            "3.231873013555514 1.1628647190814285 769 0.12755703508570124\n",
            "3.231794618942804 1.1631477515619326 770 0.1274707965663025\n",
            "3.2317162508166906 1.163430688345152 771 0.12738461635087847\n",
            "3.2316379091686525 1.1637135294635614 772 0.12729849440001226\n",
            "3.231559593990161 1.1639962749496224 773 0.127212430674312\n",
            "3.2314813052726796 1.1642789248357823 774 0.1271264251344125\n",
            "3.231403043007666 1.1645614791544747 775 0.12704047774097665\n",
            "3.231324807186571 1.1648439379381197 776 0.12695458845469174\n",
            "3.2312465978008373 1.165126301219124 777 0.12686875723627378\n",
            "3.231168414841904 1.1654085690298808 778 0.1267829840464633\n",
            "3.231090258301203 1.1656907414027695 779 0.12669726884602941\n",
            "3.23101212817016 1.1659728183701568 780 0.12661161159576625\n",
            "3.2309340244401956 1.1662547999643955 781 0.12652601225649548\n",
            "3.2308559471027247 1.1665366862178255 782 0.1264404707890637\n",
            "3.230777896149158 1.1668184771627734 783 0.12635498715434648\n",
            "3.2306998715709 1.1671001728315529 784 0.12626956131324316\n",
            "3.230621873359351 1.1673817732564644 785 0.12618419322668134\n",
            "3.2305439015059063 1.1676632784697953 786 0.1260988828556142\n",
            "3.2304659560019577 1.1679446885038203 787 0.12601363016102152\n",
            "3.2303880368388915 1.168226003390801 788 0.12592843510390947\n",
            "3.230310144008091 1.168507223162986 789 0.1258432976453111\n",
            "3.230232277500935 1.1687883478526115 790 0.12575821774628484\n",
            "3.2301544373087987 1.1690693774919008 791 0.1256731953679161\n",
            "3.2300766234230536 1.1693503121130642 792 0.12558823047131648\n",
            "3.229998835835068 1.1696311517482998 793 0.12550332301762343\n",
            "3.2299210745362066 1.1699118964297928 794 0.12541847296800177\n",
            "3.2298433395178314 1.170192546189716 795 0.1253336802836414\n",
            "3.229765630771301 1.1704731010602296 796 0.12524894492575842\n",
            "3.229687948287971 1.1707535610734814 797 0.12516426685559665\n",
            "3.2296102920591947 1.1710339262616065 798 0.12507964603442473\n",
            "3.229532662076323 1.1713141966567282 799 0.12499508242353702\n",
            "3.2294550583307036 1.1715943722909568 800 0.12491057598425664\n",
            "3.229377480813682 1.1718744531963907 801 0.12482612667792987\n",
            "3.229299929516603 1.1721544394051158 802 0.12474173446593012\n",
            "3.229222404430807 1.172434330949206 803 0.12465739930965827\n",
            "3.229144905547634 1.1727141278607227 804 0.12457312117053954\n",
            "3.2290674328584217 1.1729938301717155 805 0.12448890001002605\n",
            "3.228989986354506 1.1732734379142216 806 0.12440473578959554\n",
            "3.2289125660272213 1.173552951120266 807 0.12432062847075234\n",
            "3.228835171867901 1.1738323698218622 808 0.12423657801502626\n",
            "3.228757803867876 1.174111694051011 809 0.12415258438397325\n",
            "3.2286804620184766 1.1743909238397017 810 0.12406864753917675\n",
            "3.228603146311032 1.1746700592199113 811 0.1239847674422428\n",
            "3.2285258567368698 1.1749491002236052 812 0.12390094405480734\n",
            "3.228448593287317 1.1752280468827367 813 0.12381717733852818\n",
            "3.2283713559536995 1.1755068992292474 814 0.12373346725509274\n",
            "3.2282941447273426 1.1757856572950667 815 0.12364981376621283\n",
            "3.2282169595995707 1.1760643211121125 816 0.12356621683362544\n",
            "3.2281398005617072 1.1763428907122908 817 0.12348267641909477\n",
            "3.228062667605076 1.176621366127496 818 0.1233991924844093\n",
            "3.2279855607209993 1.1768997473896106 819 0.12331576499138544\n",
            "3.2279084799007998 1.1771780345305054 820 0.12323239390186268\n",
            "3.227831425135799 1.1774562275820395 821 0.12314907917770884\n",
            "3.2277543964173194 1.1777343265760607 822 0.12306582078081674\n",
            "3.227677393736682 1.1780123315444047 823 0.12298261867310448\n",
            "3.2276004170852084 1.1782902425188957 824 0.12289947281651542\n",
            "3.2275234664542203 1.1785680595313466 825 0.12281638317302082\n",
            "3.2274465418350395 1.1788457826135585 826 0.12273334970461472\n",
            "3.2273696432189873 1.1791234117973213 827 0.1226503723733196\n",
            "3.2272927705973857 1.1794009471144127 828 0.12256745114118209\n",
            "3.2272159239615568 1.1796783885965996 829 0.12248458597027448\n",
            "3.227139103302823 1.179955736275637 830 0.12240177682269522\n",
            "3.227062308612507 1.1802329901832689 831 0.12231902366056775\n",
            "3.2269855398819325 1.1805101503512272 832 0.12223632644604208\n",
            "3.2269087971024226 1.1807872168112332 833 0.12215368514129293\n",
            "3.226832080265302 1.1810641895949963 834 0.12207109970852092\n",
            "3.2267553893618954 1.1813410687342145 835 0.12198857010995223\n",
            "3.2266787243835284 1.1816178542605746 836 0.12190609630783943\n",
            "3.2266020853215274 1.1818945462057524 837 0.12182367826445827\n",
            "3.226525472167219 1.1821711446014118 838 0.12174131594211285\n",
            "3.2264488849119317 1.1824476494792058 839 0.12165900930312996\n",
            "3.226372323546994 1.1827240608707759 840 0.1215767583098647\n",
            "3.2262957880637355 1.1830003788077523 841 0.12149456292469601\n",
            "3.226219278453487 1.1832766033217543 842 0.12141242311002749\n",
            "3.2261427947075796 1.18355273444439 843 0.12133033882828999\n",
            "3.2260663368173463 1.1838287722072556 844 0.1212483100419387\n",
            "3.225989904774121 1.184104716641937 845 0.12116633671345428\n",
            "3.225913498569239 1.1843805677800083 846 0.12108441880534296\n",
            "3.2258371181940357 1.184656325653033 847 0.12100255628013641\n",
            "3.225760763639849 1.1849319902925626 848 0.12092074910039106\n",
            "3.225684434898017 1.1852075617301383 849 0.12083899722868939\n",
            "3.2256081319598797 1.18548303999729 850 0.12075730062763923\n",
            "3.225531854816779 1.1857584251255362 851 0.12067565925987185\n",
            "3.2254556034600563 1.1860337171463844 852 0.12059407308804689\n",
            "3.225379377881057 1.1863089160913314 853 0.1205125420748469\n",
            "3.2253031780711257 1.1865840219918624 854 0.12043106618298012\n",
            "3.2252270040216096 1.1868590348794519 855 0.12034964537518081\n",
            "3.2251508557238573 1.1871339547855633 856 0.12026827961420697\n",
            "3.225074733169219 1.187408781741649 857 0.12018696886284386\n",
            "3.224998636349046 1.1876835157791503 858 0.12010571308389953\n",
            "3.2249225652546922 1.1879581569294977 859 0.12002451224020888\n",
            "3.224846519877512 1.1882327052241106 860 0.11994336629463126\n",
            "3.2247705002088622 1.1885071606943973 861 0.11986227521005083\n",
            "3.224694506240101 1.1887815233717554 862 0.11978123894937867\n",
            "3.2246185379625882 1.1890557932875712 863 0.11970025747554824\n",
            "3.224542595367686 1.1893299704732205 864 0.1196193307515192\n",
            "3.2244666784467575 1.189604054960068 865 0.11953845874027735\n",
            "3.2243907871911683 1.1898780467794672 866 0.11945764140483182\n",
            "3.2243149215922857 1.1901519459627612 867 0.11937687870821807\n",
            "3.2242390816414788 1.190425752541282 868 0.1192961706134964\n",
            "3.2241632673301184 1.1906994665463506 869 0.11921551708374994\n",
            "3.2240874786495777 1.1909730880092773 870 0.11913491808208972\n",
            "3.224011715591231 1.1912466169613611 871 0.11905437357165068\n",
            "3.223935978146456 1.191520053433891 872 0.11897388351559193\n",
            "3.2238602663066303 1.1917933974581445 873 0.11889344787709866\n",
            "3.2237845800631355 1.1920666490653884 874 0.1188130666193795\n",
            "3.223708919407354 1.1923398082868788 875 0.1187327397056694\n",
            "3.223633284330671 1.192612875153861 876 0.11865246709922808\n",
            "3.223557674824473 1.1928858496975692 877 0.11857224876333752\n",
            "3.2234820908801494 1.1931587319492272 878 0.11849208466130962\n",
            "3.223406532489091 1.1934315219400478 879 0.11841197475647514\n",
            "3.2233309996426907 1.193704219701233 880 0.11833191901219423\n",
            "3.223255492332344 1.1939768252639744 881 0.11825191739184998\n",
            "3.2231800105494486 1.1942493386594524 882 0.11817196985885017\n",
            "3.223104554285404 1.1945217599188367 883 0.11809207637662728\n",
            "3.223029123531612 1.1947940890732867 884 0.11801223690863896\n",
            "3.2229537182794767 1.1950663261539505 885 0.11793245141836717\n",
            "3.2228783385204047 1.1953384711919657 886 0.11785271986931967\n",
            "3.222802984245804 1.1956105242184594 887 0.11777304222502682\n",
            "3.222727655447086 1.1958824852645475 888 0.11769341844904546\n",
            "3.2226523521156625 1.196154354361336 889 0.11761384850495576\n",
            "3.22257707424295 1.1964261315399194 890 0.11753433235636389\n",
            "3.2225018218203654 1.1966978168313818 891 0.11745486996689952\n",
            "3.222426594839329 1.1969694102667967 892 0.11737546130021742\n",
            "3.222351393291263 1.1972409118772271 893 0.11729610631999705\n",
            "3.222276217167592 1.1975123216937251 894 0.1172168049899415\n",
            "3.2222010664597422 1.197783639747332 895 0.11713755727377924\n",
            "3.222125941159144 1.1980548660690788 896 0.11705836313526362\n",
            "3.2220508412572286 1.1983260006899858 897 0.11697922253817156\n",
            "3.22197576674543 1.1985970436410625 898 0.11690013544630476\n",
            "3.221900717615184 1.1988679949533076 899 0.11682110182349006\n",
            "3.22182569385793 1.19913885465771 900 0.1167421216335778\n",
            "3.2217506954651096 1.1994096227852469 901 0.11666319484044292\n",
            "3.2216757224281656 1.1996802993668858 902 0.11658432140798514\n",
            "3.2216007747385444 1.199950884433583 903 0.11650550130012888\n",
            "3.221525852387695 1.2002213780162847 904 0.11642673448082182\n",
            "3.221450955367068 1.200491780145926 905 0.1163480209140375\n",
            "3.221376083668117 1.2007620908534318 906 0.11626936056377324\n",
            "3.221301237282298 1.2010323101697162 907 0.11619075339404941\n",
            "3.221226416201069 1.201302438125683 908 0.11611219936891307\n",
            "3.2211516204158914 1.2015724747522252 909 0.11603369845243308\n",
            "3.2210768499182283 1.2018424200802253 910 0.11595525060870437\n",
            "3.221002104699546 1.2021122741405554 911 0.1158768558018465\n",
            "3.2209273847513127 1.202382036964077 912 0.11579851399600115\n",
            "3.220852690064999 1.2026517085816408 913 0.11572022515533592\n",
            "3.2207780206320793 1.2029212890240875 914 0.1156419892440421\n",
            "3.220703376444029 1.2031907783222469 915 0.11556380622633591\n",
            "3.220628757492327 1.2034601765069382 916 0.11548567606645639\n",
            "3.2205541637684543 1.2037294836089703 917 0.11540759872866782\n",
            "3.2204795952638943 1.2039986996591416 918 0.11532957417725856\n",
            "3.220405051970134 1.20426782468824 919 0.11525160237654053\n",
            "3.2203305338786614 1.2045368587270426 920 0.11517368329084983\n",
            "3.2202560409809684 1.2048058018063166 921 0.11509581688454801\n",
            "3.2201815732685493 1.2050746539568182 922 0.11501800312201844\n",
            "3.2201071307329 1.2053434152092932 923 0.11494024196767139\n",
            "3.2200327133655207 1.2056120855944772 924 0.11486253338593858\n",
            "3.2199583211579124 1.205880665143095 925 0.11478487734127657\n",
            "3.21988395410158 1.2061491538858615 926 0.11470727379816664\n",
            "3.2198096121880297 1.2064175518534803 927 0.1146297227211137\n",
            "3.219735295408772 1.2066858590766452 928 0.11455222407464641\n",
            "3.219661003755319 1.2069540755860393 929 0.11447477782331797\n",
            "3.2195867372191858 1.2072222014123353 930 0.11439738393170416\n",
            "3.2195124957918897 1.2074902365861955 931 0.11432004236440739\n",
            "3.219438279464951 1.2077581811382718 932 0.1142427530860508\n",
            "3.2193640882298924 1.2080260350992056 933 0.11416551606128333\n",
            "3.2192899220782394 1.2082937984996278 934 0.11408833125477835\n",
            "3.2192157810015205 1.2085614713701591 935 0.11401119863123106\n",
            "3.219141664991266 1.2088290537414097 936 0.1139341181553629\n",
            "3.2190675740390096 1.2090965456439793 937 0.11385708979191685\n",
            "3.2189935081362875 1.2093639471084572 938 0.113780113505661\n",
            "3.2189194672746386 1.2096312581654225 939 0.11370318926138795\n",
            "3.218845451445604 1.2098984788454439 940 0.11362631702391215\n",
            "3.218771460640728 1.2101656091790793 941 0.11354949675807402\n",
            "3.2186974948515577 1.2104326491968769 942 0.11347272842873611\n",
            "3.218623554069642 1.2106995989293738 943 0.11339601200078492\n",
            "3.2185496382865337 1.2109664584070972 944 0.11331934743913184\n",
            "3.2184757474937875 1.2112332276605637 945 0.11324273470871044\n",
            "3.218401881682961 1.2114999067202799 946 0.11316617377447956\n",
            "3.218328040845614 1.2117664956167415 947 0.11308966460142054\n",
            "3.21825422497331 1.2120329943804344 948 0.1130132071545382\n",
            "3.2181804340576146 1.2122994030418337 949 0.11293680139886234\n",
            "3.218106668090096 1.2125657216314043 950 0.11286044729944572\n",
            "3.218032927062325 1.212831950179601 951 0.11278414482136495\n",
            "3.2179592109658763 1.2130980887168679 952 0.11270789392971868\n",
            "3.217885519792326 1.2133641372736388 953 0.11263169458963174\n",
            "3.217811853533253 1.2136300958803377 954 0.11255554676624996\n",
            "3.2177382121802394 1.2138959645673775 955 0.11247945042474582\n",
            "3.21766459572487 1.2141617433651613 956 0.11240340553031175\n",
            "3.2175910041587317 1.2144274323040818 957 0.11232741204816638\n",
            "3.2175174374734152 1.2146930314145212 958 0.1122514699435515\n",
            "3.217443895660513 1.2149585407268517 959 0.11217557918173063\n",
            "3.2173703787116206 1.215223960271435 960 0.11209973972799299\n",
            "3.2172968866183362 1.2154892900786223 961 0.11202395154765021\n",
            "3.217223419372261 1.2157545301787551 962 0.11194821460603721\n",
            "3.2171499769649987 1.2160196806021641 963 0.11187252886851258\n",
            "3.217076559388156 1.2162847413791698 964 0.1117968943004583\n",
            "3.2170031666333414 1.2165497125400824 965 0.11172131086728039\n",
            "3.2169297986921674 1.2168145941152022 966 0.1116457785344071\n",
            "3.2168564555562487 1.2170793861348188 967 0.11157029726729051\n",
            "3.2167831372172024 1.2173440886292117 968 0.1114948670314066\n",
            "3.216709843666649 1.21760870162865 969 0.11141948779225375\n",
            "3.2166365748962105 1.2178732251633928 970 0.11134415951535562\n",
            "3.2165633308975137 1.2181376592636888 971 0.11126888216625584\n",
            "3.2164901116621865 1.2184020039597763 972 0.11119365571052392\n",
            "3.2164169171818595 1.2186662592818835 973 0.11111848011375214\n",
            "3.216343747448167 1.2189304252602287 974 0.1110433553415564\n",
            "3.216270602452746 1.2191945019250192 975 0.11096828135957454\n",
            "3.2161974821872357 1.2194584893064526 976 0.11089325813346851\n",
            "3.2161243866432776 1.2197223874347163 977 0.110818285628924\n",
            "3.2160513158125172 1.2199861963399872 978 0.11074336381164827\n",
            "3.2159782696866017 1.220249916052432 979 0.11066849264737331\n",
            "3.2159052482571817 1.2205135466022077 980 0.11059367210185399\n",
            "3.2158322515159106 1.2207770880194602 981 0.11051890214086751\n",
            "3.215759279454444 1.2210405403343259 982 0.11044418273021522\n",
            "3.21568633206444 1.2213039035769306 983 0.11036951383572102\n",
            "3.215613409337561 1.2215671777773902 984 0.11029489542323204\n",
            "3.2155405112654702 1.22183036296581 985 0.1102203274586182\n",
            "3.215467637839835 1.2220934591722856 986 0.11014580990777284\n",
            "3.215394789052325 1.222356466426902 987 0.11007134273661286\n",
            "3.2153219648946125 1.2226193847597342 988 0.10999692591107786\n",
            "3.215249165358373 1.222882214200847 989 0.10992255939712924\n",
            "3.2151763904352837 1.223144954780295 990 0.10984824316075247\n",
            "3.2151036401170257 1.2234076065281227 991 0.10977397716795737\n",
            "3.215030914395282 1.2236701694743644 992 0.10969976138477387\n",
            "3.21495821326174 1.2239326436490439 993 0.10962559577725657\n",
            "3.2148855367080875 1.2241950290821753 994 0.1095514803114841\n",
            "3.2148128847260167 1.2244573258037623 995 0.10947741495355517\n",
            "3.2147402573072217 1.2247195338437986 996 0.10940339966959356\n",
            "3.2146676544434 1.2249816532322677 997 0.10932943442574555\n",
            "3.2145950761262516 1.2252436839991427 998 0.10925551918817998\n",
            "3.214522522347479 1.2255056261743869 999 0.1091816539230881\n"
          ],
          "name": "stdout"
        },
        {
          "output_type": "display_data",
          "data": {
            "image/png": "[encoded data removed]",
            "text/plain": [
              "<Figure size 432x288 with 1 Axes>"
            ]
          },
          "metadata": {
            "tags": [],
            "needs_background": "light"
          }
        }
      ]
    },
    {
      "cell_type": "code",
      "metadata": {
        "id": "6bUq_efV3wDE"
      },
      "source": [
        ""
      ],
      "execution_count": null,
      "outputs": []
    }
  ]
}