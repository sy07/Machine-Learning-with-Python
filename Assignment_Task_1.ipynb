{
  "nbformat": 4,
  "nbformat_minor": 0,
  "metadata": {
    "colab": {
      "name": "Assignment/Task-1.ipynb",
      "provenance": [],
      "collapsed_sections": [],
      "authorship_tag": "ABX9TyNXLFk/VdpPXyQ9IRc8K8HF",
      "include_colab_link": true
    },
    "kernelspec": {
      "name": "python3",
      "display_name": "Python 3"
    },
    "language_info": {
      "name": "python"
    }
  },
  "cells": [
    {
      "cell_type": "markdown",
      "metadata": {
        "id": "view-in-github",
        "colab_type": "text"
      },
      "source": [
        "<a href=\"https://colab.research.google.com/github/sy07/Machine-Learning-with-Python/blob/main/Assignment_Task_1.ipynb\" target=\"_parent\"><img src=\"https://colab.research.google.com/assets/colab-badge.svg\" alt=\"Open In Colab\"/></a>"
      ]
    },
    {
      "cell_type": "markdown",
      "metadata": {
        "id": "wxFzhhgjoS7B"
      },
      "source": [
        "We are having 3 list like this\n",
        "\n",
        "Colors = [“Yellow”,”Green”,”White”,”Black”]\n",
        "\n",
        "Fruits=[“Apple”,”Papaya”,”Mango”,”Orange”]\n",
        "\n",
        "Animals=[“Tiger”,”Lion”,”Deer”,”Zebra”]"
      ]
    },
    {
      "cell_type": "markdown",
      "metadata": {
        "id": "UgNQWvVroaf1"
      },
      "source": [
        "1. Write a program that asks user to enter a Color/Fruit/Animal name and it should tell which category belongs to , like its is a fruit or color or Animal"
      ]
    },
    {
      "cell_type": "code",
      "metadata": {
        "colab": {
          "base_uri": "https://localhost:8080/"
        },
        "id": "25FcxxYzjqke",
        "outputId": "f5f23add-f6f6-4cc4-d6f5-0b841cc1ed06"
      },
      "source": [
        "x = input(\"Enter name of color/fruit/animals:\")\n",
        "colors = [\"Yellow\",\"Green\",\"White\",\"Black\"]\n",
        "fruits = [\"Apple\",\"Papaya\",\"Mango\",\"Orange\"]\n",
        "animals = [\"Tiger\",\"Lion\",\"Deer\",\"Zebra\"]\n",
        "\n",
        "if x in colors:\n",
        "  print(\"Category is colors.\")\n",
        "elif x in fruits:\n",
        "  print(\"Category is fruits.\")\n",
        "elif x in animals:\n",
        "  print(\"Category is animals.\")\n",
        "else:\n",
        "  print(\"You have entered something else!\")      "
      ],
      "execution_count": 8,
      "outputs": [
        {
          "output_type": "stream",
          "text": [
            "Enter name of color/fruit/animals:Black\n",
            "Category is colors.\n"
          ],
          "name": "stdout"
        }
      ]
    },
    {
      "cell_type": "markdown",
      "metadata": {
        "id": "wkQBQWYWpPAS"
      },
      "source": [
        "ii. Write a program that asks user to enter two cities and it tells you if they both are in same country or not. For example if I enter yellow and Black, it will print \"Both are colors\" but if I enter yellow and Tiger it should print \"They don't belong to same category\""
      ]
    },
    {
      "cell_type": "code",
      "metadata": {
        "colab": {
          "base_uri": "https://localhost:8080/"
        },
        "id": "4erDsF2xp3b6",
        "outputId": "9f254417-008e-4624-aefa-5bbcf11a2af3"
      },
      "source": [
        "a = input(\"Enter value 1:\")\n",
        "b = input(\"Enter value 2:\")\n",
        "colors = [\"Yellow\",\"Green\",\"White\",\"Black\"]\n",
        "fruits = [\"Apple\",\"Papaya\",\"Mango\",\"Orange\"]\n",
        "animals = [\"Tiger\",\"Lion\",\"Deer\",\"Zebra\"]\n",
        "\n",
        "if (a in colors) and (b in colors):\n",
        "  print(\"Both are colors.\")\n",
        "elif (a in fruits) and (b in fruits):\n",
        "  print(\"Both are fruits.\")\n",
        "elif (a in animals) and (b in animals):\n",
        "  print(\"Both are animals.\")\n",
        "else:\n",
        "  print(\"Both are from different categories!!!\")      "
      ],
      "execution_count": 11,
      "outputs": [
        {
          "output_type": "stream",
          "text": [
            "Enter value 1:Apple\n",
            "Enter value 2:Tiger\n",
            "Both are from different categories!!!\n"
          ],
          "name": "stdout"
        }
      ]
    },
    {
      "cell_type": "markdown",
      "metadata": {
        "id": "MXXmD5JeuPab"
      },
      "source": [
        "2.  Write a python program that can tell you if your grade score good or not . Good Score range is 40 to 60.\n",
        "\n",
        "  i. Ask user to enter his score.\n",
        "\n",
        "  ii. If it is below 40 to 60 range then print that score is low\n",
        "\n",
        "  iii. If it is above 60 then print that it is good otherwise print that it is normal"
      ]
    },
    {
      "cell_type": "code",
      "metadata": {
        "colab": {
          "base_uri": "https://localhost:8080/"
        },
        "id": "f52ZJ5Yruarx",
        "outputId": "83f30348-e728-43fb-d8a5-58938a0bfcba"
      },
      "source": [
        "a = float(input(\"Enter your score:\"))\n",
        "\n",
        "if a > 0 and a < 40:\n",
        "  print(\"Your score is low!\")\n",
        "elif a > 40 and a < 60:\n",
        "  print(\"Your have DECENT score!\")\n",
        "elif a > 60:\n",
        "  print(\"Your score is Excellent!!\")\n",
        "else:\n",
        "  print(\"a\")      "
      ],
      "execution_count": 15,
      "outputs": [
        {
          "output_type": "stream",
          "text": [
            "Enter your score:99\n",
            "Your score is Excellent!!\n"
          ],
          "name": "stdout"
        }
      ]
    },
    {
      "cell_type": "markdown",
      "metadata": {
        "id": "YBjvFKbPv1kG"
      },
      "source": [
        "3.  After appearing in exam 10 times you got this result,\n",
        "\n",
        "result = [\"Pass\",\"Fail\",\"Fail\",\"Pass\",\"Fail\",\"Pass\",\"Pass\",\"Fail\",\"Fail\",\"Fail\"]\n",
        "\n",
        "Using for loop figure out how many times you got Pass"
      ]
    },
    {
      "cell_type": "markdown",
      "metadata": {
        "id": "Je3FD_Sjv5BK"
      },
      "source": [
        ""
      ]
    },
    {
      "cell_type": "code",
      "metadata": {
        "colab": {
          "base_uri": "https://localhost:8080/"
        },
        "id": "WW2QUJmHv_ZW",
        "outputId": "e9803c9c-ec5a-44e3-c445-31976cd7d112"
      },
      "source": [
        "result = [\"Pass\",\"Fail\",\"Fail\",\"Pass\",\"Fail\",\"Pass\",\"Pass\",\"Fail\",\"Fail\",\"Fail\"]\n",
        "count = 0\n",
        "for i in result:\n",
        "  if i == \"Pass\":\n",
        "    count = count + 1\n",
        "print(\"{} times i have cleared the exams\".format(count))    "
      ],
      "execution_count": 16,
      "outputs": [
        {
          "output_type": "stream",
          "text": [
            "4 times i have cleared the exams\n"
          ],
          "name": "stdout"
        }
      ]
    },
    {
      "cell_type": "code",
      "metadata": {
        "colab": {
          "base_uri": "https://localhost:8080/"
        },
        "id": "Ypv9SftESGx4",
        "outputId": "c72617e9-ef98-47f8-b08a-dd1fff760f69"
      },
      "source": [
        "#4.  Write a program that prints following shape\n",
        "\n",
        "#*\n",
        "\n",
        "#* *\n",
        "\n",
        "#* * *\n",
        "\n",
        "#* * * *\n",
        "\n",
        "#* * * * *\n",
        "\n",
        "#* * * *\n",
        "\n",
        "#* * *\n",
        "\n",
        "#* *\n",
        "\n",
        "#*\n",
        "n=1\n",
        "for i in range(1,11):\n",
        "  if (i < 6):\n",
        "      for j in range(0,i):\n",
        "        print(\"*\",end=\"\")\n",
        "      n+=1\n",
        "      print()\n",
        "  else:\n",
        "    for j in range(1,n):\n",
        "      print(\"*\",end=\"\")\n",
        "    n-=1\n",
        "    print()"
      ],
      "execution_count": 3,
      "outputs": [
        {
          "output_type": "stream",
          "text": [
            "*\n",
            "**\n",
            "***\n",
            "****\n",
            "*****\n",
            "*****\n",
            "****\n",
            "***\n",
            "**\n",
            "*\n"
          ],
          "name": "stdout"
        }
      ]
    },
    {
      "cell_type": "markdown",
      "metadata": {
        "id": "qrF0pjVqxCqe"
      },
      "source": [
        "5.   Lets say you are running a 50 km race. Write a program that,\n",
        "\n",
        "    Upon completing each 10 km asks you \"are you tired?\"\n",
        "    If you reply \"yes\" then it should break and print \"you didn't finish the race\"\n",
        "     If you reply \"no\" then it should continue and ask \"are you tired\" on every km\n",
        "    If you finish all 50 km then it should print congratulations message"
      ]
    },
    {
      "cell_type": "code",
      "metadata": {
        "colab": {
          "base_uri": "https://localhost:8080/"
        },
        "id": "NODVl3MAxFcZ",
        "outputId": "68b00b5e-e71e-4d3d-bec1-bb2c356ee3b2"
      },
      "source": [
        "distance = 50\n",
        "interval = 10\n",
        "laps = distance // interval\n",
        "count = 0\n",
        "for i in range(laps-1):\n",
        "  x = input(\"Are you tired?\")\n",
        "  if x == \"yes\":\n",
        "    print(\"You didn't finish the race. You have completed only {} laps\".format(i+1))\n",
        "    break\n",
        "  elif x == \"no\":\n",
        "    count = count + 1\n",
        "    continue\n",
        "if count == 4:\n",
        "  print(\"You have finished the race,Congratulations!!!!!!\")      "
      ],
      "execution_count": 21,
      "outputs": [
        {
          "output_type": "stream",
          "text": [
            "Are you tired?no\n",
            "Are you tired?no\n",
            "Are you tired?yes\n",
            "You didn't finish the race. You have completed only 3 laps\n"
          ],
          "name": "stdout"
        }
      ]
    },
    {
      "cell_type": "markdown",
      "metadata": {
        "id": "Sqk8lDUqy0zK"
      },
      "source": [
        "6.  Write a Python program to find those numbers which are divisible by 7 and multiple of 5, between 1500 and 2700 (both included)."
      ]
    },
    {
      "cell_type": "code",
      "metadata": {
        "colab": {
          "base_uri": "https://localhost:8080/"
        },
        "id": "2Idh2-Hhy2_n",
        "outputId": "ff7d271f-3c65-4fbe-aa59-88ab4eb9c075"
      },
      "source": [
        "print(\"Number within range are:\")\n",
        "for i in range(1500, 2701):\n",
        "  if (i % 7 == 0) and (i % 5 == 0):\n",
        "    print(i)"
      ],
      "execution_count": 22,
      "outputs": [
        {
          "output_type": "stream",
          "text": [
            "Number within range are:\n",
            "1505\n",
            "1540\n",
            "1575\n",
            "1610\n",
            "1645\n",
            "1680\n",
            "1715\n",
            "1750\n",
            "1785\n",
            "1820\n",
            "1855\n",
            "1890\n",
            "1925\n",
            "1960\n",
            "1995\n",
            "2030\n",
            "2065\n",
            "2100\n",
            "2135\n",
            "2170\n",
            "2205\n",
            "2240\n",
            "2275\n",
            "2310\n",
            "2345\n",
            "2380\n",
            "2415\n",
            "2450\n",
            "2485\n",
            "2520\n",
            "2555\n",
            "2590\n",
            "2625\n",
            "2660\n",
            "2695\n"
          ],
          "name": "stdout"
        }
      ]
    },
    {
      "cell_type": "markdown",
      "metadata": {
        "id": "Kd-3H5DBz6zk"
      },
      "source": [
        "7.   Print square of all numbers between 10 to 20 except even numbers"
      ]
    },
    {
      "cell_type": "code",
      "metadata": {
        "colab": {
          "base_uri": "https://localhost:8080/"
        },
        "id": "LY_kJQ7P0Ad_",
        "outputId": "b3661708-bca4-4102-f8f6-10ab3215856a"
      },
      "source": [
        "print(\"Square of numbers are:\")\n",
        "for i in range(10, 21):\n",
        "  if i % 2 != 0:\n",
        "    print(i ** 2)"
      ],
      "execution_count": 23,
      "outputs": [
        {
          "output_type": "stream",
          "text": [
            "Square of numbers are:\n",
            "121\n",
            "169\n",
            "225\n",
            "289\n",
            "361\n"
          ],
          "name": "stdout"
        }
      ]
    },
    {
      "cell_type": "markdown",
      "metadata": {
        "id": "DidzHEVcRx5Z"
      },
      "source": [
        "8.  Your Marks for five Test(test1 to test5) looks like this,\n",
        "\n",
        "marks_list = [65, 75, 2100, 95, 83]\n",
        "\n",
        "Write a program that asks you to enter marks and program should tell you in which test that marks occurred. If marks is not found then it should print that as well."
      ]
    },
    {
      "cell_type": "code",
      "metadata": {
        "colab": {
          "base_uri": "https://localhost:8080/"
        },
        "id": "5rtghH6-RzQ-",
        "outputId": "c18972e8-c53a-4937-8493-13a54bbb7fb4"
      },
      "source": [
        "marks_list = [65, 75, 2100, 95, 83]\n",
        "mark=int(input(\"Enter your marks\"))\n",
        "i=1\n",
        "found= False\n",
        "for t_mark in marks_list:\n",
        "  if (mark == t_mark):\n",
        "    print(\"your marks is from test\",i)\n",
        "    found=True\n",
        "    break\n",
        "  i+=1\n",
        "if(found == False):\n",
        "  print(\"No test found for given marks\")"
      ],
      "execution_count": 1,
      "outputs": [
        {
          "output_type": "stream",
          "text": [
            "Enter your marks2100\n",
            "your marks is from test 3\n"
          ],
          "name": "stdout"
        }
      ]
    }
  ]
}