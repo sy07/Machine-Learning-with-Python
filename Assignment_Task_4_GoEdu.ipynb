{
  "nbformat": 4,
  "nbformat_minor": 0,
  "metadata": {
    "colab": {
      "name": "Assignment_Task-4_GoEdu.ipynb",
      "provenance": [],
      "collapsed_sections": [],
      "authorship_tag": "ABX9TyMdCfse3dpLYx2ElYKIoTlw",
      "include_colab_link": true
    },
    "kernelspec": {
      "name": "python3",
      "display_name": "Python 3"
    },
    "language_info": {
      "name": "python"
    }
  },
  "cells": [
    {
      "cell_type": "markdown",
      "metadata": {
        "id": "view-in-github",
        "colab_type": "text"
      },
      "source": [
        "<a href=\"https://colab.research.google.com/github/sy07/Machine-Learning-with-Python/blob/main/Assignment_Task_4_GoEdu.ipynb\" target=\"_parent\"><img src=\"https://colab.research.google.com/assets/colab-badge.svg\" alt=\"Open In Colab\"/></a>"
      ]
    },
    {
      "cell_type": "markdown",
      "metadata": {
        "id": "O-J6bXPBpuJj"
      },
      "source": [
        "# Assignment Task-4.  *GO_STP_266*\n",
        "\n"
      ]
    },
    {
      "cell_type": "markdown",
      "metadata": {
        "id": "ew90jafokvlm"
      },
      "source": [
        "# Import the numpy package under the name np and Print the numpy version and the configuration"
      ]
    },
    {
      "cell_type": "code",
      "metadata": {
        "colab": {
          "base_uri": "https://localhost:8080/"
        },
        "id": "VRbFOh7qbDU3",
        "outputId": "2bb22b40-3473-4eb5-de95-f3ed90a67bd8"
      },
      "source": [
        "pip install numpy"
      ],
      "execution_count": 1,
      "outputs": [
        {
          "output_type": "stream",
          "text": [
            "Requirement already satisfied: numpy in /usr/local/lib/python3.7/dist-packages (1.19.5)\n"
          ],
          "name": "stdout"
        }
      ]
    },
    {
      "cell_type": "code",
      "metadata": {
        "colab": {
          "base_uri": "https://localhost:8080/",
          "height": 35
        },
        "id": "OjglIGThk_tc",
        "outputId": "c63c765e-188d-436d-d396-0ffde8c30aba"
      },
      "source": [
        "import numpy as np\n",
        "np.__version__"
      ],
      "execution_count": 2,
      "outputs": [
        {
          "output_type": "execute_result",
          "data": {
            "application/vnd.google.colaboratory.intrinsic+json": {
              "type": "string"
            },
            "text/plain": [
              "'1.19.5'"
            ]
          },
          "metadata": {
            "tags": []
          },
          "execution_count": 2
        }
      ]
    },
    {
      "cell_type": "markdown",
      "metadata": {
        "id": "zXUlxg-mlGji"
      },
      "source": [
        "# Create a null vector of size 10"
      ]
    },
    {
      "cell_type": "code",
      "metadata": {
        "colab": {
          "base_uri": "https://localhost:8080/"
        },
        "id": "bBQRiVkilI_2",
        "outputId": "b757fbe0-cc24-416f-c1c5-65516d10353e"
      },
      "source": [
        "l=np.zeros(10)\n",
        "l"
      ],
      "execution_count": 3,
      "outputs": [
        {
          "output_type": "execute_result",
          "data": {
            "text/plain": [
              "array([0., 0., 0., 0., 0., 0., 0., 0., 0., 0.])"
            ]
          },
          "metadata": {
            "tags": []
          },
          "execution_count": 3
        }
      ]
    },
    {
      "cell_type": "markdown",
      "metadata": {
        "id": "6MBuDntslO-t"
      },
      "source": [
        "# Create Simple 1-D array and check type and check data types in array"
      ]
    },
    {
      "cell_type": "code",
      "metadata": {
        "colab": {
          "base_uri": "https://localhost:8080/"
        },
        "id": "tjnvZNdrlSI2",
        "outputId": "5f97789b-05fc-4987-a746-b549d9b735b8"
      },
      "source": [
        "a=np.array([1,2,3,4])\n",
        "print(a.dtype)"
      ],
      "execution_count": 4,
      "outputs": [
        {
          "output_type": "stream",
          "text": [
            "int64\n"
          ],
          "name": "stdout"
        }
      ]
    },
    {
      "cell_type": "markdown",
      "metadata": {
        "id": "0NqfvOUBlcW_"
      },
      "source": [
        "# How to find number of dimensions, bytes per element and bytes of memory used?"
      ]
    },
    {
      "cell_type": "code",
      "metadata": {
        "colab": {
          "base_uri": "https://localhost:8080/"
        },
        "id": "yqv62vtNle5U",
        "outputId": "f79e5619-9e9d-48cf-a7ba-3f65cd5d6910"
      },
      "source": [
        "b=np.arange(100)\n",
        "print(\"-----arrray---\")\n",
        "print(b)\n",
        "print(\"=\"*50)\n",
        "print(\"Dimension of array :\",b.ndim)\n",
        "print(\"Memory used :\",b.itemsize*b.size)"
      ],
      "execution_count": 5,
      "outputs": [
        {
          "output_type": "stream",
          "text": [
            "-----arrray---\n",
            "[ 0  1  2  3  4  5  6  7  8  9 10 11 12 13 14 15 16 17 18 19 20 21 22 23\n",
            " 24 25 26 27 28 29 30 31 32 33 34 35 36 37 38 39 40 41 42 43 44 45 46 47\n",
            " 48 49 50 51 52 53 54 55 56 57 58 59 60 61 62 63 64 65 66 67 68 69 70 71\n",
            " 72 73 74 75 76 77 78 79 80 81 82 83 84 85 86 87 88 89 90 91 92 93 94 95\n",
            " 96 97 98 99]\n",
            "==================================================\n",
            "Dimension of array : 1\n",
            "Memory used : 800\n"
          ],
          "name": "stdout"
        }
      ]
    },
    {
      "cell_type": "markdown",
      "metadata": {
        "id": "1ESDQWQKljO9"
      },
      "source": [
        "# Create a null vector of size 10 but the fifth value which is 1"
      ]
    },
    {
      "cell_type": "code",
      "metadata": {
        "colab": {
          "base_uri": "https://localhost:8080/"
        },
        "id": "uKcyKcRalkxQ",
        "outputId": "4f494b69-58ab-4816-c9f2-28b0a3468253"
      },
      "source": [
        "a=np.zeros(10)\n",
        "a[4]=1\n",
        "print(a)"
      ],
      "execution_count": 6,
      "outputs": [
        {
          "output_type": "stream",
          "text": [
            "[0. 0. 0. 0. 1. 0. 0. 0. 0. 0.]\n"
          ],
          "name": "stdout"
        }
      ]
    },
    {
      "cell_type": "markdown",
      "metadata": {
        "id": "wPcjZ6Jflv7u"
      },
      "source": [
        "# Create a vector with values ranging from 10 to 49"
      ]
    },
    {
      "cell_type": "code",
      "metadata": {
        "colab": {
          "base_uri": "https://localhost:8080/"
        },
        "id": "1pWSazIKlxpH",
        "outputId": "454799ab-10d6-4c1d-f5bd-de80721ddefc"
      },
      "source": [
        "a=np.arange(10,50)\n",
        "a"
      ],
      "execution_count": 7,
      "outputs": [
        {
          "output_type": "execute_result",
          "data": {
            "text/plain": [
              "array([10, 11, 12, 13, 14, 15, 16, 17, 18, 19, 20, 21, 22, 23, 24, 25, 26,\n",
              "       27, 28, 29, 30, 31, 32, 33, 34, 35, 36, 37, 38, 39, 40, 41, 42, 43,\n",
              "       44, 45, 46, 47, 48, 49])"
            ]
          },
          "metadata": {
            "tags": []
          },
          "execution_count": 7
        }
      ]
    },
    {
      "cell_type": "markdown",
      "metadata": {
        "id": "EbopKeSjl0gB"
      },
      "source": [
        "# Reverse a vector (first element becomes last)"
      ]
    },
    {
      "cell_type": "code",
      "metadata": {
        "colab": {
          "base_uri": "https://localhost:8080/"
        },
        "id": "WBpTLmjSl3b8",
        "outputId": "21b79e8f-ac0e-487a-8beb-4cd2be2b537b"
      },
      "source": [
        "sorted(a,reverse=True)"
      ],
      "execution_count": 8,
      "outputs": [
        {
          "output_type": "execute_result",
          "data": {
            "text/plain": [
              "[49,\n",
              " 48,\n",
              " 47,\n",
              " 46,\n",
              " 45,\n",
              " 44,\n",
              " 43,\n",
              " 42,\n",
              " 41,\n",
              " 40,\n",
              " 39,\n",
              " 38,\n",
              " 37,\n",
              " 36,\n",
              " 35,\n",
              " 34,\n",
              " 33,\n",
              " 32,\n",
              " 31,\n",
              " 30,\n",
              " 29,\n",
              " 28,\n",
              " 27,\n",
              " 26,\n",
              " 25,\n",
              " 24,\n",
              " 23,\n",
              " 22,\n",
              " 21,\n",
              " 20,\n",
              " 19,\n",
              " 18,\n",
              " 17,\n",
              " 16,\n",
              " 15,\n",
              " 14,\n",
              " 13,\n",
              " 12,\n",
              " 11,\n",
              " 10]"
            ]
          },
          "metadata": {
            "tags": []
          },
          "execution_count": 8
        }
      ]
    },
    {
      "cell_type": "code",
      "metadata": {
        "colab": {
          "base_uri": "https://localhost:8080/"
        },
        "id": "a6X1yQOfl8vl",
        "outputId": "4486aaf0-aac3-4896-f007-53a7f3730dee"
      },
      "source": [
        "a[:-1]"
      ],
      "execution_count": 9,
      "outputs": [
        {
          "output_type": "execute_result",
          "data": {
            "text/plain": [
              "array([10, 11, 12, 13, 14, 15, 16, 17, 18, 19, 20, 21, 22, 23, 24, 25, 26,\n",
              "       27, 28, 29, 30, 31, 32, 33, 34, 35, 36, 37, 38, 39, 40, 41, 42, 43,\n",
              "       44, 45, 46, 47, 48])"
            ]
          },
          "metadata": {
            "tags": []
          },
          "execution_count": 9
        }
      ]
    },
    {
      "cell_type": "markdown",
      "metadata": {
        "id": "PP0guvhtl_38"
      },
      "source": [
        "# Create a 3x3 matrix with values ranging from 0 to 8"
      ]
    },
    {
      "cell_type": "code",
      "metadata": {
        "colab": {
          "base_uri": "https://localhost:8080/"
        },
        "id": "EmlK6chfmBny",
        "outputId": "b25a68e6-3048-495e-c8cd-e4988ec2ed1e"
      },
      "source": [
        "c=np.arange(0,9).reshape(3,3)\n",
        "c"
      ],
      "execution_count": 10,
      "outputs": [
        {
          "output_type": "execute_result",
          "data": {
            "text/plain": [
              "array([[0, 1, 2],\n",
              "       [3, 4, 5],\n",
              "       [6, 7, 8]])"
            ]
          },
          "metadata": {
            "tags": []
          },
          "execution_count": 10
        }
      ]
    },
    {
      "cell_type": "markdown",
      "metadata": {
        "id": "jvHi3PBCmFmu"
      },
      "source": [
        "# Find indices of non-zero elements from [1,2,0,0,4,0]"
      ]
    },
    {
      "cell_type": "code",
      "metadata": {
        "colab": {
          "base_uri": "https://localhost:8080/"
        },
        "id": "NtrUtVf_mG_4",
        "outputId": "c2c4bcfb-567f-4ad1-fabb-e47b537ce8f8"
      },
      "source": [
        "a1=np.array([1,2,0,0,4,0])\n",
        "np.nonzero(a1)"
      ],
      "execution_count": 11,
      "outputs": [
        {
          "output_type": "execute_result",
          "data": {
            "text/plain": [
              "(array([0, 1, 4]),)"
            ]
          },
          "metadata": {
            "tags": []
          },
          "execution_count": 11
        }
      ]
    },
    {
      "cell_type": "markdown",
      "metadata": {
        "id": "XuE68mm1mJvA"
      },
      "source": [
        "# Create a 3x3 identity matrix"
      ]
    },
    {
      "cell_type": "code",
      "metadata": {
        "colab": {
          "base_uri": "https://localhost:8080/"
        },
        "id": "6ybOt72qmL-J",
        "outputId": "7179f01a-c892-4031-95dc-b9239d8489c3"
      },
      "source": [
        "a2=np.identity(3)\n",
        "a2"
      ],
      "execution_count": 13,
      "outputs": [
        {
          "output_type": "execute_result",
          "data": {
            "text/plain": [
              "array([[1., 0., 0.],\n",
              "       [0., 1., 0.],\n",
              "       [0., 0., 1.]])"
            ]
          },
          "metadata": {
            "tags": []
          },
          "execution_count": 13
        }
      ]
    },
    {
      "cell_type": "markdown",
      "metadata": {
        "id": "jSkEKqn_mOmt"
      },
      "source": [
        "# Create a 3x3x3 array with random values"
      ]
    },
    {
      "cell_type": "code",
      "metadata": {
        "colab": {
          "base_uri": "https://localhost:8080/"
        },
        "id": "bUMemojBmRhe",
        "outputId": "f2b70349-0107-4c3b-ecc0-541ff5d1f11b"
      },
      "source": [
        "a3=np.random.random((3,3,3))\n",
        "a3"
      ],
      "execution_count": 12,
      "outputs": [
        {
          "output_type": "execute_result",
          "data": {
            "text/plain": [
              "array([[[0.03463774, 0.26515704, 0.91618634],\n",
              "        [0.35023194, 0.77364599, 0.74145753],\n",
              "        [0.744705  , 0.42601198, 0.99136207]],\n",
              "\n",
              "       [[0.17703112, 0.93917249, 0.62925798],\n",
              "        [0.87484497, 0.22223995, 0.31765623],\n",
              "        [0.63458911, 0.36732271, 0.52347757]],\n",
              "\n",
              "       [[0.12446756, 0.42447655, 0.93531811],\n",
              "        [0.08591796, 0.17887603, 0.82752527],\n",
              "        [0.93884014, 0.44184175, 0.79415063]]])"
            ]
          },
          "metadata": {
            "tags": []
          },
          "execution_count": 12
        }
      ]
    },
    {
      "cell_type": "markdown",
      "metadata": {
        "id": "VM6MY2v0mcMM"
      },
      "source": [
        "# Create a 10x10 array with random values and find the minimum and maximum values"
      ]
    },
    {
      "cell_type": "code",
      "metadata": {
        "colab": {
          "base_uri": "https://localhost:8080/"
        },
        "id": "CzLSCRLHmd2r",
        "outputId": "09ae6d03-bedf-4eed-b898-08b8994a5ecc"
      },
      "source": [
        "a4=np.random.random((10,10))\n",
        "print(a4)\n",
        "print(\"*\"*80)\n",
        "print(\"maximum in above array : \",a4.max())\n",
        "print(\"minimum in above array : \",a4.min())\n"
      ],
      "execution_count": 14,
      "outputs": [
        {
          "output_type": "stream",
          "text": [
            "[[7.77511378e-01 1.88205070e-01 4.49045709e-01 5.12126861e-01\n",
            "  9.96831727e-01 7.72496787e-01 7.08290654e-01 7.94619127e-01\n",
            "  6.18510127e-01 7.66691792e-01]\n",
            " [3.83981912e-01 1.71609262e-01 3.19210036e-01 2.66840875e-01\n",
            "  8.68513546e-01 4.93802169e-01 8.84740528e-01 6.14556571e-01\n",
            "  4.81626552e-01 5.74257720e-02]\n",
            " [1.86933120e-01 2.25156368e-01 1.36197637e-01 6.47374414e-02\n",
            "  9.07260942e-01 4.76980501e-01 4.93750560e-01 8.68220736e-01\n",
            "  1.54084508e-01 6.09036097e-01]\n",
            " [7.51141742e-01 9.64130724e-01 6.30474518e-03 3.15668022e-01\n",
            "  1.62062343e-01 1.85188322e-01 9.91650937e-01 7.58796342e-01\n",
            "  8.31200918e-02 4.15972325e-01]\n",
            " [4.58398795e-01 9.47261539e-01 1.19273061e-01 4.66656871e-01\n",
            "  5.61699319e-01 4.98203954e-01 3.90992982e-01 5.72769879e-01\n",
            "  1.73201290e-01 6.66676179e-01]\n",
            " [4.11455025e-01 6.12794673e-01 6.60309117e-01 6.29484146e-01\n",
            "  5.38021041e-01 7.90181049e-02 1.49153786e-01 8.71308230e-01\n",
            "  9.48663877e-01 2.64480951e-01]\n",
            " [2.34432250e-01 2.63119628e-01 4.53362377e-02 6.54908621e-01\n",
            "  2.75052728e-01 1.93965145e-01 8.63704119e-01 2.04367310e-01\n",
            "  3.49383341e-01 8.91415249e-02]\n",
            " [3.37660580e-02 5.85997431e-01 3.43772048e-01 9.28974566e-01\n",
            "  5.14165248e-01 8.65137197e-01 8.55586436e-01 1.92222707e-01\n",
            "  1.18346511e-01 1.66195688e-01]\n",
            " [5.76778346e-01 2.34944430e-01 9.14340161e-01 9.98571706e-01\n",
            "  3.18012483e-01 2.87937795e-01 2.05047012e-04 7.67439889e-01\n",
            "  3.81355510e-02 5.66646146e-01]\n",
            " [7.41319509e-01 2.86146041e-01 9.16120928e-01 6.00846773e-01\n",
            "  2.62052226e-01 2.67336115e-02 5.60841171e-01 8.08300307e-01\n",
            "  5.76512584e-02 5.99902577e-01]]\n",
            "********************************************************************************\n",
            "maximum in above array :  0.998571706412725\n",
            "minimum in above array :  0.00020504701209256293\n"
          ],
          "name": "stdout"
        }
      ]
    },
    {
      "cell_type": "markdown",
      "metadata": {
        "id": "hicr4Cj0moaK"
      },
      "source": [
        "# Create a random vector of size 30 and find the mean value"
      ]
    },
    {
      "cell_type": "code",
      "metadata": {
        "colab": {
          "base_uri": "https://localhost:8080/"
        },
        "id": "2f-SKoXymrEK",
        "outputId": "061716c3-c1fc-4d44-dbbe-eb00dc1426b0"
      },
      "source": [
        "a5=np.random.random(10)\n",
        "print(a5)\n",
        "print(\"#\"*80)\n",
        "print(\"mean of the value of above array is  :\",a5.mean())"
      ],
      "execution_count": 15,
      "outputs": [
        {
          "output_type": "stream",
          "text": [
            "[0.89941194 0.90242278 0.73549352 0.60057346 0.37206724 0.03871082\n",
            " 0.90264614 0.06838594 0.13492748 0.16833641]\n",
            "################################################################################\n",
            "mean of the value of above array is  : 0.4822975725914775\n"
          ],
          "name": "stdout"
        }
      ]
    },
    {
      "cell_type": "markdown",
      "metadata": {
        "id": "Dre_-I5ImwXl"
      },
      "source": [
        "# Create a 2d array with 1 on the border and 0 inside"
      ]
    },
    {
      "cell_type": "code",
      "metadata": {
        "colab": {
          "base_uri": "https://localhost:8080/"
        },
        "id": "D7cM4tnxmx-D",
        "outputId": "4fd6244f-d8a5-4f4d-a05b-ebd21e38d2d5"
      },
      "source": [
        "#creates a 2d array of 4*4 with all 1's\n",
        "a6=np.ones((4,4))\n",
        "#print(a6)\n",
        "\n",
        "#for row : from 1st row upto last one \n",
        "#for column : from 1st column upto last one \n",
        "a6[1:-1,1:-1]=0\n",
        "print(a6)"
      ],
      "execution_count": 17,
      "outputs": [
        {
          "output_type": "stream",
          "text": [
            "[[1. 1. 1. 1.]\n",
            " [1. 0. 0. 1.]\n",
            " [1. 0. 0. 1.]\n",
            " [1. 1. 1. 1.]]\n"
          ],
          "name": "stdout"
        }
      ]
    },
    {
      "cell_type": "markdown",
      "metadata": {
        "id": "seKswvU0nsw_"
      },
      "source": [
        "# How to add a border (filled with 0's) around an existing array?"
      ]
    },
    {
      "cell_type": "code",
      "metadata": {
        "colab": {
          "base_uri": "https://localhost:8080/"
        },
        "id": "0RWlde-5nuxG",
        "outputId": "46ae8ab8-439f-4250-8111-0259485d7049"
      },
      "source": [
        "a6=np.pad(a6, pad_width=1, mode='constant', constant_values=0)\n",
        "print(a6)"
      ],
      "execution_count": 18,
      "outputs": [
        {
          "output_type": "stream",
          "text": [
            "[[0. 0. 0. 0. 0. 0.]\n",
            " [0. 1. 1. 1. 1. 0.]\n",
            " [0. 1. 0. 0. 1. 0.]\n",
            " [0. 1. 0. 0. 1. 0.]\n",
            " [0. 1. 1. 1. 1. 0.]\n",
            " [0. 0. 0. 0. 0. 0.]]\n"
          ],
          "name": "stdout"
        }
      ]
    },
    {
      "cell_type": "markdown",
      "metadata": {
        "id": "gtElxZIln6xH"
      },
      "source": [
        "# How to Accessing/Changing specific elements, rows, columns, etc in Numpy array?\n",
        "Example - [[ 1 2 3 4 5 6 7] [ 8 9 10 11 12 13 14]]\n",
        "\n",
        "Get 13, get first row only, get 3rd column only, get [2, 4, 6], replace 13 by 20"
      ]
    },
    {
      "cell_type": "code",
      "metadata": {
        "colab": {
          "base_uri": "https://localhost:8080/"
        },
        "id": "zc6lc7Pdn8XL",
        "outputId": "002b8470-0c1e-45a2-8f41-806825d1b3f5"
      },
      "source": [
        "a7=np.array([[ 1, 2, 3, 4, 5, 6, 7], [ 8, 9, 10, 11, 12, 13, 14]])\n",
        "print(a7)\n",
        "print(\"1st row : \",a7[0])\n",
        "print(\"3rd column : \",a7[:,3])"
      ],
      "execution_count": 21,
      "outputs": [
        {
          "output_type": "stream",
          "text": [
            "[[ 1  2  3  4  5  6  7]\n",
            " [ 8  9 10 11 12 13 14]]\n",
            "1st row :  [1 2 3 4 5 6 7]\n",
            "3rd column :  [ 4 11]\n"
          ],
          "name": "stdout"
        }
      ]
    },
    {
      "cell_type": "markdown",
      "metadata": {
        "id": "TC_pPYEJoPtO"
      },
      "source": [
        "# How to Convert a 1D array to a 2D array with 2 rows"
      ]
    },
    {
      "cell_type": "code",
      "metadata": {
        "colab": {
          "base_uri": "https://localhost:8080/"
        },
        "id": "s7rrFEm8oRQ3",
        "outputId": "51b86715-52fc-4936-ef5c-f7fe41858be5"
      },
      "source": [
        "a8=np.array([[ 1, 2, 3, 4, 5, 6, 7], [ 8, 9, 10, 11, 12, 13, 14]])\n",
        "a8.flatten()"
      ],
      "execution_count": 22,
      "outputs": [
        {
          "output_type": "execute_result",
          "data": {
            "text/plain": [
              "array([ 1,  2,  3,  4,  5,  6,  7,  8,  9, 10, 11, 12, 13, 14])"
            ]
          },
          "metadata": {
            "tags": []
          },
          "execution_count": 22
        }
      ]
    },
    {
      "cell_type": "markdown",
      "metadata": {
        "id": "G3CVRYE-oVhG"
      },
      "source": [
        "# Create the following pattern without hardcoding. Use only numpy functions and the below input array a."
      ]
    },
    {
      "cell_type": "code",
      "metadata": {
        "colab": {
          "base_uri": "https://localhost:8080/"
        },
        "id": "UF9Rwo-0oXbP",
        "outputId": "0b2f6cd9-e05c-4cdc-df95-39375d93c9f1"
      },
      "source": [
        "a = np.array([1,2,3])\n",
        "print(np.r_[(np.repeat(a, 3), np.tile(a, 3))])"
      ],
      "execution_count": 23,
      "outputs": [
        {
          "output_type": "stream",
          "text": [
            "[1 1 1 2 2 2 3 3 3 1 2 3 1 2 3 1 2 3]\n"
          ],
          "name": "stdout"
        }
      ]
    },
    {
      "cell_type": "markdown",
      "metadata": {
        "id": "kXFhBB_QocXY"
      },
      "source": [
        "# Write a program to show how Numpy taking less memory compared to Python List?"
      ]
    },
    {
      "cell_type": "code",
      "metadata": {
        "colab": {
          "base_uri": "https://localhost:8080/"
        },
        "id": "kC7m-nJ0od5f",
        "outputId": "c97e3261-172e-4a30-b42b-efb2eefc7db0"
      },
      "source": [
        "import numpy as np\n",
        "\n",
        "print(\"-\"*10,\"list\",\"-\"*10)\n",
        "l=range(1000)\n",
        "\n",
        "# this module is used to calculate size\n",
        "import sys\n",
        "a=10\n",
        "print(sys.getsizeof(a)) #memory alocallted to a\n",
        "\n",
        "#here, one int value takes 28 bytes in a list \n",
        "print(sys.getsizeof(a)*len(l))\n",
        "print(\"-\"*10,\"numpy array\",\"-\"*10)\n",
        "a1=np.arange(1000)\n",
        "print(a1.size)\n",
        "\n",
        "#to check each item in numpy array \n",
        "print(a1.size*a1.itemsize)"
      ],
      "execution_count": 24,
      "outputs": [
        {
          "output_type": "stream",
          "text": [
            "---------- list ----------\n",
            "28\n",
            "28000\n",
            "---------- numpy array ----------\n",
            "1000\n",
            "8000\n"
          ],
          "name": "stdout"
        }
      ]
    },
    {
      "cell_type": "markdown",
      "metadata": {
        "id": "zCEfKkC1oi4_"
      },
      "source": [
        "# Write a program to show how Numpy taking less time compared to Python List?"
      ]
    },
    {
      "cell_type": "code",
      "metadata": {
        "colab": {
          "base_uri": "https://localhost:8080/"
        },
        "id": "-66fYEUUokXc",
        "outputId": "484d2e53-680c-472c-f386-a6b51ea077fc"
      },
      "source": [
        "import time\n",
        "import sys\n",
        "\n",
        "print(\"-\"*10,\"list\",\"-\"*10)\n",
        "size = 1000000\n",
        "l1=range(size)\n",
        "l2=range(size)\n",
        "\n",
        "#starting timer\n",
        "start=time.time()\n",
        "#2 iterator are taken, inside zip we put both the list, one element from l1 will be put in x and one element from l2 will be put in y\n",
        "result=[(x+y) for x,y in zip(l1,l2)]\n",
        "#subtracting the when loop began with after excution of loop\n",
        "print((time.time()-start)*1000)\n",
        "\n",
        "\n",
        "print(\"-\"*10,\"numpy array\",\"-\"*10)\n",
        "n1=np.arange(size)\n",
        "n2=np.arange(size)\n",
        "\n",
        "#starting timer\n",
        "start=time.time()\n",
        "\n",
        "result=n1+n2\n",
        "#subtracting the when loop began with after excution of loop\n",
        "#time is in micro sec that we mutlipled it to 1000\n",
        "print((time.time()-start)*1000)"
      ],
      "execution_count": 25,
      "outputs": [
        {
          "output_type": "stream",
          "text": [
            "---------- list ----------\n",
            "125.8540153503418\n",
            "---------- numpy array ----------\n",
            "18.025636672973633\n"
          ],
          "name": "stdout"
        }
      ]
    }
  ]
}