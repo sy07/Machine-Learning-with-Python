{
  "nbformat": 4,
  "nbformat_minor": 0,
  "metadata": {
    "colab": {
      "name": "Task3_GoEDU.ipynb",
      "provenance": [],
      "collapsed_sections": [],
      "authorship_tag": "ABX9TyPuU36pAQXM1Snq1HJnxZHR",
      "include_colab_link": true
    },
    "kernelspec": {
      "name": "python3",
      "display_name": "Python 3"
    },
    "language_info": {
      "name": "python"
    }
  },
  "cells": [
    {
      "cell_type": "markdown",
      "metadata": {
        "id": "view-in-github",
        "colab_type": "text"
      },
      "source": [
        "<a href=\"https://colab.research.google.com/github/sy07/Machine-Learning-with-Python/blob/main/Task3_GoEDU.ipynb\" target=\"_parent\"><img src=\"https://colab.research.google.com/assets/colab-badge.svg\" alt=\"Open In Colab\"/></a>"
      ]
    },
    {
      "cell_type": "markdown",
      "metadata": {
        "id": "cX9kInEzw9XW"
      },
      "source": [
        "**Q4** Write a Python program to convert list to list of dictionaries."
      ]
    },
    {
      "cell_type": "code",
      "metadata": {
        "colab": {
          "base_uri": "https://localhost:8080/"
        },
        "id": "dHA38mkdwwsQ",
        "outputId": "1591ffaf-95a2-4780-8d8d-f117d6d66c4c"
      },
      "source": [
        "colour = [\"Black\", \"Red\", \"Maroon\", \"Yellow\"]\n",
        "hex = [\"#000000\", \"#FF0000\", \"#800000\", \"#FFFF00\"]\n",
        "key_list = ['color_name','color_code']\n",
        "\n",
        "print(\"The original color list : \" + str(colour))\n",
        "print(\"The original hex list : \" + str(hex))  \n",
        "\n",
        "n = len(colour)\n",
        "m = len(hex)\n",
        "res = [{key_list[0]: colour[idx], key_list[1]: hex[idx]}\n",
        "       for idx in range(n)]\n",
        "  \n",
        "# printing result \n",
        "print(\"The constructed dictionary list : \" + str(res))"
      ],
      "execution_count": 16,
      "outputs": [
        {
          "output_type": "stream",
          "text": [
            "The original color list : ['Black', 'Red', 'Maroon', 'Yellow']\n",
            "The original hex list : ['#000000', '#FF0000', '#800000', '#FFFF00']\n",
            "The constructed dictionary list : [{'color_name': 'Black', 'color_code': '#000000'}, {'color_name': 'Red', 'color_code': '#FF0000'}, {'color_name': 'Maroon', 'color_code': '#800000'}, {'color_name': 'Yellow', 'color_code': '#FFFF00'}]\n"
          ],
          "name": "stdout"
        }
      ]
    },
    {
      "cell_type": "markdown",
      "metadata": {
        "id": "9YvRXbgWQHwY"
      },
      "source": [
        "**Q5**We have following information on Employees and their Salary (Salary is in lakhs),Employee:John,smith,alice,danieal\tSalary: 14,13,32,21"
      ]
    },
    {
      "cell_type": "markdown",
      "metadata": {
        "id": "WejosfZjQlt1"
      },
      "source": [
        "1) Using above create a dictionary of Employees and their Salary"
      ]
    },
    {
      "cell_type": "code",
      "metadata": {
        "colab": {
          "base_uri": "https://localhost:8080/"
        },
        "id": "9eE22estQr_F",
        "outputId": "cac697d3-bc98-438e-dbad-42cea557c17c"
      },
      "source": [
        "d = {'john':'14','smith':'13','alice':'32','daniel':'21'}\n",
        "d"
      ],
      "execution_count": 18,
      "outputs": [
        {
          "output_type": "execute_result",
          "data": {
            "text/plain": [
              "{'alice': 32, 'daniel': 21, 'john': 14, 'smith': 13}"
            ]
          },
          "metadata": {
            "tags": []
          },
          "execution_count": 18
        }
      ]
    },
    {
      "cell_type": "code",
      "metadata": {
        "colab": {
          "base_uri": "https://localhost:8080/"
        },
        "id": "nHazcLmcTJnP",
        "outputId": "b804d905-0ff4-4909-c4f7-6e5daacde709"
      },
      "source": [
        "poll = True\n",
        "while poll:\n",
        "  usr_input = input(\"\\nEnter choice: 1.Print, 2.add, 3.remove, 4.query, q to quit:\")\n",
        "\n",
        "  if usr_input == '1':\n",
        "    print(\"Name Salary\")\n",
        "    for name, salary in d.items():\n",
        "      print(\"{} ==> {}\".format(name, salary))\n",
        "  elif usr_input == '2':\n",
        "    a = input(\"Enter employee name:\")\n",
        "    b = input(\"Enter employee salary:\")\n",
        "    d[a] = b  \n",
        "    print(\"Name Salary\")\n",
        "    for name, salary in d.items():\n",
        "      print(\"{} ==> {}\".format(name, salary))\n",
        "  elif usr_input == '3':\n",
        "    rem = input(\"Enter name of employee you want to remove:\")\n",
        "    r = d.pop(rem)\n",
        "    print(\"Name Salary\")\n",
        "    for name, salary in d.items():\n",
        "      print(\"{} ==> {}\".format(name, salary))\n",
        "  elif usr_input == '4':\n",
        "    x = input(\"Enter name of employee you want query:\")\n",
        "    print(\"Salary of employee is: %s\" % d.get(x))\n",
        "  elif usr_input == 'q':\n",
        "    break  \n",
        "  else:\n",
        "    print(\"wrong choice\")  "
      ],
      "execution_count": 39,
      "outputs": [
        {
          "output_type": "stream",
          "text": [
            "\n",
            "Enter choice: 1.Print, 2.add, 3.remove, 4.query, q to quit:1\n",
            "Name Salary\n",
            "john ==> 14\n",
            "smith ==> 13\n",
            "alice ==> 32\n",
            "daniel ==> 21\n",
            "yash ==> 54\n",
            "qwerty ==> 55\n",
            "\n",
            "Enter choice: 1.Print, 2.add, 3.remove, 4.query, q to quit:3\n",
            "Enter name of employee you want to remove:yash\n",
            "Name Salary\n",
            "john ==> 14\n",
            "smith ==> 13\n",
            "alice ==> 32\n",
            "daniel ==> 21\n",
            "qwerty ==> 55\n",
            "\n",
            "Enter choice: 1.Print, 2.add, 3.remove, 4.query, q to quit:4\n",
            "Enter name of employee you want query:qwerty\n",
            "Salary of employee is: 55\n",
            "\n",
            "Enter choice: 1.Print, 2.add, 3.remove, 4.query, q to quit:q\n"
          ],
          "name": "stdout"
        }
      ]
    }
  ]
}