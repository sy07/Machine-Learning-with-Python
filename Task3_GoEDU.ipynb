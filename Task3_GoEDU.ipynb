{
  "nbformat": 4,
  "nbformat_minor": 0,
  "metadata": {
    "colab": {
      "name": "Task3_GoEDU.ipynb",
      "provenance": [],
      "collapsed_sections": [],
      "authorship_tag": "ABX9TyMcXCkol4ZTsf5iP9hOxXX9",
      "include_colab_link": true
    },
    "kernelspec": {
      "name": "python3",
      "display_name": "Python 3"
    },
    "language_info": {
      "name": "python"
    }
  },
  "cells": [
    {
      "cell_type": "markdown",
      "metadata": {
        "id": "view-in-github",
        "colab_type": "text"
      },
      "source": [
        "<a href=\"https://colab.research.google.com/github/sy07/Machine-Learning-with-Python/blob/main/Task3_GoEDU.ipynb\" target=\"_parent\"><img src=\"https://colab.research.google.com/assets/colab-badge.svg\" alt=\"Open In Colab\"/></a>"
      ]
    },
    {
      "cell_type": "markdown",
      "metadata": {
        "id": "OcD4oodOsOD9"
      },
      "source": [
        "**Q1 Write a Python Program to sort (ascending and descending) a dictionary by value.**"
      ]
    },
    {
      "cell_type": "code",
      "metadata": {
        "colab": {
          "base_uri": "https://localhost:8080/"
        },
        "id": "gMpo0CoyslaS",
        "outputId": "cafbf8ed-30e7-456c-cb0b-b0094e0110e5"
      },
      "source": [
        "import operator\n",
        "d={'a':89,'j':90,'e':23,'w':67,'p':65}\n",
        "print(\"dictionary : \",d)\n",
        "print(\"----sorted in  asecending order------\")\n",
        "sorted_dict = dict( sorted(d.items(),key=operator.itemgetter(1)))\n",
        "print('Sorted Dictionary: ')\n",
        "print(sorted_dict)\n",
        "print(\"----sorted in descending order------\")\n",
        "sorted_dict = dict( sorted(d.items(),key=operator.itemgetter(1),reverse=True))\n",
        "print('Sorted Dictionary: ')\n",
        "print(sorted_dict)"
      ],
      "execution_count": 53,
      "outputs": [
        {
          "output_type": "stream",
          "text": [
            "dictionary :  {'a': 89, 'j': 90, 'e': 23, 'w': 67, 'p': 65}\n",
            "----sorted in  asecending order------\n",
            "Sorted Dictionary: \n",
            "{'e': 23, 'p': 65, 'w': 67, 'a': 89, 'j': 90}\n",
            "----sorted in descending order------\n",
            "Sorted Dictionary: \n",
            "{'j': 90, 'a': 89, 'w': 67, 'p': 65, 'e': 23}\n"
          ],
          "name": "stdout"
        }
      ]
    },
    {
      "cell_type": "markdown",
      "metadata": {
        "id": "7znSzMv0snhA"
      },
      "source": [
        "**Q.2 Write a Python Program to add a key to a dictionary.**"
      ]
    },
    {
      "cell_type": "code",
      "metadata": {
        "colab": {
          "base_uri": "https://localhost:8080/"
        },
        "id": "8KyUM0Cmsqge",
        "outputId": "a4ecce40-f049-43c6-c1d1-192825cf81c1"
      },
      "source": [
        "d={0: 10, 1: 20}\n",
        "print(d)\n",
        "print(\"----aftwer instering record--------\")\n",
        "d[2]=30\n",
        "print(d)"
      ],
      "execution_count": 51,
      "outputs": [
        {
          "output_type": "stream",
          "text": [
            "{0: 10, 1: 20}\n",
            "----aftwer instering record--------\n",
            "{0: 10, 1: 20, 2: 30}\n"
          ],
          "name": "stdout"
        }
      ]
    },
    {
      "cell_type": "markdown",
      "metadata": {
        "id": "ziteRxOos19U"
      },
      "source": [
        "**Q:3 Write a program asks for City name and Temperature and builds a dictionary using that Later on you can input City name and it will tell you the Temperature of that City.**"
      ]
    },
    {
      "cell_type": "code",
      "metadata": {
        "colab": {
          "base_uri": "https://localhost:8080/"
        },
        "id": "gNQTYlyns47Y",
        "outputId": "0bb0e931-3672-41ec-ef27-61d4725afc6d"
      },
      "source": [
        "n=int(input(\"How many cities you want to add\"))\n",
        "cities=list()\n",
        "print(\"Enter \",n,\" cities name\")\n",
        "for i in range(0,n):\n",
        "  cities.append(input())\n",
        "print(\"cities :\",cities)\n",
        "temp=list()\n",
        "print(\"Enter \",n,\" tempertaure name\")\n",
        "for i in range(0,n):\n",
        "  temp.append(input())\n",
        "print(\"tempature :\",temp)\n",
        "\n",
        "\n",
        "print(\"-------dict of cities and tempature-----\")\n",
        "d=dict(zip(cities,temp))\n",
        "print(d)"
      ],
      "execution_count": 52,
      "outputs": [
        {
          "output_type": "stream",
          "text": [
            "How many cities you want to add2\n",
            "Enter  2  cities name\n",
            "ahmedabad\n",
            "himmatnagar\n",
            "cities : ['ahmedabad', 'himmatnagar']\n",
            "Enter  2  tempertaure name\n",
            "35\n",
            "40\n",
            "tempature : ['35', '40']\n",
            "-------dict of cities and tempature-----\n",
            "{'ahmedabad': '35', 'himmatnagar': '40'}\n"
          ],
          "name": "stdout"
        }
      ]
    },
    {
      "cell_type": "markdown",
      "metadata": {
        "id": "cX9kInEzw9XW"
      },
      "source": [
        "**Q4** **Write a Python program to convert list to list of dictionaries.**"
      ]
    },
    {
      "cell_type": "code",
      "metadata": {
        "colab": {
          "base_uri": "https://localhost:8080/"
        },
        "id": "dHA38mkdwwsQ",
        "outputId": "1591ffaf-95a2-4780-8d8d-f117d6d66c4c"
      },
      "source": [
        "colour = [\"Black\", \"Red\", \"Maroon\", \"Yellow\"]\n",
        "hex = [\"#000000\", \"#FF0000\", \"#800000\", \"#FFFF00\"]\n",
        "key_list = ['color_name','color_code']\n",
        "\n",
        "print(\"The original color list : \" + str(colour))\n",
        "print(\"The original hex list : \" + str(hex))  \n",
        "\n",
        "n = len(colour)\n",
        "m = len(hex)\n",
        "res = [{key_list[0]: colour[idx], key_list[1]: hex[idx]}\n",
        "       for idx in range(n)]\n",
        "  \n",
        "# printing result \n",
        "print(\"The constructed dictionary list : \" + str(res))"
      ],
      "execution_count": 16,
      "outputs": [
        {
          "output_type": "stream",
          "text": [
            "The original color list : ['Black', 'Red', 'Maroon', 'Yellow']\n",
            "The original hex list : ['#000000', '#FF0000', '#800000', '#FFFF00']\n",
            "The constructed dictionary list : [{'color_name': 'Black', 'color_code': '#000000'}, {'color_name': 'Red', 'color_code': '#FF0000'}, {'color_name': 'Maroon', 'color_code': '#800000'}, {'color_name': 'Yellow', 'color_code': '#FFFF00'}]\n"
          ],
          "name": "stdout"
        }
      ]
    },
    {
      "cell_type": "markdown",
      "metadata": {
        "id": "9YvRXbgWQHwY"
      },
      "source": [
        "**Q5  We have following information on Employees and their Salary (Salary is in lakhs),Employee:John,smith,alice,danieal\tSalary: 14,13,32,21 **"
      ]
    },
    {
      "cell_type": "markdown",
      "metadata": {
        "id": "WejosfZjQlt1"
      },
      "source": [
        "1) Using above create a dictionary of Employees and their Salary"
      ]
    },
    {
      "cell_type": "code",
      "metadata": {
        "colab": {
          "base_uri": "https://localhost:8080/"
        },
        "id": "9eE22estQr_F",
        "outputId": "dd693786-9153-4788-ecfd-b544f540c95b"
      },
      "source": [
        "d = {'john':'14','smith':'13','alice':'32','daniel':'21'}\n",
        "d"
      ],
      "execution_count": 55,
      "outputs": [
        {
          "output_type": "execute_result",
          "data": {
            "text/plain": [
              "{'alice': '32', 'daniel': '21', 'john': '14', 'smith': '13'}"
            ]
          },
          "metadata": {
            "tags": []
          },
          "execution_count": 55
        }
      ]
    },
    {
      "cell_type": "code",
      "metadata": {
        "colab": {
          "base_uri": "https://localhost:8080/"
        },
        "id": "nHazcLmcTJnP",
        "outputId": "c6f1d71c-2b2c-4b80-eef3-7da582846a91"
      },
      "source": [
        "poll = True\n",
        "while poll:\n",
        "  usr_input = input(\"\\nEnter choice: 1.Print, 2.add, 3.remove, 4.query, q to quit:\")\n",
        "\n",
        "  if usr_input == '1':\n",
        "    print(\"Name Salary\")\n",
        "    for name, salary in d.items():\n",
        "      print(\"{} ==> {}\".format(name, salary))\n",
        "  elif usr_input == '2':\n",
        "    a = input(\"Enter employee name:\")\n",
        "    b = input(\"Enter employee salary:\")\n",
        "    d[a] = b  \n",
        "    print(\"Name Salary\")\n",
        "    for name, salary in d.items():\n",
        "      print(\"{} ==> {}\".format(name, salary))\n",
        "  elif usr_input == '3':\n",
        "    rem = input(\"Enter name of employee you want to remove:\")\n",
        "    r = d.pop(rem)\n",
        "    print(\"Name Salary\")\n",
        "    for name, salary in d.items():\n",
        "      print(\"{} ==> {}\".format(name, salary))\n",
        "  elif usr_input == '4':\n",
        "    x = input(\"Enter name of employee you want query:\")\n",
        "    print(\"Salary of employee is: %s\" % d.get(x))\n",
        "  elif usr_input == 'q':\n",
        "    break  \n",
        "  else:\n",
        "    print(\"wrong choice\")  "
      ],
      "execution_count": 56,
      "outputs": [
        {
          "output_type": "stream",
          "text": [
            "\n",
            "Enter choice: 1.Print, 2.add, 3.remove, 4.query, q to quit:1\n",
            "Name Salary\n",
            "john ==> 14\n",
            "smith ==> 13\n",
            "alice ==> 32\n",
            "daniel ==> 21\n",
            "\n",
            "Enter choice: 1.Print, 2.add, 3.remove, 4.query, q to quit:2\n",
            "Enter employee name:yash\n",
            "Enter employee salary:55\n",
            "Name Salary\n",
            "john ==> 14\n",
            "smith ==> 13\n",
            "alice ==> 32\n",
            "daniel ==> 21\n",
            "yash ==> 55\n",
            "\n",
            "Enter choice: 1.Print, 2.add, 3.remove, 4.query, q to quit:3\n",
            "Enter name of employee you want to remove:yash\n",
            "Name Salary\n",
            "john ==> 14\n",
            "smith ==> 13\n",
            "alice ==> 32\n",
            "daniel ==> 21\n",
            "\n",
            "Enter choice: 1.Print, 2.add, 3.remove, 4.query, q to quit:4\n",
            "Enter name of employee you want query:alice\n",
            "Salary of employee is: 32\n",
            "\n",
            "Enter choice: 1.Print, 2.add, 3.remove, 4.query, q to quit:q\n"
          ],
          "name": "stdout"
        }
      ]
    },
    {
      "cell_type": "markdown",
      "metadata": {
        "id": "cUG6ML3Kt_4B"
      },
      "source": [
        "**#Questions for sets**"
      ]
    },
    {
      "cell_type": "markdown",
      "metadata": {
        "id": "_xKTdiQbof4f"
      },
      "source": [
        "**What is the difference between a set and a frozenset? Create any set and try to use frozenset(setname).**"
      ]
    },
    {
      "cell_type": "markdown",
      "metadata": {
        "id": "ehJwQVUFpks6"
      },
      "source": [
        "**~** are mutable and frozensets are immutable"
      ]
    },
    {
      "cell_type": "code",
      "metadata": {
        "colab": {
          "base_uri": "https://localhost:8080/"
        },
        "id": "ejTiCs8Moid1",
        "outputId": "80077880-ad7a-43f0-8541-cc93d7476291"
      },
      "source": [
        "cities = set((\"Paris\", \"Lyon\", \"London\",\"Berlin\",\"Paris\",\"Birmingham\"))\n",
        "cities"
      ],
      "execution_count": 46,
      "outputs": [
        {
          "output_type": "execute_result",
          "data": {
            "text/plain": [
              "{'Berlin', 'Birmingham', 'London', 'Lyon', 'Paris'}"
            ]
          },
          "metadata": {
            "tags": []
          },
          "execution_count": 46
        }
      ]
    },
    {
      "cell_type": "code",
      "metadata": {
        "colab": {
          "base_uri": "https://localhost:8080/"
        },
        "id": "RncxrEojpbgq",
        "outputId": "a4f0d4a4-5f39-499e-b2c7-4d00f01d3f86"
      },
      "source": [
        "Fcities = frozenset(cities)\n",
        "Fcities"
      ],
      "execution_count": 47,
      "outputs": [
        {
          "output_type": "execute_result",
          "data": {
            "text/plain": [
              "frozenset({'Berlin', 'Birmingham', 'London', 'Lyon', 'Paris'})"
            ]
          },
          "metadata": {
            "tags": []
          },
          "execution_count": 47
        }
      ]
    },
    {
      "cell_type": "markdown",
      "metadata": {
        "id": "Cp46tZsJqkkk"
      },
      "source": [
        "**Find the elements in a given set that are not in another set**"
      ]
    },
    {
      "cell_type": "code",
      "metadata": {
        "colab": {
          "base_uri": "https://localhost:8080/"
        },
        "id": "dSfGGwqFqExI",
        "outputId": "f2703c44-000a-47ef-d0c3-25d8b92c8b3c"
      },
      "source": [
        "set1 = {10,20,30,40,50}\n",
        "set2 = {40,50,60,70,80}\n",
        "print(\"Set 1:\")\n",
        "print(set1)\n",
        "print(\"set 2:\")\n",
        "print(set2)\n",
        "print(\"Difference between set1 and set2:\")\n",
        "print(set1.difference(set2))\n"
      ],
      "execution_count": 50,
      "outputs": [
        {
          "output_type": "stream",
          "text": [
            "Set 1:\n",
            "{40, 10, 50, 20, 30}\n",
            "set 2:\n",
            "{70, 40, 80, 50, 60}\n",
            "Difference between set1 and set2:\n",
            "{10, 20, 30}\n"
          ],
          "name": "stdout"
        }
      ]
    }
  ]
}