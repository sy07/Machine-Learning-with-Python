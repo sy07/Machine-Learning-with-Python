{
  "nbformat": 4,
  "nbformat_minor": 0,
  "metadata": {
    "colab": {
      "name": "Assignment_Task-7_GoEdu.ipynb",
      "provenance": [],
      "collapsed_sections": [],
      "toc_visible": true,
      "authorship_tag": "ABX9TyNn8WzuV4HRoAQc236+jBWO",
      "include_colab_link": true
    },
    "kernelspec": {
      "name": "python3",
      "display_name": "Python 3"
    },
    "language_info": {
      "name": "python"
    }
  },
  "cells": [
    {
      "cell_type": "markdown",
      "metadata": {
        "id": "view-in-github",
        "colab_type": "text"
      },
      "source": [
        "<a href=\"https://colab.research.google.com/github/sy07/Machine-Learning-with-Python/blob/main/Assignment_Task_7_GoEdu.ipynb\" target=\"_parent\"><img src=\"https://colab.research.google.com/assets/colab-badge.svg\" alt=\"Open In Colab\"/></a>"
      ]
    },
    {
      "cell_type": "markdown",
      "metadata": {
        "id": "_I1i-gtzumAH"
      },
      "source": [
        "#Assignment Task-7 GOEdu"
      ]
    },
    {
      "cell_type": "code",
      "metadata": {
        "id": "ZopF7rVjsIpp"
      },
      "source": [
        "import numpy as np\n",
        "import pandas as pd\n",
        "import matplotlib.pyplot as plt "
      ],
      "execution_count": 1,
      "outputs": []
    },
    {
      "cell_type": "code",
      "metadata": {
        "colab": {
          "base_uri": "https://localhost:8080/",
          "height": 771
        },
        "id": "qK9y5f_9vAP9",
        "outputId": "6e0ce3a4-0417-4499-9124-3870e755f91f"
      },
      "source": [
        "shs = pd.read_csv(\"/content/StudentHoursScores.csv\")\n",
        "shs"
      ],
      "execution_count": 2,
      "outputs": [
        {
          "output_type": "execute_result",
          "data": {
            "text/html": [
              "<div>\n",
              "<style scoped>\n",
              "    .dataframe tbody tr th:only-of-type {\n",
              "        vertical-align: middle;\n",
              "    }\n",
              "\n",
              "    .dataframe tbody tr th {\n",
              "        vertical-align: top;\n",
              "    }\n",
              "\n",
              "    .dataframe thead th {\n",
              "        text-align: right;\n",
              "    }\n",
              "</style>\n",
              "<table border=\"1\" class=\"dataframe\">\n",
              "  <thead>\n",
              "    <tr style=\"text-align: right;\">\n",
              "      <th></th>\n",
              "      <th>Hours</th>\n",
              "      <th>Scores</th>\n",
              "    </tr>\n",
              "  </thead>\n",
              "  <tbody>\n",
              "    <tr>\n",
              "      <th>0</th>\n",
              "      <td>7.7</td>\n",
              "      <td>79</td>\n",
              "    </tr>\n",
              "    <tr>\n",
              "      <th>1</th>\n",
              "      <td>5.9</td>\n",
              "      <td>60</td>\n",
              "    </tr>\n",
              "    <tr>\n",
              "      <th>2</th>\n",
              "      <td>4.5</td>\n",
              "      <td>45</td>\n",
              "    </tr>\n",
              "    <tr>\n",
              "      <th>3</th>\n",
              "      <td>3.3</td>\n",
              "      <td>33</td>\n",
              "    </tr>\n",
              "    <tr>\n",
              "      <th>4</th>\n",
              "      <td>1.1</td>\n",
              "      <td>12</td>\n",
              "    </tr>\n",
              "    <tr>\n",
              "      <th>5</th>\n",
              "      <td>8.9</td>\n",
              "      <td>87</td>\n",
              "    </tr>\n",
              "    <tr>\n",
              "      <th>6</th>\n",
              "      <td>2.5</td>\n",
              "      <td>21</td>\n",
              "    </tr>\n",
              "    <tr>\n",
              "      <th>7</th>\n",
              "      <td>1.9</td>\n",
              "      <td>19</td>\n",
              "    </tr>\n",
              "    <tr>\n",
              "      <th>8</th>\n",
              "      <td>2.7</td>\n",
              "      <td>29</td>\n",
              "    </tr>\n",
              "    <tr>\n",
              "      <th>9</th>\n",
              "      <td>8.3</td>\n",
              "      <td>81</td>\n",
              "    </tr>\n",
              "    <tr>\n",
              "      <th>10</th>\n",
              "      <td>5.5</td>\n",
              "      <td>58</td>\n",
              "    </tr>\n",
              "    <tr>\n",
              "      <th>11</th>\n",
              "      <td>9.2</td>\n",
              "      <td>88</td>\n",
              "    </tr>\n",
              "    <tr>\n",
              "      <th>12</th>\n",
              "      <td>1.5</td>\n",
              "      <td>14</td>\n",
              "    </tr>\n",
              "    <tr>\n",
              "      <th>13</th>\n",
              "      <td>3.5</td>\n",
              "      <td>34</td>\n",
              "    </tr>\n",
              "    <tr>\n",
              "      <th>14</th>\n",
              "      <td>8.5</td>\n",
              "      <td>85</td>\n",
              "    </tr>\n",
              "    <tr>\n",
              "      <th>15</th>\n",
              "      <td>3.2</td>\n",
              "      <td>32</td>\n",
              "    </tr>\n",
              "    <tr>\n",
              "      <th>16</th>\n",
              "      <td>6.5</td>\n",
              "      <td>66</td>\n",
              "    </tr>\n",
              "    <tr>\n",
              "      <th>17</th>\n",
              "      <td>2.5</td>\n",
              "      <td>21</td>\n",
              "    </tr>\n",
              "    <tr>\n",
              "      <th>18</th>\n",
              "      <td>9.6</td>\n",
              "      <td>96</td>\n",
              "    </tr>\n",
              "    <tr>\n",
              "      <th>19</th>\n",
              "      <td>4.3</td>\n",
              "      <td>42</td>\n",
              "    </tr>\n",
              "    <tr>\n",
              "      <th>20</th>\n",
              "      <td>4.1</td>\n",
              "      <td>40</td>\n",
              "    </tr>\n",
              "    <tr>\n",
              "      <th>21</th>\n",
              "      <td>3.0</td>\n",
              "      <td>30</td>\n",
              "    </tr>\n",
              "    <tr>\n",
              "      <th>22</th>\n",
              "      <td>2.6</td>\n",
              "      <td>25</td>\n",
              "    </tr>\n",
              "  </tbody>\n",
              "</table>\n",
              "</div>"
            ],
            "text/plain": [
              "    Hours  Scores\n",
              "0     7.7      79\n",
              "1     5.9      60\n",
              "2     4.5      45\n",
              "3     3.3      33\n",
              "4     1.1      12\n",
              "5     8.9      87\n",
              "6     2.5      21\n",
              "7     1.9      19\n",
              "8     2.7      29\n",
              "9     8.3      81\n",
              "10    5.5      58\n",
              "11    9.2      88\n",
              "12    1.5      14\n",
              "13    3.5      34\n",
              "14    8.5      85\n",
              "15    3.2      32\n",
              "16    6.5      66\n",
              "17    2.5      21\n",
              "18    9.6      96\n",
              "19    4.3      42\n",
              "20    4.1      40\n",
              "21    3.0      30\n",
              "22    2.6      25"
            ]
          },
          "metadata": {
            "tags": []
          },
          "execution_count": 2
        }
      ]
    },
    {
      "cell_type": "code",
      "metadata": {
        "colab": {
          "base_uri": "https://localhost:8080/",
          "height": 206
        },
        "id": "xFL1V6YevWeS",
        "outputId": "79ac0641-bafb-4077-c4c0-17c3ce3c8662"
      },
      "source": [
        "shs.head(5)"
      ],
      "execution_count": 3,
      "outputs": [
        {
          "output_type": "execute_result",
          "data": {
            "text/html": [
              "<div>\n",
              "<style scoped>\n",
              "    .dataframe tbody tr th:only-of-type {\n",
              "        vertical-align: middle;\n",
              "    }\n",
              "\n",
              "    .dataframe tbody tr th {\n",
              "        vertical-align: top;\n",
              "    }\n",
              "\n",
              "    .dataframe thead th {\n",
              "        text-align: right;\n",
              "    }\n",
              "</style>\n",
              "<table border=\"1\" class=\"dataframe\">\n",
              "  <thead>\n",
              "    <tr style=\"text-align: right;\">\n",
              "      <th></th>\n",
              "      <th>Hours</th>\n",
              "      <th>Scores</th>\n",
              "    </tr>\n",
              "  </thead>\n",
              "  <tbody>\n",
              "    <tr>\n",
              "      <th>0</th>\n",
              "      <td>7.7</td>\n",
              "      <td>79</td>\n",
              "    </tr>\n",
              "    <tr>\n",
              "      <th>1</th>\n",
              "      <td>5.9</td>\n",
              "      <td>60</td>\n",
              "    </tr>\n",
              "    <tr>\n",
              "      <th>2</th>\n",
              "      <td>4.5</td>\n",
              "      <td>45</td>\n",
              "    </tr>\n",
              "    <tr>\n",
              "      <th>3</th>\n",
              "      <td>3.3</td>\n",
              "      <td>33</td>\n",
              "    </tr>\n",
              "    <tr>\n",
              "      <th>4</th>\n",
              "      <td>1.1</td>\n",
              "      <td>12</td>\n",
              "    </tr>\n",
              "  </tbody>\n",
              "</table>\n",
              "</div>"
            ],
            "text/plain": [
              "   Hours  Scores\n",
              "0    7.7      79\n",
              "1    5.9      60\n",
              "2    4.5      45\n",
              "3    3.3      33\n",
              "4    1.1      12"
            ]
          },
          "metadata": {
            "tags": []
          },
          "execution_count": 3
        }
      ]
    },
    {
      "cell_type": "code",
      "metadata": {
        "colab": {
          "base_uri": "https://localhost:8080/",
          "height": 206
        },
        "id": "ISQ4VYDivov-",
        "outputId": "5711b8ce-9af8-4b4d-b45c-54c2cdf0f58d"
      },
      "source": [
        "shs.tail(5)"
      ],
      "execution_count": 4,
      "outputs": [
        {
          "output_type": "execute_result",
          "data": {
            "text/html": [
              "<div>\n",
              "<style scoped>\n",
              "    .dataframe tbody tr th:only-of-type {\n",
              "        vertical-align: middle;\n",
              "    }\n",
              "\n",
              "    .dataframe tbody tr th {\n",
              "        vertical-align: top;\n",
              "    }\n",
              "\n",
              "    .dataframe thead th {\n",
              "        text-align: right;\n",
              "    }\n",
              "</style>\n",
              "<table border=\"1\" class=\"dataframe\">\n",
              "  <thead>\n",
              "    <tr style=\"text-align: right;\">\n",
              "      <th></th>\n",
              "      <th>Hours</th>\n",
              "      <th>Scores</th>\n",
              "    </tr>\n",
              "  </thead>\n",
              "  <tbody>\n",
              "    <tr>\n",
              "      <th>18</th>\n",
              "      <td>9.6</td>\n",
              "      <td>96</td>\n",
              "    </tr>\n",
              "    <tr>\n",
              "      <th>19</th>\n",
              "      <td>4.3</td>\n",
              "      <td>42</td>\n",
              "    </tr>\n",
              "    <tr>\n",
              "      <th>20</th>\n",
              "      <td>4.1</td>\n",
              "      <td>40</td>\n",
              "    </tr>\n",
              "    <tr>\n",
              "      <th>21</th>\n",
              "      <td>3.0</td>\n",
              "      <td>30</td>\n",
              "    </tr>\n",
              "    <tr>\n",
              "      <th>22</th>\n",
              "      <td>2.6</td>\n",
              "      <td>25</td>\n",
              "    </tr>\n",
              "  </tbody>\n",
              "</table>\n",
              "</div>"
            ],
            "text/plain": [
              "    Hours  Scores\n",
              "18    9.6      96\n",
              "19    4.3      42\n",
              "20    4.1      40\n",
              "21    3.0      30\n",
              "22    2.6      25"
            ]
          },
          "metadata": {
            "tags": []
          },
          "execution_count": 4
        }
      ]
    },
    {
      "cell_type": "code",
      "metadata": {
        "colab": {
          "base_uri": "https://localhost:8080/"
        },
        "id": "rPBSMb-ZviX_",
        "outputId": "60b8c76f-6246-4fb6-e415-f07924216168"
      },
      "source": [
        "print(type(shs))"
      ],
      "execution_count": 5,
      "outputs": [
        {
          "output_type": "stream",
          "text": [
            "<class 'pandas.core.frame.DataFrame'>\n"
          ],
          "name": "stdout"
        }
      ]
    },
    {
      "cell_type": "code",
      "metadata": {
        "colab": {
          "base_uri": "https://localhost:8080/"
        },
        "id": "PENl4g3BvmMK",
        "outputId": "4d17e069-0336-4831-cf22-bc121cc606d2"
      },
      "source": [
        "shs.columns"
      ],
      "execution_count": 6,
      "outputs": [
        {
          "output_type": "execute_result",
          "data": {
            "text/plain": [
              "Index(['Hours', 'Scores'], dtype='object')"
            ]
          },
          "metadata": {
            "tags": []
          },
          "execution_count": 6
        }
      ]
    },
    {
      "cell_type": "code",
      "metadata": {
        "colab": {
          "base_uri": "https://localhost:8080/"
        },
        "id": "21fg94S1vyiy",
        "outputId": "6951d7d5-ac5a-4ef3-e869-10b8abc0b66f"
      },
      "source": [
        "shs.shape"
      ],
      "execution_count": 7,
      "outputs": [
        {
          "output_type": "execute_result",
          "data": {
            "text/plain": [
              "(23, 2)"
            ]
          },
          "metadata": {
            "tags": []
          },
          "execution_count": 7
        }
      ]
    },
    {
      "cell_type": "code",
      "metadata": {
        "colab": {
          "base_uri": "https://localhost:8080/"
        },
        "id": "KjTSo64Ov4P6",
        "outputId": "9ffb6de1-3d4d-476d-bb61-2356feac9258"
      },
      "source": [
        "shs.info()"
      ],
      "execution_count": 8,
      "outputs": [
        {
          "output_type": "stream",
          "text": [
            "<class 'pandas.core.frame.DataFrame'>\n",
            "RangeIndex: 23 entries, 0 to 22\n",
            "Data columns (total 2 columns):\n",
            " #   Column  Non-Null Count  Dtype  \n",
            "---  ------  --------------  -----  \n",
            " 0   Hours   23 non-null     float64\n",
            " 1   Scores  23 non-null     int64  \n",
            "dtypes: float64(1), int64(1)\n",
            "memory usage: 496.0 bytes\n"
          ],
          "name": "stdout"
        }
      ]
    },
    {
      "cell_type": "code",
      "metadata": {
        "colab": {
          "base_uri": "https://localhost:8080/"
        },
        "id": "mK2R8HH-v9jY",
        "outputId": "1c0b3c90-2d3c-4252-ba29-b01f57febe74"
      },
      "source": [
        "shs.min()"
      ],
      "execution_count": 9,
      "outputs": [
        {
          "output_type": "execute_result",
          "data": {
            "text/plain": [
              "Hours      1.1\n",
              "Scores    12.0\n",
              "dtype: float64"
            ]
          },
          "metadata": {
            "tags": []
          },
          "execution_count": 9
        }
      ]
    },
    {
      "cell_type": "code",
      "metadata": {
        "colab": {
          "base_uri": "https://localhost:8080/"
        },
        "id": "_2NZztCTwBRd",
        "outputId": "a9f6cd4f-062a-458b-d3c6-ae8e9f91a876"
      },
      "source": [
        "shs.max()"
      ],
      "execution_count": 10,
      "outputs": [
        {
          "output_type": "execute_result",
          "data": {
            "text/plain": [
              "Hours      9.6\n",
              "Scores    96.0\n",
              "dtype: float64"
            ]
          },
          "metadata": {
            "tags": []
          },
          "execution_count": 10
        }
      ]
    },
    {
      "cell_type": "code",
      "metadata": {
        "colab": {
          "base_uri": "https://localhost:8080/",
          "height": 300
        },
        "id": "teDzQGJcwK-_",
        "outputId": "355aa075-27d5-40cb-b03b-d4e20c6de014"
      },
      "source": [
        "shs.describe()"
      ],
      "execution_count": 11,
      "outputs": [
        {
          "output_type": "execute_result",
          "data": {
            "text/html": [
              "<div>\n",
              "<style scoped>\n",
              "    .dataframe tbody tr th:only-of-type {\n",
              "        vertical-align: middle;\n",
              "    }\n",
              "\n",
              "    .dataframe tbody tr th {\n",
              "        vertical-align: top;\n",
              "    }\n",
              "\n",
              "    .dataframe thead th {\n",
              "        text-align: right;\n",
              "    }\n",
              "</style>\n",
              "<table border=\"1\" class=\"dataframe\">\n",
              "  <thead>\n",
              "    <tr style=\"text-align: right;\">\n",
              "      <th></th>\n",
              "      <th>Hours</th>\n",
              "      <th>Scores</th>\n",
              "    </tr>\n",
              "  </thead>\n",
              "  <tbody>\n",
              "    <tr>\n",
              "      <th>count</th>\n",
              "      <td>23.000000</td>\n",
              "      <td>23.000000</td>\n",
              "    </tr>\n",
              "    <tr>\n",
              "      <th>mean</th>\n",
              "      <td>4.817391</td>\n",
              "      <td>47.695652</td>\n",
              "    </tr>\n",
              "    <tr>\n",
              "      <th>std</th>\n",
              "      <td>2.709688</td>\n",
              "      <td>27.103228</td>\n",
              "    </tr>\n",
              "    <tr>\n",
              "      <th>min</th>\n",
              "      <td>1.100000</td>\n",
              "      <td>12.000000</td>\n",
              "    </tr>\n",
              "    <tr>\n",
              "      <th>25%</th>\n",
              "      <td>2.650000</td>\n",
              "      <td>27.000000</td>\n",
              "    </tr>\n",
              "    <tr>\n",
              "      <th>50%</th>\n",
              "      <td>4.100000</td>\n",
              "      <td>40.000000</td>\n",
              "    </tr>\n",
              "    <tr>\n",
              "      <th>75%</th>\n",
              "      <td>7.100000</td>\n",
              "      <td>72.500000</td>\n",
              "    </tr>\n",
              "    <tr>\n",
              "      <th>max</th>\n",
              "      <td>9.600000</td>\n",
              "      <td>96.000000</td>\n",
              "    </tr>\n",
              "  </tbody>\n",
              "</table>\n",
              "</div>"
            ],
            "text/plain": [
              "           Hours     Scores\n",
              "count  23.000000  23.000000\n",
              "mean    4.817391  47.695652\n",
              "std     2.709688  27.103228\n",
              "min     1.100000  12.000000\n",
              "25%     2.650000  27.000000\n",
              "50%     4.100000  40.000000\n",
              "75%     7.100000  72.500000\n",
              "max     9.600000  96.000000"
            ]
          },
          "metadata": {
            "tags": []
          },
          "execution_count": 11
        }
      ]
    },
    {
      "cell_type": "code",
      "metadata": {
        "colab": {
          "base_uri": "https://localhost:8080/",
          "height": 112
        },
        "id": "6PZRjtYOwXAr",
        "outputId": "541a12a8-050c-42a3-a567-fdd793a82177"
      },
      "source": [
        "shs.corr()"
      ],
      "execution_count": 12,
      "outputs": [
        {
          "output_type": "execute_result",
          "data": {
            "text/html": [
              "<div>\n",
              "<style scoped>\n",
              "    .dataframe tbody tr th:only-of-type {\n",
              "        vertical-align: middle;\n",
              "    }\n",
              "\n",
              "    .dataframe tbody tr th {\n",
              "        vertical-align: top;\n",
              "    }\n",
              "\n",
              "    .dataframe thead th {\n",
              "        text-align: right;\n",
              "    }\n",
              "</style>\n",
              "<table border=\"1\" class=\"dataframe\">\n",
              "  <thead>\n",
              "    <tr style=\"text-align: right;\">\n",
              "      <th></th>\n",
              "      <th>Hours</th>\n",
              "      <th>Scores</th>\n",
              "    </tr>\n",
              "  </thead>\n",
              "  <tbody>\n",
              "    <tr>\n",
              "      <th>Hours</th>\n",
              "      <td>1.000000</td>\n",
              "      <td>0.997656</td>\n",
              "    </tr>\n",
              "    <tr>\n",
              "      <th>Scores</th>\n",
              "      <td>0.997656</td>\n",
              "      <td>1.000000</td>\n",
              "    </tr>\n",
              "  </tbody>\n",
              "</table>\n",
              "</div>"
            ],
            "text/plain": [
              "           Hours    Scores\n",
              "Hours   1.000000  0.997656\n",
              "Scores  0.997656  1.000000"
            ]
          },
          "metadata": {
            "tags": []
          },
          "execution_count": 12
        }
      ]
    },
    {
      "cell_type": "code",
      "metadata": {
        "colab": {
          "base_uri": "https://localhost:8080/"
        },
        "id": "Tn12NTdqwcMs",
        "outputId": "acfb8860-94b9-4e4c-b5df-9ebd4dadcb17"
      },
      "source": [
        "shs.nunique()"
      ],
      "execution_count": 13,
      "outputs": [
        {
          "output_type": "execute_result",
          "data": {
            "text/plain": [
              "Hours     22\n",
              "Scores    22\n",
              "dtype: int64"
            ]
          },
          "metadata": {
            "tags": []
          },
          "execution_count": 13
        }
      ]
    },
    {
      "cell_type": "markdown",
      "metadata": {
        "id": "Jpp556VAMA-W"
      },
      "source": [
        "#Visualizing Data"
      ]
    },
    {
      "cell_type": "code",
      "metadata": {
        "colab": {
          "base_uri": "https://localhost:8080/",
          "height": 283
        },
        "id": "50Wyd2P4wfjd",
        "outputId": "5ffce44c-c701-4c9b-a268-b740a9736d54"
      },
      "source": [
        "x = shs['Hours']\n",
        "y = shs['Scores']\n",
        "plt.xlabel('Hours')\n",
        "plt.ylabel('Scores')\n",
        "plt.scatter(x,y,color='red',marker='*')\n",
        "plt.show()"
      ],
      "execution_count": 14,
      "outputs": [
        {
          "output_type": "display_data",
          "data": {
            "image/png": "[encoded data removed]",
            "text/plain": [
              "<Figure size 432x288 with 1 Axes>"
            ]
          },
          "metadata": {
            "tags": [],
            "needs_background": "light"
          }
        }
      ]
    },
    {
      "cell_type": "code",
      "metadata": {
        "colab": {
          "base_uri": "https://localhost:8080/"
        },
        "id": "7xqCmdVzxQAZ",
        "outputId": "2df5e22f-a3fb-4adf-95de-3af63a805ce3"
      },
      "source": [
        "x = shs.iloc[:,:-1].values\n",
        "y = shs.iloc[:,1].values\n",
        "print(x)\n",
        "print(y)"
      ],
      "execution_count": 16,
      "outputs": [
        {
          "output_type": "stream",
          "text": [
            "[[7.7]\n",
            " [5.9]\n",
            " [4.5]\n",
            " [3.3]\n",
            " [1.1]\n",
            " [8.9]\n",
            " [2.5]\n",
            " [1.9]\n",
            " [2.7]\n",
            " [8.3]\n",
            " [5.5]\n",
            " [9.2]\n",
            " [1.5]\n",
            " [3.5]\n",
            " [8.5]\n",
            " [3.2]\n",
            " [6.5]\n",
            " [2.5]\n",
            " [9.6]\n",
            " [4.3]\n",
            " [4.1]\n",
            " [3. ]\n",
            " [2.6]]\n",
            "[79 60 45 33 12 87 21 19 29 81 58 88 14 34 85 32 66 21 96 42 40 30 25]\n"
          ],
          "name": "stdout"
        }
      ]
    },
    {
      "cell_type": "markdown",
      "metadata": {
        "id": "w_y9DmE6Qk3i"
      },
      "source": [
        "#Test1 with testing data 1/3"
      ]
    },
    {
      "cell_type": "code",
      "metadata": {
        "id": "lPhsFHz7xjEu"
      },
      "source": [
        "import sklearn\n",
        "from sklearn.model_selection import train_test_split\n",
        "xtrain,xtest,ytrain,ytest = train_test_split(x,y,test_size = 1/3,random_state=1)"
      ],
      "execution_count": 35,
      "outputs": []
    },
    {
      "cell_type": "code",
      "metadata": {
        "colab": {
          "base_uri": "https://localhost:8080/"
        },
        "id": "NqN9DKNcMhA6",
        "outputId": "dc4f875a-ca10-484b-8318-080459c92500"
      },
      "source": [
        "print(xtrain.shape, xtest.shape, ytrain.shape, ytest.shape)"
      ],
      "execution_count": 36,
      "outputs": [
        {
          "output_type": "stream",
          "text": [
            "(15, 1) (8, 1) (15,) (8,)\n"
          ],
          "name": "stdout"
        }
      ]
    },
    {
      "cell_type": "code",
      "metadata": {
        "id": "BYkdCIy6x6Sk"
      },
      "source": [
        "from sklearn.linear_model import LinearRegression\n",
        "model = LinearRegression()\n",
        "mark1_shs = model.fit(xtrain,ytrain)"
      ],
      "execution_count": 20,
      "outputs": []
    },
    {
      "cell_type": "markdown",
      "metadata": {
        "id": "kiitnV1CN85-"
      },
      "source": [
        "Visualizing Trained Dataset"
      ]
    },
    {
      "cell_type": "code",
      "metadata": {
        "colab": {
          "base_uri": "https://localhost:8080/",
          "height": 283
        },
        "id": "2qixuwisMuv_",
        "outputId": "15ef09e8-1c07-433d-817f-623174d2c503"
      },
      "source": [
        "plt.figure(figsize=(8,4))\n",
        "plt.scatter(xtrain,ytrain,color=\"g\",marker=\".\")\n",
        "plt.plot(xtrain,model.predict(xtrain),\"r-\")\n",
        "plt.xlabel(\"Studying Hours\")\n",
        "plt.ylabel(\"Percentage Score\")\n",
        "plt.show()"
      ],
      "execution_count": 24,
      "outputs": [
        {
          "output_type": "display_data",
          "data": {
            "image/png": "[encoded data removed]",
            "text/plain": [
              "<Figure size 576x288 with 1 Axes>"
            ]
          },
          "metadata": {
            "tags": [],
            "needs_background": "light"
          }
        }
      ]
    },
    {
      "cell_type": "markdown",
      "metadata": {
        "id": "lw-Ea8xqN_7f"
      },
      "source": [
        "Visualizing Testing Dataset"
      ]
    },
    {
      "cell_type": "code",
      "metadata": {
        "colab": {
          "base_uri": "https://localhost:8080/",
          "height": 279
        },
        "id": "cKUHi_wEOEVs",
        "outputId": "c7b9350f-a411-4266-9fbf-ffe26d97412e"
      },
      "source": [
        "plt.figure(figsize=(8,4))\n",
        "plt.scatter(xtest,ytest,color=\"b\",marker=\".\")\n",
        "plt.plot(xtest,model.predict(xtest),\"r-\")\n",
        "plt.xlabel(\"Studying Hours\")\n",
        "plt.ylabel(\"Percentage Score\")\n",
        "plt.show()"
      ],
      "execution_count": 26,
      "outputs": [
        {
          "output_type": "display_data",
          "data": {
            "image/png": "[encoded data removed]",
            "text/plain": [
              "<Figure size 576x288 with 1 Axes>"
            ]
          },
          "metadata": {
            "tags": [],
            "needs_background": "light"
          }
        }
      ]
    },
    {
      "cell_type": "code",
      "metadata": {
        "colab": {
          "base_uri": "https://localhost:8080/"
        },
        "id": "Fjss4LsUO8R3",
        "outputId": "be9d26f9-5178-4c58-d55b-0d1c8933ee8d"
      },
      "source": [
        "print(\"Slope of the regression line is:\",model.coef_)\n",
        "print(\"Intercept of the regression line is:\",model.intercept_)"
      ],
      "execution_count": 27,
      "outputs": [
        {
          "output_type": "stream",
          "text": [
            "Slope of the regression line is: [9.91860763]\n",
            "Intercept of the regression line is: -0.16590734578961275\n"
          ],
          "name": "stdout"
        }
      ]
    },
    {
      "cell_type": "code",
      "metadata": {
        "colab": {
          "base_uri": "https://localhost:8080/"
        },
        "id": "WgXRQ5jAPT5V",
        "outputId": "36826a73-77bf-48d2-c132-5ae65e50af91"
      },
      "source": [
        "print(xtest)"
      ],
      "execution_count": 28,
      "outputs": [
        {
          "output_type": "stream",
          "text": [
            "[[4.1]\n",
            " [2.5]\n",
            " [3.3]\n",
            " [3.5]\n",
            " [4.3]\n",
            " [6.5]\n",
            " [5.5]\n",
            " [1.1]]\n"
          ],
          "name": "stdout"
        }
      ]
    },
    {
      "cell_type": "code",
      "metadata": {
        "id": "41F60fBBPZqK"
      },
      "source": [
        "yPred = model.predict(xtest)"
      ],
      "execution_count": 29,
      "outputs": []
    },
    {
      "cell_type": "code",
      "metadata": {
        "colab": {
          "base_uri": "https://localhost:8080/",
          "height": 300
        },
        "id": "BIEshfqfPj7c",
        "outputId": "5a172a95-f879-4ebf-9be3-49b6682482d8"
      },
      "source": [
        "data = pd.DataFrame({'Actucal data':ytest,'predicted data':yPred})\n",
        "data"
      ],
      "execution_count": 30,
      "outputs": [
        {
          "output_type": "execute_result",
          "data": {
            "text/html": [
              "<div>\n",
              "<style scoped>\n",
              "    .dataframe tbody tr th:only-of-type {\n",
              "        vertical-align: middle;\n",
              "    }\n",
              "\n",
              "    .dataframe tbody tr th {\n",
              "        vertical-align: top;\n",
              "    }\n",
              "\n",
              "    .dataframe thead th {\n",
              "        text-align: right;\n",
              "    }\n",
              "</style>\n",
              "<table border=\"1\" class=\"dataframe\">\n",
              "  <thead>\n",
              "    <tr style=\"text-align: right;\">\n",
              "      <th></th>\n",
              "      <th>Actucal data</th>\n",
              "      <th>predicted data</th>\n",
              "    </tr>\n",
              "  </thead>\n",
              "  <tbody>\n",
              "    <tr>\n",
              "      <th>0</th>\n",
              "      <td>40</td>\n",
              "      <td>40.500384</td>\n",
              "    </tr>\n",
              "    <tr>\n",
              "      <th>1</th>\n",
              "      <td>21</td>\n",
              "      <td>24.630612</td>\n",
              "    </tr>\n",
              "    <tr>\n",
              "      <th>2</th>\n",
              "      <td>33</td>\n",
              "      <td>32.565498</td>\n",
              "    </tr>\n",
              "    <tr>\n",
              "      <th>3</th>\n",
              "      <td>34</td>\n",
              "      <td>34.549219</td>\n",
              "    </tr>\n",
              "    <tr>\n",
              "      <th>4</th>\n",
              "      <td>42</td>\n",
              "      <td>42.484105</td>\n",
              "    </tr>\n",
              "    <tr>\n",
              "      <th>5</th>\n",
              "      <td>66</td>\n",
              "      <td>64.305042</td>\n",
              "    </tr>\n",
              "    <tr>\n",
              "      <th>6</th>\n",
              "      <td>58</td>\n",
              "      <td>54.386435</td>\n",
              "    </tr>\n",
              "    <tr>\n",
              "      <th>7</th>\n",
              "      <td>12</td>\n",
              "      <td>10.744561</td>\n",
              "    </tr>\n",
              "  </tbody>\n",
              "</table>\n",
              "</div>"
            ],
            "text/plain": [
              "   Actucal data  predicted data\n",
              "0            40       40.500384\n",
              "1            21       24.630612\n",
              "2            33       32.565498\n",
              "3            34       34.549219\n",
              "4            42       42.484105\n",
              "5            66       64.305042\n",
              "6            58       54.386435\n",
              "7            12       10.744561"
            ]
          },
          "metadata": {
            "tags": []
          },
          "execution_count": 30
        }
      ]
    },
    {
      "cell_type": "code",
      "metadata": {
        "colab": {
          "base_uri": "https://localhost:8080/"
        },
        "id": "ddNoJ1HRP35o",
        "outputId": "bd949c8c-ec46-4e1e-a1d5-cfe2ed559c42"
      },
      "source": [
        "hrs = 9\n",
        "model.predict([[hrs]])"
      ],
      "execution_count": 31,
      "outputs": [
        {
          "output_type": "execute_result",
          "data": {
            "text/plain": [
              "array([89.1015613])"
            ]
          },
          "metadata": {
            "tags": []
          },
          "execution_count": 31
        }
      ]
    },
    {
      "cell_type": "code",
      "metadata": {
        "colab": {
          "base_uri": "https://localhost:8080/"
        },
        "id": "D3SOsAvBP_Yw",
        "outputId": "b5581853-2801-4ea9-9aa8-88b0d95516cf"
      },
      "source": [
        "from sklearn import metrics\n",
        "print(\"Mean Squared Error:\",metrics.mean_squared_error(ytest,yPred))\n",
        "print(\"Root Mean Squared Error:\",np.sqrt(metrics.mean_squared_error(ytest,yPred)))"
      ],
      "execution_count": 32,
      "outputs": [
        {
          "output_type": "stream",
          "text": [
            "Mean Squared Error: 3.9579226689064453\n",
            "Root Mean Squared Error: 1.9894528566684975\n"
          ],
          "name": "stdout"
        }
      ]
    },
    {
      "cell_type": "markdown",
      "metadata": {
        "id": "cHag33dRQvGo"
      },
      "source": [
        "#Test2 with Testing data 1/2"
      ]
    },
    {
      "cell_type": "code",
      "metadata": {
        "id": "yDAGI6ToQ4vt"
      },
      "source": [
        "xtrain,xtest,ytrain,ytest = train_test_split(x,y,test_size = 1/2,random_state=1)"
      ],
      "execution_count": 37,
      "outputs": []
    },
    {
      "cell_type": "code",
      "metadata": {
        "colab": {
          "base_uri": "https://localhost:8080/"
        },
        "id": "Nqelgh9ORC84",
        "outputId": "1edd84c9-41ab-4a87-feec-768bdf718aa2"
      },
      "source": [
        "print(xtrain.shape, xtest.shape, ytrain.shape, ytest.shape)"
      ],
      "execution_count": 38,
      "outputs": [
        {
          "output_type": "stream",
          "text": [
            "(11, 1) (12, 1) (11,) (12,)\n"
          ],
          "name": "stdout"
        }
      ]
    },
    {
      "cell_type": "code",
      "metadata": {
        "id": "ZoJVS_P-RICc"
      },
      "source": [
        "model = LinearRegression()\n",
        "mark1_shs = model.fit(xtrain,ytrain)"
      ],
      "execution_count": 39,
      "outputs": []
    },
    {
      "cell_type": "markdown",
      "metadata": {
        "id": "idV6Aa3WRSuo"
      },
      "source": [
        "Visualizing Trained Dataset"
      ]
    },
    {
      "cell_type": "code",
      "metadata": {
        "colab": {
          "base_uri": "https://localhost:8080/",
          "height": 279
        },
        "id": "162G8h0TRLl-",
        "outputId": "55f5dc9e-476b-4c11-f638-ea3f9fb10b6e"
      },
      "source": [
        "plt.figure(figsize=(8,4))\n",
        "plt.scatter(xtrain,ytrain,color=\"g\",marker=\".\")\n",
        "plt.plot(xtrain,model.predict(xtrain),\"r-\")\n",
        "plt.xlabel(\"Studying Hours\")\n",
        "plt.ylabel(\"Percentage Score\")\n",
        "plt.show()"
      ],
      "execution_count": 40,
      "outputs": [
        {
          "output_type": "display_data",
          "data": {
            "image/png": "[encoded data removed]",
            "text/plain": [
              "<Figure size 576x288 with 1 Axes>"
            ]
          },
          "metadata": {
            "tags": [],
            "needs_background": "light"
          }
        }
      ]
    },
    {
      "cell_type": "markdown",
      "metadata": {
        "id": "NNBnf3Y_RYh0"
      },
      "source": [
        "Visualizing Testing Dataset"
      ]
    },
    {
      "cell_type": "code",
      "metadata": {
        "colab": {
          "base_uri": "https://localhost:8080/",
          "height": 283
        },
        "id": "l8tZt8GgRbnk",
        "outputId": "a7ff70d1-ac0c-4afa-bb87-7c008b179863"
      },
      "source": [
        "plt.figure(figsize=(8,4))\n",
        "plt.scatter(xtest,ytest,color=\"b\",marker=\".\")\n",
        "plt.plot(xtest,model.predict(xtest),\"r-\")\n",
        "plt.xlabel(\"Studying Hours\")\n",
        "plt.ylabel(\"Percentage Score\")\n",
        "plt.show()"
      ],
      "execution_count": 41,
      "outputs": [
        {
          "output_type": "display_data",
          "data": {
            "image/png": "[encoded data removed]",
            "text/plain": [
              "<Figure size 576x288 with 1 Axes>"
            ]
          },
          "metadata": {
            "tags": [],
            "needs_background": "light"
          }
        }
      ]
    },
    {
      "cell_type": "code",
      "metadata": {
        "colab": {
          "base_uri": "https://localhost:8080/"
        },
        "id": "nRnHZcHLRfDB",
        "outputId": "212b60a1-8179-4c4f-be96-9e4e1118d789"
      },
      "source": [
        "print(\"Slope of the regression line is:\",model.coef_)\n",
        "print(\"Intercept of the regression line is:\",model.intercept_)"
      ],
      "execution_count": 42,
      "outputs": [
        {
          "output_type": "stream",
          "text": [
            "Slope of the regression line is: [9.77259983]\n",
            "Intercept of the regression line is: 0.816828213241493\n"
          ],
          "name": "stdout"
        }
      ]
    },
    {
      "cell_type": "code",
      "metadata": {
        "colab": {
          "base_uri": "https://localhost:8080/"
        },
        "id": "nOyFz5CtRmF2",
        "outputId": "97257516-c0f2-4365-fdd3-a77691cc134f"
      },
      "source": [
        "print(xtest)"
      ],
      "execution_count": 43,
      "outputs": [
        {
          "output_type": "stream",
          "text": [
            "[[4.1]\n",
            " [2.5]\n",
            " [3.3]\n",
            " [3.5]\n",
            " [4.3]\n",
            " [6.5]\n",
            " [5.5]\n",
            " [1.1]\n",
            " [4.5]\n",
            " [9.6]\n",
            " [2.5]\n",
            " [1.9]]\n"
          ],
          "name": "stdout"
        }
      ]
    },
    {
      "cell_type": "code",
      "metadata": {
        "id": "F8Zr58QGRncf"
      },
      "source": [
        "yPred = model.predict(xtest)"
      ],
      "execution_count": 44,
      "outputs": []
    },
    {
      "cell_type": "code",
      "metadata": {
        "colab": {
          "base_uri": "https://localhost:8080/",
          "height": 426
        },
        "id": "irQuQE8xRuOC",
        "outputId": "271c2f75-95ff-4226-bba9-a3ddbf243190"
      },
      "source": [
        "data = pd.DataFrame({'Actucal data':ytest,'predicted data':yPred})\n",
        "data"
      ],
      "execution_count": 45,
      "outputs": [
        {
          "output_type": "execute_result",
          "data": {
            "text/html": [
              "<div>\n",
              "<style scoped>\n",
              "    .dataframe tbody tr th:only-of-type {\n",
              "        vertical-align: middle;\n",
              "    }\n",
              "\n",
              "    .dataframe tbody tr th {\n",
              "        vertical-align: top;\n",
              "    }\n",
              "\n",
              "    .dataframe thead th {\n",
              "        text-align: right;\n",
              "    }\n",
              "</style>\n",
              "<table border=\"1\" class=\"dataframe\">\n",
              "  <thead>\n",
              "    <tr style=\"text-align: right;\">\n",
              "      <th></th>\n",
              "      <th>Actucal data</th>\n",
              "      <th>predicted data</th>\n",
              "    </tr>\n",
              "  </thead>\n",
              "  <tbody>\n",
              "    <tr>\n",
              "      <th>0</th>\n",
              "      <td>40</td>\n",
              "      <td>40.884488</td>\n",
              "    </tr>\n",
              "    <tr>\n",
              "      <th>1</th>\n",
              "      <td>21</td>\n",
              "      <td>25.248328</td>\n",
              "    </tr>\n",
              "    <tr>\n",
              "      <th>2</th>\n",
              "      <td>33</td>\n",
              "      <td>33.066408</td>\n",
              "    </tr>\n",
              "    <tr>\n",
              "      <th>3</th>\n",
              "      <td>34</td>\n",
              "      <td>35.020928</td>\n",
              "    </tr>\n",
              "    <tr>\n",
              "      <th>4</th>\n",
              "      <td>42</td>\n",
              "      <td>42.839007</td>\n",
              "    </tr>\n",
              "    <tr>\n",
              "      <th>5</th>\n",
              "      <td>66</td>\n",
              "      <td>64.338727</td>\n",
              "    </tr>\n",
              "    <tr>\n",
              "      <th>6</th>\n",
              "      <td>58</td>\n",
              "      <td>54.566127</td>\n",
              "    </tr>\n",
              "    <tr>\n",
              "      <th>7</th>\n",
              "      <td>12</td>\n",
              "      <td>11.566688</td>\n",
              "    </tr>\n",
              "    <tr>\n",
              "      <th>8</th>\n",
              "      <td>45</td>\n",
              "      <td>44.793527</td>\n",
              "    </tr>\n",
              "    <tr>\n",
              "      <th>9</th>\n",
              "      <td>96</td>\n",
              "      <td>94.633787</td>\n",
              "    </tr>\n",
              "    <tr>\n",
              "      <th>10</th>\n",
              "      <td>21</td>\n",
              "      <td>25.248328</td>\n",
              "    </tr>\n",
              "    <tr>\n",
              "      <th>11</th>\n",
              "      <td>19</td>\n",
              "      <td>19.384768</td>\n",
              "    </tr>\n",
              "  </tbody>\n",
              "</table>\n",
              "</div>"
            ],
            "text/plain": [
              "    Actucal data  predicted data\n",
              "0             40       40.884488\n",
              "1             21       25.248328\n",
              "2             33       33.066408\n",
              "3             34       35.020928\n",
              "4             42       42.839007\n",
              "5             66       64.338727\n",
              "6             58       54.566127\n",
              "7             12       11.566688\n",
              "8             45       44.793527\n",
              "9             96       94.633787\n",
              "10            21       25.248328\n",
              "11            19       19.384768"
            ]
          },
          "metadata": {
            "tags": []
          },
          "execution_count": 45
        }
      ]
    },
    {
      "cell_type": "code",
      "metadata": {
        "colab": {
          "base_uri": "https://localhost:8080/"
        },
        "id": "_p5pYzVDR0W3",
        "outputId": "41ca4e66-6bec-4604-b70b-4f851444e750"
      },
      "source": [
        "hrs = 9\n",
        "model.predict([[hrs]])"
      ],
      "execution_count": 46,
      "outputs": [
        {
          "output_type": "execute_result",
          "data": {
            "text/plain": [
              "array([88.7702267])"
            ]
          },
          "metadata": {
            "tags": []
          },
          "execution_count": 46
        }
      ]
    },
    {
      "cell_type": "code",
      "metadata": {
        "colab": {
          "base_uri": "https://localhost:8080/"
        },
        "id": "C69rzV1gR5_E",
        "outputId": "3b11c7bd-e264-4135-e95d-c327b236781e"
      },
      "source": [
        "from sklearn import metrics\n",
        "print(\"Mean Squared Error:\",metrics.mean_squared_error(ytest,yPred))\n",
        "print(\"Root Mean Squared Error:\",np.sqrt(metrics.mean_squared_error(ytest,yPred)))"
      ],
      "execution_count": 47,
      "outputs": [
        {
          "output_type": "stream",
          "text": [
            "Mean Squared Error: 4.618818163230512\n",
            "Root Mean Squared Error: 2.1491435883231516\n"
          ],
          "name": "stdout"
        }
      ]
    },
    {
      "cell_type": "markdown",
      "metadata": {
        "id": "nMou_uH4STPn"
      },
      "source": [
        "#Testing with Testing Data 1/4"
      ]
    },
    {
      "cell_type": "code",
      "metadata": {
        "id": "6PMRKKygSZm4"
      },
      "source": [
        "xtrain,xtest,ytrain,ytest = train_test_split(x,y,test_size = 1/4,random_state=1)"
      ],
      "execution_count": 59,
      "outputs": []
    },
    {
      "cell_type": "code",
      "metadata": {
        "colab": {
          "base_uri": "https://localhost:8080/"
        },
        "id": "cJbQYOdVSfki",
        "outputId": "4defa0d7-89ce-4620-8be7-2cb4e414c085"
      },
      "source": [
        "print(xtrain.shape, xtest.shape, ytrain.shape, ytest.shape)"
      ],
      "execution_count": 60,
      "outputs": [
        {
          "output_type": "stream",
          "text": [
            "(17, 1) (6, 1) (17,) (6,)\n"
          ],
          "name": "stdout"
        }
      ]
    },
    {
      "cell_type": "code",
      "metadata": {
        "id": "9L4aEPN_SiSs"
      },
      "source": [
        "model = LinearRegression()\n",
        "mark1_shs = model.fit(xtrain,ytrain)"
      ],
      "execution_count": 61,
      "outputs": []
    },
    {
      "cell_type": "code",
      "metadata": {
        "colab": {
          "base_uri": "https://localhost:8080/",
          "height": 283
        },
        "id": "4D7-2hmdSlBF",
        "outputId": "38f5ebcb-4867-4297-e435-82384f545dc2"
      },
      "source": [
        "#Visualising Trained Dataset\n",
        "plt.figure(figsize=(8,4))\n",
        "plt.scatter(xtrain,ytrain,color=\"g\",marker=\".\")\n",
        "plt.plot(xtrain,model.predict(xtrain),\"r-\")\n",
        "plt.xlabel(\"Studying Hours\")\n",
        "plt.ylabel(\"Percentage Score\")\n",
        "plt.show()"
      ],
      "execution_count": 62,
      "outputs": [
        {
          "output_type": "display_data",
          "data": {
            "image/png": "[encoded data removed]",
            "text/plain": [
              "<Figure size 576x288 with 1 Axes>"
            ]
          },
          "metadata": {
            "tags": [],
            "needs_background": "light"
          }
        }
      ]
    },
    {
      "cell_type": "code",
      "metadata": {
        "colab": {
          "base_uri": "https://localhost:8080/",
          "height": 279
        },
        "id": "XFzzq9wDStha",
        "outputId": "a5788e94-a233-4614-99f7-a2dfdd9a8f98"
      },
      "source": [
        "#Visualizing Testing Dataset\n",
        "plt.figure(figsize=(8,4))\n",
        "plt.scatter(xtest,ytest,color=\"b\",marker=\".\")\n",
        "plt.plot(xtest,model.predict(xtest),\"r-\")\n",
        "plt.xlabel(\"Studying Hours\")\n",
        "plt.ylabel(\"Percentage Score\")\n",
        "plt.show()"
      ],
      "execution_count": 63,
      "outputs": [
        {
          "output_type": "display_data",
          "data": {
            "image/png": "[encoded data removed]",
            "text/plain": [
              "<Figure size 576x288 with 1 Axes>"
            ]
          },
          "metadata": {
            "tags": [],
            "needs_background": "light"
          }
        }
      ]
    },
    {
      "cell_type": "code",
      "metadata": {
        "colab": {
          "base_uri": "https://localhost:8080/"
        },
        "id": "vmOISbCRS0VK",
        "outputId": "bcf71a1c-2abd-47ba-eba6-eefb28da53b3"
      },
      "source": [
        "print(\"Slope of the regression line is:\",model.coef_)\n",
        "print(\"Intercept of the regression line is:\",model.intercept_)"
      ],
      "execution_count": 64,
      "outputs": [
        {
          "output_type": "stream",
          "text": [
            "Slope of the regression line is: [9.89450802]\n",
            "Intercept of the regression line is: 0.24327089060802365\n"
          ],
          "name": "stdout"
        }
      ]
    },
    {
      "cell_type": "code",
      "metadata": {
        "colab": {
          "base_uri": "https://localhost:8080/"
        },
        "id": "I9VKSl-BS3sT",
        "outputId": "8380294f-481e-4b12-9241-c25134a100e2"
      },
      "source": [
        "print(xtest)"
      ],
      "execution_count": 65,
      "outputs": [
        {
          "output_type": "stream",
          "text": [
            "[[4.1]\n",
            " [2.5]\n",
            " [3.3]\n",
            " [3.5]\n",
            " [4.3]\n",
            " [6.5]]\n"
          ],
          "name": "stdout"
        }
      ]
    },
    {
      "cell_type": "code",
      "metadata": {
        "id": "AhbJQc0CS6v6"
      },
      "source": [
        "yPred = model.predict(xtest)"
      ],
      "execution_count": 66,
      "outputs": []
    },
    {
      "cell_type": "code",
      "metadata": {
        "colab": {
          "base_uri": "https://localhost:8080/",
          "height": 238
        },
        "id": "MjUjWPImS9ar",
        "outputId": "28c5f55d-fb96-4f9d-9241-790a7efcbc2e"
      },
      "source": [
        "data = pd.DataFrame({'Actucal data':ytest,'predicted data':yPred})\n",
        "data"
      ],
      "execution_count": 67,
      "outputs": [
        {
          "output_type": "execute_result",
          "data": {
            "text/html": [
              "<div>\n",
              "<style scoped>\n",
              "    .dataframe tbody tr th:only-of-type {\n",
              "        vertical-align: middle;\n",
              "    }\n",
              "\n",
              "    .dataframe tbody tr th {\n",
              "        vertical-align: top;\n",
              "    }\n",
              "\n",
              "    .dataframe thead th {\n",
              "        text-align: right;\n",
              "    }\n",
              "</style>\n",
              "<table border=\"1\" class=\"dataframe\">\n",
              "  <thead>\n",
              "    <tr style=\"text-align: right;\">\n",
              "      <th></th>\n",
              "      <th>Actucal data</th>\n",
              "      <th>predicted data</th>\n",
              "    </tr>\n",
              "  </thead>\n",
              "  <tbody>\n",
              "    <tr>\n",
              "      <th>0</th>\n",
              "      <td>40</td>\n",
              "      <td>40.810754</td>\n",
              "    </tr>\n",
              "    <tr>\n",
              "      <th>1</th>\n",
              "      <td>21</td>\n",
              "      <td>24.979541</td>\n",
              "    </tr>\n",
              "    <tr>\n",
              "      <th>2</th>\n",
              "      <td>33</td>\n",
              "      <td>32.895147</td>\n",
              "    </tr>\n",
              "    <tr>\n",
              "      <th>3</th>\n",
              "      <td>34</td>\n",
              "      <td>34.874049</td>\n",
              "    </tr>\n",
              "    <tr>\n",
              "      <th>4</th>\n",
              "      <td>42</td>\n",
              "      <td>42.789655</td>\n",
              "    </tr>\n",
              "    <tr>\n",
              "      <th>5</th>\n",
              "      <td>66</td>\n",
              "      <td>64.557573</td>\n",
              "    </tr>\n",
              "  </tbody>\n",
              "</table>\n",
              "</div>"
            ],
            "text/plain": [
              "   Actucal data  predicted data\n",
              "0            40       40.810754\n",
              "1            21       24.979541\n",
              "2            33       32.895147\n",
              "3            34       34.874049\n",
              "4            42       42.789655\n",
              "5            66       64.557573"
            ]
          },
          "metadata": {
            "tags": []
          },
          "execution_count": 67
        }
      ]
    },
    {
      "cell_type": "code",
      "metadata": {
        "colab": {
          "base_uri": "https://localhost:8080/"
        },
        "id": "-VZsNbKxTA9-",
        "outputId": "43b585ba-8855-40ed-ff73-998eb2059d1a"
      },
      "source": [
        "hrs = 9\n",
        "model.predict([[hrs]])"
      ],
      "execution_count": 68,
      "outputs": [
        {
          "output_type": "execute_result",
          "data": {
            "text/plain": [
              "array([89.2938431])"
            ]
          },
          "metadata": {
            "tags": []
          },
          "execution_count": 68
        }
      ]
    },
    {
      "cell_type": "code",
      "metadata": {
        "colab": {
          "base_uri": "https://localhost:8080/"
        },
        "id": "ctvzNTpXTPYw",
        "outputId": "7578fdda-8c41-4ff8-ca93-3a0a3a495f78"
      },
      "source": [
        "from sklearn import metrics\n",
        "print(\"Mean Squared Error:\",metrics.mean_squared_error(ytest,yPred))\n",
        "print(\"Root Mean Squared Error:\",np.sqrt(metrics.mean_squared_error(ytest,yPred)))"
      ],
      "execution_count": 69,
      "outputs": [
        {
          "output_type": "stream",
          "text": [
            "Mean Squared Error: 3.3288624534234503\n",
            "Root Mean Squared Error: 1.824517046624517\n"
          ],
          "name": "stdout"
        }
      ]
    }
  ]
}